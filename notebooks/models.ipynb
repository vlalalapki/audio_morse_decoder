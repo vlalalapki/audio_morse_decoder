{
 "cells": [
  {
   "cell_type": "markdown",
   "id": "4e97f46b",
   "metadata": {},
   "source": [
    "### Baseline"
   ]
  },
  {
   "cell_type": "code",
   "execution_count": 1,
   "id": "155616dd",
   "metadata": {},
   "outputs": [
    {
     "name": "stdout",
     "output_type": "stream",
     "text": [
      "2.6.0+cpu\n"
     ]
    }
   ],
   "source": [
    "import torch\n",
    "\n",
    "print(torch.__version__)"
   ]
  },
  {
   "cell_type": "code",
   "execution_count": 6,
   "id": "9901b001",
   "metadata": {},
   "outputs": [
    {
     "name": "stdout",
     "output_type": "stream",
     "text": [
      "\u001b[2K   \u001b[90m━━━━━━━━━━━━━━━━━━━━━━━━━━━━━━━━━━━━━━━━\u001b[0m \u001b[32m1.3/1.3 MB\u001b[0m \u001b[31m51.0 MB/s\u001b[0m eta \u001b[36m0:00:00\u001b[0m\n",
      "\u001b[?25h"
     ]
    }
   ],
   "source": [
    "# For kaggle GPU\n",
    "from pathlib import Path\n",
    "\n",
    "!pip install -q flashlight-text\n",
    "\n",
    "DATA_DIR = Path(\"/kaggle/input/morse-to-chars/\")\n",
    "AUDIO_FILES_DIR = DATA_DIR / \"morse_dataset\"\n",
    "MODELS_DIR = Path(\"/kaggle/output/models\")\n",
    "SEED = 777"
   ]
  },
  {
   "cell_type": "code",
   "execution_count": 1,
   "id": "2c3b8758",
   "metadata": {},
   "outputs": [],
   "source": [
    "from typing import Callable, Optional, Tuple, Dict, Union, List\n",
    "\n",
    "import librosa\n",
    "import numpy as np\n",
    "import pandas as pd\n",
    "import torch\n",
    "import torch.nn as nn\n",
    "import torch.nn.functional as F\n",
    "from torch.utils.data import Dataset, DataLoader\n",
    "from torch.nn.utils.rnn import pad_sequence\n",
    "import torchaudio\n",
    "from torchaudio.functional import edit_distance\n",
    "from torchaudio.models.decoder import ctc_decoder\n",
    "from tqdm import tqdm, trange\n",
    "from sklearn.model_selection import train_test_split\n",
    "import os\n",
    "import sys\n",
    "from pathlib import Path\n",
    "\n",
    "import IPython\n",
    "import librosa.display as ld\n",
    "import matplotlib.pyplot as plt\n"
   ]
  },
  {
   "cell_type": "code",
   "execution_count": 2,
   "id": "3a8260e0",
   "metadata": {},
   "outputs": [],
   "source": [
    "sys.path.append(\"../src\")\n",
    "\n",
    "from config import DATA_DIR, AUDIO_FILES_DIR, SEED, MODELS_DIR\n",
    "\n",
    "np.random.seed(SEED)\n"
   ]
  },
  {
   "cell_type": "code",
   "execution_count": 3,
   "id": "79914fac",
   "metadata": {},
   "outputs": [
    {
     "data": {
      "text/plain": [
       "WindowsPath('C:/Users/user/Desktop/Jupyter_and_projects/test_kontur/morse_decoder/data/raw/morse_dataset')"
      ]
     },
     "execution_count": 3,
     "metadata": {},
     "output_type": "execute_result"
    }
   ],
   "source": [
    "np.random.seed(SEED)\n",
    "AUDIO_FILES_DIR"
   ]
  },
  {
   "cell_type": "markdown",
   "id": "fc2c5cbf",
   "metadata": {},
   "source": [
    "### ex"
   ]
  },
  {
   "cell_type": "code",
   "execution_count": 17,
   "id": "2f59f6f6",
   "metadata": {},
   "outputs": [
    {
     "ename": "NameError",
     "evalue": "name 'data' is not defined",
     "output_type": "error",
     "traceback": [
      "\u001b[0;31m---------------------------------------------------------------------------\u001b[0m",
      "\u001b[0;31mNameError\u001b[0m                                 Traceback (most recent call last)",
      "\u001b[0;32m/tmp/ipykernel_31/1891082533.py\u001b[0m in \u001b[0;36m<cell line: 0>\u001b[0;34m()\u001b[0m\n\u001b[1;32m      1\u001b[0m \u001b[0msample\u001b[0m \u001b[0;34m=\u001b[0m \u001b[0mnp\u001b[0m\u001b[0;34m.\u001b[0m\u001b[0mrandom\u001b[0m\u001b[0;34m.\u001b[0m\u001b[0mrandint\u001b[0m\u001b[0;34m(\u001b[0m\u001b[0mlow\u001b[0m\u001b[0;34m=\u001b[0m\u001b[0;36m0\u001b[0m\u001b[0;34m,\u001b[0m \u001b[0mhigh\u001b[0m\u001b[0;34m=\u001b[0m\u001b[0;36m30000\u001b[0m\u001b[0;34m,\u001b[0m \u001b[0msize\u001b[0m\u001b[0;34m=\u001b[0m\u001b[0;36m3\u001b[0m\u001b[0;34m)\u001b[0m\u001b[0;34m\u001b[0m\u001b[0;34m\u001b[0m\u001b[0m\n\u001b[0;32m----> 2\u001b[0;31m \u001b[0msample_train\u001b[0m \u001b[0;34m=\u001b[0m \u001b[0mdata\u001b[0m\u001b[0;34m[\u001b[0m\u001b[0;34m\"train\"\u001b[0m\u001b[0;34m]\u001b[0m\u001b[0;34m.\u001b[0m\u001b[0miloc\u001b[0m\u001b[0;34m[\u001b[0m\u001b[0msample\u001b[0m\u001b[0;34m]\u001b[0m\u001b[0;34m\u001b[0m\u001b[0;34m\u001b[0m\u001b[0m\n\u001b[0m\u001b[1;32m      3\u001b[0m \u001b[0msample_train\u001b[0m\u001b[0;34m\u001b[0m\u001b[0;34m\u001b[0m\u001b[0m\n",
      "\u001b[0;31mNameError\u001b[0m: name 'data' is not defined"
     ]
    }
   ],
   "source": [
    "sample = np.random.randint(low=0, high=30000, size=3)\n",
    "sample_train = data[\"train\"].iloc[sample]\n",
    "sample_train"
   ]
  },
  {
   "cell_type": "code",
   "execution_count": null,
   "id": "dcc7b096",
   "metadata": {},
   "outputs": [
    {
     "name": "stdout",
     "output_type": "stream",
     "text": [
      "{'Й', 'С', 'И', 'З', 'Е', '8', ' ', 'Л', 'М', 'Ы', 'Д', 'Ц', 'Ь', 'Н', 'Щ', 'Р', 'Г', 'Ф', '#', 'А', '4'}\n",
      "{0: '<blk>', 1: '|', 2: 'Й', 3: 'С', 4: 'И', 5: 'З', 6: 'Е', 7: '8', 8: ' ', 9: 'Л', 10: 'М', 11: 'Ы', 12: 'Д', 13: 'Ц', 14: 'Ь', 15: 'Н', 16: 'Щ', 17: 'Р', 18: 'Г', 19: 'Ф', 20: '#', 21: 'А', 22: '4'}\n",
      "CPU times: total: 0 ns\n",
      "Wall time: 997 μs\n"
     ]
    }
   ],
   "source": [
    "%%time\n",
    "vocab = {0: \"<blk>\", 1: \"|\"}\n",
    "all = set()\n",
    "for i in sample_train.message:\n",
    "    all = all.union(list(i))\n",
    "\n",
    "print(all)\n",
    "\n",
    "for i, j in enumerate(all):\n",
    "    vocab[i + 2] = j\n",
    "print(vocab)"
   ]
  },
  {
   "cell_type": "code",
   "execution_count": null,
   "id": "44a42c80",
   "metadata": {},
   "outputs": [],
   "source": [
    "tokenizer = Tokenizer(vocab=vocab)\n"
   ]
  },
  {
   "cell_type": "code",
   "execution_count": null,
   "id": "2992b556",
   "metadata": {},
   "outputs": [],
   "source": [
    "dataset = MorseDataset(\n",
    "    X_filenames=sample_train.id,\n",
    "    y_texts=sample_train.message,\n",
    "    transform=path_to_melspect,\n",
    "    tokenizer=tokenizer,\n",
    ")"
   ]
  },
  {
   "cell_type": "code",
   "execution_count": null,
   "id": "d5d0749a",
   "metadata": {},
   "outputs": [],
   "source": [
    "loader = data_loader(dataset, batch_size=2, shuffle=True, drop_last=True)"
   ]
  },
  {
   "cell_type": "code",
   "execution_count": null,
   "id": "8c670aab",
   "metadata": {},
   "outputs": [
    {
     "name": "stdout",
     "output_type": "stream",
     "text": [
      "(176400,)\n",
      "(80, 345)\n",
      "(176400,)\n",
      "(80, 345)\n",
      "torch.Size([2, 128, 173])\n",
      "torch.Size([2, 128, 173])\n",
      "torch.Size([2, 128, 171])\n",
      "torch.Size([2, 171, 256])\n",
      "torch.Size([2, 171, 128])\n",
      "torch.Size([2, 171, 23])\n",
      "['З ЙГ#48ГЛ', 'РМНИЫ8ЦФ']\n"
     ]
    }
   ],
   "source": [
    "for batch in loader:\n",
    "    print(model(batch[\"input\"]).shape)\n",
    "    print(batch[\"target_text\"])"
   ]
  },
  {
   "cell_type": "code",
   "execution_count": null,
   "id": "8bb11700",
   "metadata": {},
   "outputs": [
    {
     "data": {
      "text/plain": [
       "ModelBase(\n",
       "  (conv_part): Sequential(\n",
       "    (0): ConvBlock(\n",
       "      (conv): Conv1d(80, 128, kernel_size=(5,), stride=(2,), padding=(2,))\n",
       "      (norm): LayerNorm((128,), eps=1e-05, elementwise_affine=True)\n",
       "      (relu): ReLU()\n",
       "    )\n",
       "    (1): ConvBlock(\n",
       "      (conv): Conv1d(128, 128, kernel_size=(3,), stride=(1,), padding=(1,))\n",
       "      (norm): LayerNorm((128,), eps=1e-05, elementwise_affine=True)\n",
       "      (relu): ReLU()\n",
       "    )\n",
       "    (2): ConvBlock(\n",
       "      (conv): Conv1d(128, 128, kernel_size=(3,), stride=(1,))\n",
       "      (norm): LayerNorm((128,), eps=1e-05, elementwise_affine=True)\n",
       "      (relu): ReLU()\n",
       "    )\n",
       "  )\n",
       "  (rnn_part): Sequential(\n",
       "    (0): LstmBlock(\n",
       "      (lstm): LSTM(128, 128, num_layers=2, batch_first=True, bidirectional=True)\n",
       "      (norm): LayerNorm((256,), eps=1e-05, elementwise_affine=True)\n",
       "      (drop): Dropout(p=0.2, inplace=False)\n",
       "    )\n",
       "    (1): LstmBlock(\n",
       "      (lstm): LSTM(256, 64, num_layers=2, batch_first=True, bidirectional=True)\n",
       "      (norm): LayerNorm((128,), eps=1e-05, elementwise_affine=True)\n",
       "      (drop): Dropout(p=0.2, inplace=False)\n",
       "    )\n",
       "  )\n",
       "  (clf): Linear(in_features=128, out_features=23, bias=True)\n",
       ")"
      ]
     },
     "metadata": {},
     "output_type": "display_data"
    }
   ],
   "source": [
    "model = ModelBase(\n",
    "    input_size=[80, 345], kernel_chanel=128, conv_out_size=128, vocab_size=len(vocab)\n",
    ")\n",
    "model"
   ]
  },
  {
   "cell_type": "code",
   "execution_count": null,
   "id": "28718f6b",
   "metadata": {},
   "outputs": [],
   "source": []
  },
  {
   "cell_type": "code",
   "execution_count": null,
   "id": "b1bc0451",
   "metadata": {},
   "outputs": [],
   "source": [
    "log_probs = torch.full((15, 2, len(vocab)), fill_value=-float(\"inf\"))\n",
    "\n",
    "blank_idx = 0  #\n",
    "Б = tokenizer.char_index[\"Б\"]\n",
    "Я = tokenizer.char_index[\"Я\"]\n",
    "Х = tokenizer.char_index[\"Х\"]\n",
    "space = tokenizer.char_index[\" \"]\n",
    "\n",
    "#\n",
    "log_probs[0, 0, Б] = 1.0\n",
    "log_probs[1, 0, blank_idx] = 1.0\n",
    "log_probs[2, 0, Я] = 1.0\n",
    "log_probs[3, 0, blank_idx] = 1.0\n",
    "log_probs[4, 0, Х] = 1.0\n",
    "log_probs[5:, 0, blank_idx] = 1.0\n",
    "\n",
    "log_probs[0, 1, Я] = 1.0\n",
    "log_probs[1, 1, blank_idx] = 1.0\n",
    "log_probs[2, 1, space] = 1.0\n",
    "log_probs[3, 1, blank_idx] = 1.0\n",
    "log_probs[4, 1, Б] = 1.0\n",
    "log_probs[5:, 1, blank_idx] = 1.0\n",
    "\n",
    "print(log_probs.shape)\n",
    "log_probs = log_probs.transpose(0, 1)\n",
    "print(log_probs.shape)\n",
    "results = bim_search_decoder(log_probs.contiguous())  # log_probs: [B, T, C]\n",
    "decoded_sequences = []\n",
    "for batch_result in results:  #  это список гипотез\n",
    "    top_hypo = batch_result[0]\n",
    "    tokens = top_hypo.tokens.tolist()\n",
    "    decoded_sequence = tokenizer.decode(tokens)\n",
    "    decoded_sequence = decoded_sequence.strip(\"|\")\n",
    "    decoded_sequences.append(decoded_sequence)\n",
    "\n",
    "print(decoded_sequences)  # → ['БЯХ']\n"
   ]
  },
  {
   "cell_type": "code",
   "execution_count": null,
   "id": "9e11fb21",
   "metadata": {},
   "outputs": [],
   "source": [
    "optimizer = torch.optim.Adam(model.parameters(), lr=1e-3)"
   ]
  },
  {
   "cell_type": "code",
   "execution_count": null,
   "id": "1bc848b6",
   "metadata": {},
   "outputs": [
    {
     "name": "stdout",
     "output_type": "stream",
     "text": [
      "Using device: cpu\n"
     ]
    },
    {
     "name": "stderr",
     "output_type": "stream",
     "text": [
      "Epoch:  50%|█████     | 1/2 [00:00<00:00,  7.13it/s]"
     ]
    },
    {
     "name": "stdout",
     "output_type": "stream",
     "text": [
      "(176400,)\n",
      "(80, 345)\n",
      "(176400,)\n",
      "(80, 345)\n",
      "torch.Size([2, 128, 173])\n",
      "torch.Size([2, 128, 173])\n",
      "torch.Size([2, 128, 171])\n",
      "torch.Size([2, 171, 256])\n",
      "torch.Size([2, 171, 128])\n",
      "Epoch 1 with loss = 7.5531 and metric_train=8.5000\n"
     ]
    },
    {
     "name": "stderr",
     "output_type": "stream",
     "text": []
    },
    {
     "name": "stdout",
     "output_type": "stream",
     "text": [
      "(176400,)\n"
     ]
    },
    {
     "name": "stderr",
     "output_type": "stream",
     "text": [
      "Epoch: 100%|██████████| 2/2 [00:00<00:00,  6.57it/s]"
     ]
    },
    {
     "name": "stdout",
     "output_type": "stream",
     "text": [
      "(80, 345)\n",
      "(176400,)\n",
      "(80, 345)\n",
      "torch.Size([2, 128, 173])\n",
      "torch.Size([2, 128, 173])\n",
      "torch.Size([2, 128, 171])\n",
      "torch.Size([2, 171, 256])\n",
      "torch.Size([2, 171, 128])\n",
      "Epoch 2 with loss = 4.6699 and metric_train=10.0000\n"
     ]
    },
    {
     "name": "stderr",
     "output_type": "stream",
     "text": [
      "\n"
     ]
    }
   ],
   "source": [
    "model, metrics = train_model(\n",
    "    model=model,\n",
    "    train_loader=loader,\n",
    "    optimizer=optimizer,\n",
    "    ctc_loss=loss_ctc,\n",
    "    epochs=2,\n",
    "    metric=edit_distance,\n",
    "    decoder=bim_search_decoder,\n",
    "    tokenizer=tokenizer,\n",
    ")"
   ]
  },
  {
   "cell_type": "markdown",
   "id": "6d55b965",
   "metadata": {},
   "source": [
    "### load and divide"
   ]
  },
  {
   "cell_type": "code",
   "execution_count": 158,
   "id": "966a0740",
   "metadata": {},
   "outputs": [
    {
     "name": "stdout",
     "output_type": "stream",
     "text": [
      "Using device: cpu\n"
     ]
    }
   ],
   "source": [
    "device = torch.device(\"cuda\" if torch.cuda.is_available() else \"cpu\")\n",
    "print(f\"Using device: {device}\")"
   ]
  },
  {
   "cell_type": "code",
   "execution_count": 159,
   "id": "f9dc664b",
   "metadata": {},
   "outputs": [],
   "source": [
    "def load_files(folder_path):\n",
    "    variables = {}\n",
    "\n",
    "    for file_name in os.listdir(folder_path):\n",
    "        file_path = os.path.join(folder_path, file_name)\n",
    "\n",
    "        if file_name.endswith(\".csv\"):\n",
    "            var_name = os.path.splitext(file_name)[0]\n",
    "            variables[var_name] = pd.read_csv(file_path)\n",
    "            print(f\"{var_name} downloaded\")\n",
    "\n",
    "    return variables"
   ]
  },
  {
   "cell_type": "code",
   "execution_count": 160,
   "id": "97c44469",
   "metadata": {},
   "outputs": [],
   "source": [
    "# kaggle\n",
    "data = load_files(DATA_DIR)"
   ]
  },
  {
   "cell_type": "code",
   "execution_count": 161,
   "id": "639d7ce9",
   "metadata": {},
   "outputs": [
    {
     "name": "stdout",
     "output_type": "stream",
     "text": [
      "test downloaded\n",
      "train downloaded\n"
     ]
    }
   ],
   "source": [
    "# local file\n",
    "data = load_files(DATA_DIR.joinpath(\"raw\"))"
   ]
  },
  {
   "cell_type": "code",
   "execution_count": 162,
   "id": "06ed41d4",
   "metadata": {},
   "outputs": [
    {
     "name": "stdout",
     "output_type": "stream",
     "text": [
      "25500\n",
      "25500\n",
      "4500\n",
      "4500\n"
     ]
    }
   ],
   "source": [
    "X_train, X_val, y_train, y_val = train_test_split(\n",
    "    data[\"train\"][\"id\"], data[\"train\"][\"message\"], test_size=0.15, random_state=SEED\n",
    ")\n",
    "for df in [X_train, y_train, X_val, y_val]:\n",
    "    print(len(df))"
   ]
  },
  {
   "cell_type": "code",
   "execution_count": 163,
   "id": "aa87c371",
   "metadata": {},
   "outputs": [
    {
     "name": "stdout",
     "output_type": "stream",
     "text": [
      "Vocab is ready, size = 46\n"
     ]
    }
   ],
   "source": [
    "full_vocab = get_vocab(data[\"train\"][\"message\"])"
   ]
  },
  {
   "cell_type": "code",
   "execution_count": 164,
   "id": "54579e51",
   "metadata": {},
   "outputs": [
    {
     "name": "stdout",
     "output_type": "stream",
     "text": [
      "<blk>\n"
     ]
    }
   ],
   "source": [
    "tokens = list(full_vocab.values())\n",
    "print(tokens[0])"
   ]
  },
  {
   "cell_type": "code",
   "execution_count": 165,
   "id": "4d367741",
   "metadata": {},
   "outputs": [],
   "source": [
    "bim_search_decoder = ctc_decoder(\n",
    "    lexicon=None,\n",
    "    tokens=list(full_vocab.values()),\n",
    "    beam_size=3,\n",
    "    nbest=1,\n",
    "    blank_token=\"<blk>\",\n",
    ")"
   ]
  },
  {
   "cell_type": "code",
   "execution_count": 166,
   "id": "7c2494ee",
   "metadata": {},
   "outputs": [],
   "source": [
    "from functools import partial"
   ]
  },
  {
   "cell_type": "code",
   "execution_count": 167,
   "id": "530b57a4",
   "metadata": {},
   "outputs": [
    {
     "name": "stdout",
     "output_type": "stream",
     "text": [
      "{0: '<blk>', 1: '|', 2: ' ', 3: '#', 4: '0', 5: '1', 6: '2', 7: '3', 8: '4', 9: '5', 10: '6', 11: '7', 12: '8', 13: '9', 14: 'А', 15: 'Б', 16: 'В', 17: 'Г', 18: 'Д', 19: 'Е', 20: 'Ж', 21: 'З', 22: 'И', 23: 'Й', 24: 'К', 25: 'Л', 26: 'М', 27: 'Н', 28: 'О', 29: 'П', 30: 'Р', 31: 'С', 32: 'Т', 33: 'У', 34: 'Ф', 35: 'Х', 36: 'Ц', 37: 'Ч', 38: 'Ш', 39: 'Щ', 40: 'Ъ', 41: 'Ы', 42: 'Ь', 43: 'Э', 44: 'Ю', 45: 'Я'}\n",
      "{'<blk>': 0, '|': 1, ' ': 2, '#': 3, '0': 4, '1': 5, '2': 6, '3': 7, '4': 8, '5': 9, '6': 10, '7': 11, '8': 12, '9': 13, 'А': 14, 'Б': 15, 'В': 16, 'Г': 17, 'Д': 18, 'Е': 19, 'Ж': 20, 'З': 21, 'И': 22, 'Й': 23, 'К': 24, 'Л': 25, 'М': 26, 'Н': 27, 'О': 28, 'П': 29, 'Р': 30, 'С': 31, 'Т': 32, 'У': 33, 'Ф': 34, 'Х': 35, 'Ц': 36, 'Ч': 37, 'Ш': 38, 'Щ': 39, 'Ъ': 40, 'Ы': 41, 'Ь': 42, 'Э': 43, 'Ю': 44, 'Я': 45}\n"
     ]
    }
   ],
   "source": [
    "tokenizer = Tokenizer(vocab=full_vocab)\n",
    "\n",
    "print(tokenizer.index_char)\n",
    "print(tokenizer.char_index)\n",
    "\n",
    "transform = partial(\n",
    "    path_to_melspect_cached,\n",
    "    audio_files_dir=AUDIO_FILES_DIR,\n",
    "    cache_dir=Path(\"./mels_cache\"),\n",
    ")\n",
    "\n",
    "tain_dataset = MorseDataset(\n",
    "    X_filenames=X_train,\n",
    "    y_texts=y_train,\n",
    "    transform=transform,\n",
    "    tokenizer=tokenizer,\n",
    ")\n",
    "\n",
    "train_loader = data_loader(\n",
    "    tain_dataset, batch_size=64, shuffle=True, drop_last=True, num_workers=0\n",
    ")\n",
    "\n",
    "val_dataset = MorseDataset(\n",
    "    X_filenames=X_val, y_texts=y_val, transform=transform, tokenizer=tokenizer\n",
    ")\n",
    "val_loader = data_loader(\n",
    "    val_dataset, batch_size=64, shuffle=False, drop_last=True, num_workers=0\n",
    ")"
   ]
  },
  {
   "cell_type": "code",
   "execution_count": 176,
   "id": "cc18f16a",
   "metadata": {},
   "outputs": [
    {
     "data": {
      "text/plain": [
       "[[12, 28, 32, 16, 32, 42, 12, 2, 31, 25],\n",
       " [16, 17, 31, 41, 41, 18, 11, 24, 12],\n",
       " [9, 9, 45, 32, 43, 11, 43, 19, 38, 2, 35, 22]]"
      ]
     },
     "execution_count": 176,
     "metadata": {},
     "output_type": "execute_result"
    }
   ],
   "source": [
    "tokenizer(list(val_loader.dataset.y_texts[:3]))"
   ]
  },
  {
   "cell_type": "code",
   "execution_count": 177,
   "id": "a1ee5674",
   "metadata": {},
   "outputs": [
    {
     "data": {
      "text/plain": [
       "['8ОТВТЬ8 СЛ', 'ВГСЫЫД7К8', '55ЯТЭ7ЭЕШ ХИ']"
      ]
     },
     "execution_count": 177,
     "metadata": {},
     "output_type": "execute_result"
    }
   ],
   "source": [
    "list(val_loader.dataset.y_texts[:3])"
   ]
  },
  {
   "cell_type": "code",
   "execution_count": null,
   "id": "b4416efc",
   "metadata": {},
   "outputs": [],
   "source": [
    "import torch.nn.init as init\n",
    "\n",
    "\n",
    "def init_weights(module):\n",
    "    if isinstance(module, nn.Conv1d):\n",
    "        init.kaiming_normal_(module.weight, nonlinearity=\"relu\")\n",
    "        if module.bias is not None:\n",
    "            init.constant_(module.bias, 0)\n",
    "\n",
    "    elif isinstance(module, nn.Linear):\n",
    "        init.xavier_uniform_(module.weight)\n",
    "        if module.bias is not None:\n",
    "            init.constant_(module.bias, 0)\n",
    "\n",
    "    elif isinstance(module, nn.LSTM):\n",
    "        for name, param in module.named_parameters():\n",
    "            if \"weight_ih\" in name:\n",
    "                init.xavier_uniform_(param)\n",
    "            elif \"weight_hh\" in name:\n",
    "                init.orthogonal_(param)\n",
    "            elif \"bias\" in name:\n",
    "                init.constant_(param, 0)\n",
    "\n",
    "    elif isinstance(module, nn.LayerNorm):\n",
    "        if module.elementwise_affine:\n",
    "            init.constant_(module.weight, 1.0)\n",
    "            init.constant_(module.bias, 0.0)"
   ]
  },
  {
   "cell_type": "code",
   "execution_count": 179,
   "id": "35204133",
   "metadata": {},
   "outputs": [
    {
     "data": {
      "text/plain": [
       "ModelBase(\n",
       "  (conv_part): Sequential(\n",
       "    (0): ConvBlock(\n",
       "      (conv): Conv1d(80, 128, kernel_size=(5,), stride=(2,), padding=(2,))\n",
       "      (norm): LayerNorm((128,), eps=1e-05, elementwise_affine=True)\n",
       "      (relu): ReLU()\n",
       "    )\n",
       "  )\n",
       "  (rnn_part): Sequential(\n",
       "    (0): LstmBlock(\n",
       "      (lstm): LSTM(128, 64, num_layers=2, batch_first=True, bidirectional=True)\n",
       "      (norm): LayerNorm((128,), eps=1e-05, elementwise_affine=True)\n",
       "      (drop): Dropout(p=0.4, inplace=False)\n",
       "    )\n",
       "  )\n",
       "  (clf): Linear(in_features=128, out_features=46, bias=True)\n",
       ")"
      ]
     },
     "execution_count": 179,
     "metadata": {},
     "output_type": "execute_result"
    }
   ],
   "source": [
    "base_model = ModelBase(\n",
    "    input_size=[80, 345],\n",
    "    kernel_chanel=128,\n",
    "    conv_out_size=128,\n",
    "    vocab_size=len(full_vocab),\n",
    ")\n",
    "base_model.apply(init_weights)\n",
    "\n",
    "optimizer = torch.optim.Adam(base_model.parameters(), lr=0.01)\n",
    "\n",
    "base_model\n"
   ]
  },
  {
   "cell_type": "code",
   "execution_count": 180,
   "id": "a06eee49",
   "metadata": {},
   "outputs": [
    {
     "data": {
      "text/plain": [
       "6393"
      ]
     },
     "execution_count": 180,
     "metadata": {},
     "output_type": "execute_result"
    }
   ],
   "source": [
    "import gc\n",
    "\n",
    "gc.collect()"
   ]
  },
  {
   "cell_type": "code",
   "execution_count": 181,
   "id": "ee3c1efd",
   "metadata": {},
   "outputs": [
    {
     "name": "stdout",
     "output_type": "stream",
     "text": [
      "Using device: cpu\n",
      "\n",
      " Epoch 1/50\n"
     ]
    },
    {
     "name": "stderr",
     "output_type": "stream",
     "text": [
      "Training: 100%|██████████| 398/398 [00:40<00:00,  9.72it/s]\n"
     ]
    },
    {
     "name": "stdout",
     "output_type": "stream",
     "text": [
      "avg max prob: 0.9332262873649597\n",
      "Epoch 1 with loss = 4.2796\n"
     ]
    },
    {
     "name": "stderr",
     "output_type": "stream",
     "text": [
      "                                                                   \r"
     ]
    },
    {
     "name": "stdout",
     "output_type": "stream",
     "text": [
      "GT        : ЬСМЧ6ЦГЖ\n",
      "Argmax    : <blk><blk><blk><blk><blk><blk><blk><blk><blk><blk><blk><blk><blk><blk><blk><blk><blk><blk><blk><blk><blk><blk><blk><blk><blk><blk><blk><blk><blk><blk><blk><blk><blk><blk><blk><blk><blk><blk><blk><blk><blk><blk><blk><blk><blk><blk><blk><blk><blk><blk><blk><blk><blk><blk><blk><blk><blk><blk><blk><blk><blk><blk><blk><blk><blk><blk><blk><blk><blk><blk><blk><blk><blk><blk><blk><blk><blk><blk><blk><blk><blk><blk><blk><blk><blk><blk><blk><blk><blk><blk><blk><blk><blk><blk><blk><blk><blk><blk><blk><blk><blk><blk><blk><blk><blk><blk><blk><blk><blk><blk><blk><blk><blk><blk><blk><blk><blk><blk><blk><blk><blk><blk><blk><blk><blk><blk>\n",
      "Beam      : \n",
      "Argmax: [0, 0, 0, 0, 0, 0, 0, 0, 0, 0, 0, 0, 0, 0, 0, 0, 0, 0, 0, 0]\n",
      "GT        : ФЦСХЛ Щ4ЦФН\n",
      "Argmax    : <blk><blk><blk><blk><blk><blk><blk><blk><blk><blk><blk><blk><blk><blk><blk><blk><blk><blk><blk><blk><blk><blk><blk><blk><blk><blk><blk><blk><blk><blk><blk><blk><blk><blk><blk><blk><blk><blk><blk><blk><blk><blk><blk><blk><blk><blk><blk><blk><blk><blk><blk><blk><blk><blk><blk><blk><blk><blk><blk><blk><blk><blk><blk><blk><blk><blk><blk><blk><blk><blk><blk><blk><blk><blk><blk><blk><blk><blk><blk><blk><blk><blk><blk><blk><blk><blk><blk><blk><blk><blk><blk><blk><blk><blk><blk><blk><blk><blk><blk><blk><blk><blk><blk><blk><blk><blk><blk><blk><blk><blk><blk><blk><blk><blk><blk><blk><blk><blk><blk><blk><blk><blk><blk><blk><blk><blk>\n",
      "Beam      : \n",
      "Argmax: [0, 0, 0, 0, 0, 0, 0, 0, 0, 0, 0, 0, 0, 0, 0, 0, 0, 0, 0, 0]\n",
      "avg max prob: 0.9566938281059265\n",
      "Val Metric=8.8739\n",
      "\n",
      " Epoch 2/50\n"
     ]
    },
    {
     "name": "stderr",
     "output_type": "stream",
     "text": [
      "Training: 100%|██████████| 398/398 [00:38<00:00, 10.23it/s]\n"
     ]
    },
    {
     "name": "stdout",
     "output_type": "stream",
     "text": [
      "avg max prob: 0.9291524887084961\n",
      "Epoch 2 with loss = 4.0364\n"
     ]
    },
    {
     "name": "stderr",
     "output_type": "stream",
     "text": [
      "                                                                   \r"
     ]
    },
    {
     "name": "stdout",
     "output_type": "stream",
     "text": [
      "GT        : ЬСМЧ6ЦГЖ\n",
      "Argmax    : <blk><blk><blk><blk><blk><blk><blk><blk><blk><blk><blk><blk><blk><blk><blk><blk><blk><blk><blk><blk><blk><blk><blk><blk><blk><blk><blk><blk><blk><blk><blk><blk><blk><blk><blk><blk><blk><blk><blk><blk><blk><blk><blk><blk><blk><blk><blk><blk><blk><blk><blk><blk><blk><blk><blk><blk><blk><blk><blk><blk><blk><blk><blk><blk><blk><blk><blk><blk><blk><blk><blk><blk><blk><blk><blk><blk><blk><blk><blk><blk><blk><blk><blk><blk><blk><blk><blk><blk><blk><blk><blk><blk><blk><blk><blk><blk><blk><blk><blk><blk><blk><blk><blk><blk><blk><blk><blk><blk><blk><blk><blk><blk><blk><blk><blk><blk><blk><blk><blk><blk><blk><blk><blk><blk><blk><blk>\n",
      "Beam      : \n",
      "Argmax: [0, 0, 0, 0, 0, 0, 0, 0, 0, 0, 0, 0, 0, 0, 0, 0, 0, 0, 0, 0]\n",
      "GT        : ФЦСХЛ Щ4ЦФН\n",
      "Argmax    : <blk><blk><blk><blk><blk><blk><blk><blk><blk><blk><blk><blk><blk><blk><blk><blk><blk><blk><blk><blk><blk><blk><blk><blk><blk><blk><blk><blk><blk><blk><blk><blk><blk><blk><blk><blk><blk><blk><blk><blk><blk><blk><blk><blk><blk><blk><blk><blk><blk><blk><blk><blk><blk><blk><blk><blk><blk><blk><blk><blk><blk><blk><blk><blk><blk><blk><blk><blk><blk><blk><blk><blk><blk><blk><blk><blk><blk><blk><blk><blk><blk><blk><blk><blk><blk><blk><blk><blk><blk><blk><blk><blk><blk><blk><blk><blk><blk><blk><blk><blk><blk><blk><blk><blk><blk><blk><blk><blk><blk><blk><blk><blk><blk><blk><blk><blk><blk><blk><blk><blk><blk><blk><blk><blk><blk><blk>\n",
      "Beam      : \n",
      "Argmax: [0, 0, 0, 0, 0, 0, 0, 0, 0, 0, 0, 0, 0, 0, 0, 0, 0, 0, 0, 0]\n",
      "avg max prob: 0.9529856443405151\n",
      "Val Metric=8.8739\n",
      "\n",
      " Epoch 3/50\n"
     ]
    },
    {
     "name": "stderr",
     "output_type": "stream",
     "text": [
      "Training: 100%|██████████| 398/398 [00:38<00:00, 10.22it/s]\n"
     ]
    },
    {
     "name": "stdout",
     "output_type": "stream",
     "text": [
      "avg max prob: 0.9306018948554993\n",
      "Epoch 3 with loss = 4.0299\n"
     ]
    },
    {
     "name": "stderr",
     "output_type": "stream",
     "text": [
      "                                                                   \r"
     ]
    },
    {
     "name": "stdout",
     "output_type": "stream",
     "text": [
      "GT        : ЬСМЧ6ЦГЖ\n",
      "Argmax    : <blk><blk><blk><blk><blk><blk><blk><blk><blk><blk><blk><blk><blk><blk><blk><blk><blk><blk><blk><blk><blk><blk><blk><blk><blk><blk><blk><blk><blk><blk><blk><blk><blk><blk><blk><blk><blk><blk><blk><blk><blk><blk><blk><blk><blk><blk><blk><blk><blk><blk><blk><blk><blk><blk><blk><blk><blk><blk><blk><blk><blk><blk><blk><blk><blk><blk><blk><blk><blk><blk><blk><blk><blk><blk><blk><blk><blk><blk><blk><blk><blk><blk><blk><blk><blk><blk><blk><blk><blk><blk><blk><blk><blk><blk><blk><blk><blk><blk><blk><blk><blk><blk><blk><blk><blk><blk><blk><blk><blk><blk><blk><blk><blk><blk><blk><blk><blk><blk><blk><blk><blk><blk><blk><blk><blk><blk>\n",
      "Beam      : \n",
      "Argmax: [0, 0, 0, 0, 0, 0, 0, 0, 0, 0, 0, 0, 0, 0, 0, 0, 0, 0, 0, 0]\n",
      "GT        : ФЦСХЛ Щ4ЦФН\n",
      "Argmax    : <blk><blk><blk><blk><blk><blk><blk><blk><blk><blk><blk><blk><blk><blk><blk><blk><blk><blk><blk><blk><blk><blk><blk><blk><blk><blk><blk><blk><blk><blk><blk><blk><blk><blk><blk><blk><blk><blk><blk><blk><blk><blk><blk><blk><blk><blk><blk><blk><blk><blk><blk><blk><blk><blk><blk><blk><blk><blk><blk><blk><blk><blk><blk><blk><blk><blk><blk><blk><blk><blk><blk><blk><blk><blk><blk><blk><blk><blk><blk><blk><blk><blk><blk><blk><blk><blk><blk><blk><blk><blk><blk><blk><blk><blk><blk><blk><blk><blk><blk><blk><blk><blk><blk><blk><blk><blk><blk><blk><blk><blk><blk><blk><blk><blk><blk><blk><blk><blk><blk><blk><blk><blk><blk><blk><blk><blk>\n",
      "Beam      : \n",
      "Argmax: [0, 0, 0, 0, 0, 0, 0, 0, 0, 0, 0, 0, 0, 0, 0, 0, 0, 0, 0, 0]\n",
      "avg max prob: 0.9523771405220032\n",
      "Val Metric=8.8739\n",
      "\n",
      " Epoch 4/50\n"
     ]
    },
    {
     "name": "stderr",
     "output_type": "stream",
     "text": [
      "Training: 100%|██████████| 398/398 [00:39<00:00, 10.14it/s]\n"
     ]
    },
    {
     "name": "stdout",
     "output_type": "stream",
     "text": [
      "avg max prob: 0.9326310157775879\n",
      "Epoch 4 with loss = 4.0248\n"
     ]
    },
    {
     "name": "stderr",
     "output_type": "stream",
     "text": [
      "                                                                   \r"
     ]
    },
    {
     "name": "stdout",
     "output_type": "stream",
     "text": [
      "GT        : ЬСМЧ6ЦГЖ\n",
      "Argmax    : <blk><blk><blk><blk><blk><blk><blk><blk><blk><blk><blk><blk><blk><blk><blk><blk><blk><blk><blk><blk><blk><blk><blk><blk><blk><blk><blk><blk><blk><blk><blk><blk><blk><blk><blk><blk><blk><blk><blk><blk><blk><blk><blk><blk><blk><blk><blk><blk><blk><blk><blk><blk><blk><blk><blk><blk><blk><blk><blk><blk><blk><blk><blk><blk><blk><blk><blk><blk><blk><blk><blk><blk><blk><blk><blk><blk><blk><blk><blk><blk><blk><blk><blk><blk><blk><blk><blk><blk><blk><blk><blk><blk><blk><blk><blk><blk><blk><blk><blk><blk><blk><blk><blk><blk><blk><blk><blk><blk><blk><blk><blk><blk><blk><blk><blk><blk><blk><blk><blk><blk><blk><blk><blk><blk><blk><blk>\n",
      "Beam      : \n",
      "Argmax: [0, 0, 0, 0, 0, 0, 0, 0, 0, 0, 0, 0, 0, 0, 0, 0, 0, 0, 0, 0]\n",
      "GT        : ФЦСХЛ Щ4ЦФН\n",
      "Argmax    : <blk><blk><blk><blk><blk><blk><blk><blk><blk><blk><blk><blk><blk><blk><blk><blk><blk><blk><blk><blk><blk><blk><blk><blk><blk><blk><blk><blk><blk><blk><blk><blk><blk><blk><blk><blk><blk><blk><blk><blk><blk><blk><blk><blk><blk><blk><blk><blk><blk><blk><blk><blk><blk><blk><blk><blk><blk><blk><blk><blk><blk><blk><blk><blk><blk><blk><blk><blk><blk><blk><blk><blk><blk><blk><blk><blk><blk><blk><blk><blk><blk><blk><blk><blk><blk><blk><blk><blk><blk><blk><blk><blk><blk><blk><blk><blk><blk><blk><blk><blk><blk><blk><blk><blk><blk><blk><blk><blk><blk><blk><blk><blk><blk><blk><blk><blk><blk><blk><blk><blk><blk><blk><blk><blk><blk><blk>\n",
      "Beam      : \n",
      "Argmax: [0, 0, 0, 0, 0, 0, 0, 0, 0, 0, 0, 0, 0, 0, 0, 0, 0, 0, 0, 0]\n",
      "avg max prob: 0.9517932534217834\n",
      "Val Metric=8.8739\n",
      "\n",
      " Epoch 5/50\n"
     ]
    },
    {
     "name": "stderr",
     "output_type": "stream",
     "text": [
      "Training: 100%|██████████| 398/398 [00:38<00:00, 10.33it/s]\n"
     ]
    },
    {
     "name": "stdout",
     "output_type": "stream",
     "text": [
      "avg max prob: 0.9312642812728882\n",
      "Epoch 5 with loss = 4.0089\n"
     ]
    },
    {
     "name": "stderr",
     "output_type": "stream",
     "text": [
      "                                                                   \r"
     ]
    },
    {
     "name": "stdout",
     "output_type": "stream",
     "text": [
      "GT        : ЬСМЧ6ЦГЖ\n",
      "Argmax    : <blk><blk><blk><blk><blk><blk><blk><blk><blk><blk><blk><blk><blk><blk><blk><blk><blk><blk><blk><blk><blk><blk><blk><blk><blk><blk><blk><blk><blk><blk><blk><blk><blk><blk><blk><blk><blk><blk><blk><blk><blk><blk><blk><blk><blk><blk><blk><blk><blk><blk><blk><blk><blk><blk><blk><blk><blk><blk><blk><blk><blk><blk><blk><blk><blk><blk><blk><blk><blk><blk><blk><blk><blk><blk><blk><blk><blk><blk><blk><blk><blk><blk><blk><blk><blk><blk><blk><blk><blk><blk><blk><blk><blk><blk><blk><blk><blk><blk><blk><blk><blk><blk><blk><blk><blk><blk><blk><blk><blk><blk><blk><blk><blk><blk><blk><blk><blk><blk><blk><blk><blk><blk><blk><blk><blk><blk>\n",
      "Beam      : \n",
      "Argmax: [0, 0, 0, 0, 0, 0, 0, 0, 0, 0, 0, 0, 0, 0, 0, 0, 0, 0, 0, 0]\n",
      "GT        : ФЦСХЛ Щ4ЦФН\n",
      "Argmax    : <blk><blk><blk><blk><blk><blk><blk><blk><blk><blk><blk><blk><blk><blk><blk><blk><blk><blk><blk><blk><blk><blk><blk><blk><blk><blk><blk><blk><blk><blk><blk><blk><blk><blk><blk><blk><blk><blk><blk><blk><blk><blk><blk><blk><blk><blk><blk><blk><blk><blk><blk><blk><blk><blk><blk><blk><blk><blk><blk><blk><blk><blk><blk><blk><blk><blk><blk><blk><blk><blk><blk><blk><blk><blk><blk><blk><blk><blk><blk><blk><blk><blk><blk><blk><blk><blk><blk><blk><blk><blk><blk><blk><blk><blk><blk><blk><blk><blk><blk><blk><blk><blk><blk><blk><blk><blk><blk><blk><blk><blk><blk><blk><blk><blk><blk><blk><blk><blk><blk><blk><blk><blk><blk><blk><blk><blk>\n",
      "Beam      : \n",
      "Argmax: [0, 0, 0, 0, 0, 0, 0, 0, 0, 0, 0, 0, 0, 0, 0, 0, 0, 0, 0, 0]\n",
      "avg max prob: 0.9506073594093323\n",
      "Val Metric=8.8739\n",
      "\n",
      " Epoch 6/50\n"
     ]
    },
    {
     "name": "stderr",
     "output_type": "stream",
     "text": [
      "Training: 100%|██████████| 398/398 [00:39<00:00, 10.11it/s]\n"
     ]
    },
    {
     "name": "stdout",
     "output_type": "stream",
     "text": [
      "avg max prob: 0.9281665086746216\n",
      "Epoch 6 with loss = 3.9672\n"
     ]
    },
    {
     "name": "stderr",
     "output_type": "stream",
     "text": [
      "                                                                   \r"
     ]
    },
    {
     "name": "stdout",
     "output_type": "stream",
     "text": [
      "GT        : ЬСМЧ6ЦГЖ\n",
      "Argmax    : <blk><blk><blk><blk><blk><blk><blk><blk><blk><blk><blk><blk><blk><blk><blk><blk><blk><blk><blk><blk><blk><blk><blk><blk><blk><blk><blk><blk><blk><blk><blk><blk><blk><blk><blk><blk><blk><blk><blk><blk><blk><blk><blk><blk><blk><blk><blk><blk><blk><blk><blk><blk><blk><blk><blk><blk><blk><blk><blk><blk><blk><blk><blk><blk><blk><blk><blk><blk><blk><blk><blk><blk><blk><blk><blk><blk><blk><blk><blk><blk><blk><blk><blk><blk><blk><blk><blk><blk><blk><blk><blk><blk><blk><blk><blk><blk><blk><blk><blk><blk><blk><blk><blk><blk><blk><blk><blk><blk><blk><blk><blk><blk><blk><blk><blk><blk><blk><blk><blk><blk><blk><blk><blk><blk><blk><blk>\n",
      "Beam      : \n",
      "Argmax: [0, 0, 0, 0, 0, 0, 0, 0, 0, 0, 0, 0, 0, 0, 0, 0, 0, 0, 0, 0]\n",
      "GT        : ФЦСХЛ Щ4ЦФН\n",
      "Argmax    : <blk><blk><blk><blk><blk><blk><blk><blk><blk><blk><blk><blk><blk><blk><blk><blk><blk><blk><blk><blk><blk><blk><blk><blk><blk><blk><blk><blk><blk><blk><blk><blk><blk><blk><blk><blk><blk><blk><blk><blk><blk><blk><blk><blk><blk><blk><blk><blk><blk><blk><blk><blk><blk><blk><blk> <blk><blk><blk><blk><blk><blk><blk><blk><blk><blk><blk><blk><blk><blk><blk><blk><blk><blk><blk><blk><blk><blk><blk><blk><blk><blk><blk><blk><blk><blk><blk><blk><blk><blk><blk><blk><blk><blk><blk><blk><blk><blk><blk><blk><blk><blk><blk><blk><blk><blk><blk><blk><blk><blk><blk><blk><blk><blk><blk><blk><blk><blk><blk><blk><blk><blk><blk><blk><blk><blk>\n",
      "Beam      :  \n",
      "Argmax: [0, 0, 0, 0, 0, 0, 0, 0, 0, 0, 0, 0, 0, 0, 0, 0, 0, 0, 0, 0]\n",
      "avg max prob: 0.947587251663208\n",
      "Val Metric=8.5951\n",
      "\n",
      " Epoch 7/50\n"
     ]
    },
    {
     "name": "stderr",
     "output_type": "stream",
     "text": [
      "Training: 100%|██████████| 398/398 [00:39<00:00,  9.96it/s]\n"
     ]
    },
    {
     "name": "stdout",
     "output_type": "stream",
     "text": [
      "avg max prob: 0.9534834623336792\n",
      "Epoch 7 with loss = 3.3022\n"
     ]
    },
    {
     "name": "stderr",
     "output_type": "stream",
     "text": [
      "                                                                   \r"
     ]
    },
    {
     "name": "stdout",
     "output_type": "stream",
     "text": [
      "GT        : ЬСМЧ6ЦГЖ\n",
      "Argmax    : <blk><blk><blk><blk><blk><blk><blk><blk><blk><blk><blk><blk><blk><blk><blk><blk><blk><blk><blk><blk><blk>Ы<blk><blk><blk><blk><blk><blk><blk><blk><blk><blk><blk>Н<blk><blk><blk><blk><blk><blk>М<blk><blk><blk><blk><blk><blk><blk><blk>Ч<blk><blk><blk><blk><blk><blk><blk><blk><blk><blk><blk><blk>6<blk><blk><blk><blk><blk><blk><blk><blk><blk><blk><blk>Ц<blk><blk><blk><blk><blk><blk><blk><blk><blk><blk><blk>Г<blk><blk><blk><blk><blk><blk><blk><blk>Ж<blk><blk><blk><blk><blk><blk><blk><blk><blk><blk><blk><blk><blk><blk><blk><blk><blk><blk><blk><blk><blk><blk><blk><blk><blk><blk><blk><blk><blk><blk>\n",
      "Beam      : ЫНМЧ6ЦГЖ\n",
      "Argmax: [0, 0, 0, 0, 0, 0, 0, 0, 0, 0, 0, 0, 0, 0, 0, 0, 0, 0, 0, 0]\n",
      "GT        : ФЦСХЛ Щ4ЦФН\n",
      "Argmax    : <blk><blk><blk><blk><blk><blk><blk><blk>Ц<blk><blk><blk><blk><blk><blk><blk><blk><blk>Ц<blk><blk><blk><blk><blk><blk><blk><blk><blk><blk><blk>0<blk><blk><blk><blk><blk><blk><blk><blk><blk><blk><blk><blk><blk><blk><blk><blk><blk><blk><blk><blk><blk><blk><blk><blk> <blk>7<blk><blk><blk><blk><blk><blk><blk><blk><blk><blk><blk><blk>4<blk><blk><blk><blk><blk><blk><blk><blk><blk><blk>Ц<blk><blk><blk><blk><blk><blk><blk><blk><blk><blk><blk><blk>Ф<blk><blk><blk><blk><blk><blk><blk><blk><blk><blk>Н<blk><blk><blk><blk><blk><blk><blk><blk><blk><blk><blk><blk><blk><blk><blk><blk><blk><blk><blk><blk>\n",
      "Beam      : ЦЦ0 74ЦФН\n",
      "Argmax: [0, 0, 0, 0, 0, 0, 0, 0, 36, 0, 0, 0, 0, 0, 0, 0, 0, 0, 36, 0]\n",
      "avg max prob: 0.9580957889556885\n",
      "Val Metric=4.1567\n",
      "\n",
      " Epoch 8/50\n"
     ]
    },
    {
     "name": "stderr",
     "output_type": "stream",
     "text": [
      "Training: 100%|██████████| 398/398 [00:39<00:00,  9.96it/s]\n"
     ]
    },
    {
     "name": "stdout",
     "output_type": "stream",
     "text": [
      "avg max prob: 0.9807456731796265\n",
      "Epoch 8 with loss = 1.2467\n"
     ]
    },
    {
     "name": "stderr",
     "output_type": "stream",
     "text": [
      "                                                                   \r"
     ]
    },
    {
     "name": "stdout",
     "output_type": "stream",
     "text": [
      "GT        : ЬСМЧ6ЦГЖ\n",
      "Argmax    : <blk><blk><blk><blk><blk><blk><blk><blk><blk><blk><blk><blk><blk><blk><blk><blk><blk><blk><blk><blk><blk>Ь<blk><blk><blk><blk><blk><blk><blk><blk><blk><blk><blk>С<blk><blk><blk><blk><blk><blk>М<blk><blk><blk><blk><blk><blk><blk><blk>Ч<blk><blk><blk><blk><blk><blk><blk><blk><blk><blk><blk><blk>66<blk><blk><blk><blk><blk><blk><blk><blk><blk><blk>Ц<blk><blk><blk><blk><blk><blk><blk><blk><blk><blk><blk>Г<blk><blk><blk><blk><blk><blk><blk><blk>Ж<blk><blk><blk><blk><blk><blk><blk><blk><blk><blk><blk><blk><blk><blk><blk><blk><blk><blk><blk><blk><blk><blk><blk><blk><blk><blk><blk><blk><blk><blk>\n",
      "Beam      : ЬСМЧ6ЦГЖ\n",
      "Argmax: [0, 0, 0, 0, 0, 0, 0, 0, 0, 0, 0, 0, 0, 0, 0, 0, 0, 0, 0, 0]\n",
      "GT        : ФЦСХЛ Щ4ЦФН\n",
      "Argmax    : <blk><blk><blk><blk><blk><blk><blk><blk>Г<blk><blk><blk><blk><blk><blk><blk><blk><blk>Ц<blk><blk><blk><blk><blk><blk><blk><blk><blk><blk><blk>Х<blk><blk><blk><blk><blk>Х<blk><blk><blk><blk><blk><blk><blk>Л<blk><blk><blk><blk><blk><blk><blk><blk><blk>  <blk>Щ<blk><blk><blk><blk><blk><blk><blk><blk><blk><blk><blk><blk>4<blk><blk><blk><blk><blk><blk><blk><blk><blk><blk>Ц<blk><blk><blk><blk><blk><blk><blk><blk><blk><blk><blk><blk>Э<blk><blk><blk><blk><blk><blk><blk><blk><blk><blk>Н<blk><blk><blk><blk><blk><blk><blk><blk><blk><blk><blk><blk><blk><blk><blk><blk><blk><blk><blk><blk>\n",
      "Beam      : ГЦХХЛ Щ4ЦЭН\n",
      "Argmax: [0, 0, 0, 0, 0, 0, 0, 0, 17, 0, 0, 0, 0, 0, 0, 0, 0, 0, 36, 0]\n",
      "avg max prob: 0.9829662442207336\n",
      "Val Metric=1.9623\n",
      "\n",
      " Epoch 9/50\n"
     ]
    },
    {
     "name": "stderr",
     "output_type": "stream",
     "text": [
      "Training: 100%|██████████| 398/398 [00:39<00:00, 10.05it/s]\n"
     ]
    },
    {
     "name": "stdout",
     "output_type": "stream",
     "text": [
      "avg max prob: 0.9856698513031006\n",
      "Epoch 9 with loss = 0.8300\n"
     ]
    },
    {
     "name": "stderr",
     "output_type": "stream",
     "text": [
      "                                                                   \r"
     ]
    },
    {
     "name": "stdout",
     "output_type": "stream",
     "text": [
      "GT        : ЬСМЧ6ЦГЖ\n",
      "Argmax    : <blk><blk><blk><blk><blk><blk><blk><blk><blk><blk><blk><blk><blk><blk><blk><blk><blk><blk><blk><blk><blk>Ь<blk><blk><blk><blk><blk><blk><blk><blk><blk><blk><blk>С<blk><blk><blk><blk><blk><blk>М<blk><blk><blk><blk><blk><blk><blk><blk>Ч<blk><blk><blk><blk><blk><blk><blk><blk><blk><blk><blk><blk><blk>6<blk><blk><blk><blk><blk><blk><blk><blk><blk><blk>Ц<blk><blk><blk><blk><blk><blk><blk><blk><blk><blk><blk>Г<blk><blk><blk><blk><blk><blk><blk><blk>Ж<blk><blk><blk><blk><blk><blk><blk><blk><blk><blk><blk><blk><blk><blk><blk><blk><blk><blk><blk><blk><blk><blk><blk><blk><blk><blk><blk><blk><blk><blk>\n",
      "Beam      : ЬСМЧ6ЦГЖ\n",
      "Argmax: [0, 0, 0, 0, 0, 0, 0, 0, 0, 0, 0, 0, 0, 0, 0, 0, 0, 0, 0, 0]\n",
      "GT        : ФЦСХЛ Щ4ЦФН\n",
      "Argmax    : <blk><blk><blk><blk><blk><blk><blk><blk>Ф<blk><blk><blk><blk><blk><blk><blk><blk><blk>Ц<blk><blk><blk><blk><blk><blk><blk><blk><blk><blk><blk>С<blk><blk><blk><blk><blk>Х<blk><blk><blk><blk><blk><blk><blk>Л<blk><blk><blk><blk><blk><blk><blk><blk><blk>  <blk>Щ<blk><blk><blk><blk><blk><blk><blk><blk><blk><blk><blk><blk>4<blk><blk><blk><blk><blk><blk><blk><blk><blk><blk>Ц<blk><blk><blk><blk><blk><blk><blk><blk><blk><blk><blk><blk>Э<blk><blk><blk><blk><blk><blk><blk><blk><blk><blk>Н<blk><blk><blk><blk><blk><blk><blk><blk><blk><blk><blk><blk><blk><blk><blk><blk><blk><blk><blk><blk>\n",
      "Beam      : ФЦСХЛ Щ4ЦЭН\n",
      "Argmax: [0, 0, 0, 0, 0, 0, 0, 0, 34, 0, 0, 0, 0, 0, 0, 0, 0, 0, 36, 0]\n",
      "avg max prob: 0.9872901439666748\n",
      "Val Metric=1.5799\n",
      "\n",
      " Epoch 10/50\n"
     ]
    },
    {
     "name": "stderr",
     "output_type": "stream",
     "text": [
      "Training: 100%|██████████| 398/398 [00:39<00:00, 10.02it/s]\n"
     ]
    },
    {
     "name": "stdout",
     "output_type": "stream",
     "text": [
      "avg max prob: 0.9853307604789734\n",
      "Epoch 10 with loss = 0.7132\n"
     ]
    },
    {
     "name": "stderr",
     "output_type": "stream",
     "text": [
      "                                                                    \r"
     ]
    },
    {
     "name": "stdout",
     "output_type": "stream",
     "text": [
      "GT        : ЬСМЧ6ЦГЖ\n",
      "Argmax    : <blk><blk><blk><blk><blk><blk><blk><blk><blk><blk><blk><blk><blk><blk><blk><blk><blk><blk><blk><blk><blk>Ь<blk><blk><blk><blk><blk><blk><blk><blk><blk><blk><blk>С<blk><blk><blk><blk><blk><blk>М<blk><blk><blk><blk><blk><blk><blk><blk>Ч<blk><blk><blk><blk><blk><blk><blk><blk><blk><blk><blk><blk>6<blk><blk><blk><blk><blk><blk><blk><blk><blk><blk><blk>Ц<blk><blk><blk><blk><blk><blk><blk><blk><blk><blk><blk>Г<blk><blk><blk><blk><blk><blk><blk><blk>Ж<blk><blk><blk><blk><blk><blk><blk><blk><blk><blk><blk><blk><blk><blk><blk><blk><blk><blk><blk><blk><blk><blk><blk><blk><blk><blk><blk><blk><blk><blk>\n",
      "Beam      : ЬСМЧ6ЦГЖ\n",
      "Argmax: [0, 0, 0, 0, 0, 0, 0, 0, 0, 0, 0, 0, 0, 0, 0, 0, 0, 0, 0, 0]\n",
      "GT        : ФЦСХЛ Щ4ЦФН\n",
      "Argmax    : <blk><blk><blk><blk><blk><blk><blk><blk>Ф<blk><blk><blk><blk><blk><blk><blk><blk><blk>Ц<blk><blk><blk><blk><blk><blk><blk><blk><blk><blk><blk>С<blk><blk><blk><blk><blk>Х<blk><blk><blk><blk><blk><blk><blk><blk><blk><blk><blk><blk><blk><blk><blk><blk><blk> <blk><blk>Щ<blk><blk><blk><blk><blk><blk><blk><blk><blk><blk><blk><blk>4<blk><blk><blk><blk><blk><blk><blk><blk><blk><blk>Ц<blk><blk><blk><blk><blk><blk><blk><blk><blk><blk><blk><blk>Э<blk><blk><blk><blk><blk><blk><blk><blk><blk><blk>Н<blk><blk><blk><blk><blk><blk><blk><blk><blk><blk><blk><blk><blk><blk><blk><blk><blk><blk><blk><blk>\n",
      "Beam      : ФЦСХ Щ4ЦЭН\n",
      "Argmax: [0, 0, 0, 0, 0, 0, 0, 0, 34, 0, 0, 0, 0, 0, 0, 0, 0, 0, 36, 0]\n",
      "avg max prob: 0.9886274933815002\n",
      "Val Metric=1.4391\n",
      "\n",
      " Epoch 11/50\n"
     ]
    },
    {
     "name": "stderr",
     "output_type": "stream",
     "text": [
      "Training: 100%|██████████| 398/398 [00:40<00:00,  9.91it/s]\n"
     ]
    },
    {
     "name": "stdout",
     "output_type": "stream",
     "text": [
      "avg max prob: 0.9862238764762878\n",
      "Epoch 11 with loss = 0.6414\n"
     ]
    },
    {
     "name": "stderr",
     "output_type": "stream",
     "text": [
      "                                                                    \r"
     ]
    },
    {
     "name": "stdout",
     "output_type": "stream",
     "text": [
      "GT        : ЬСМЧ6ЦГЖ\n",
      "Argmax    : <blk><blk><blk><blk><blk><blk><blk><blk><blk><blk><blk><blk><blk><blk><blk><blk><blk><blk><blk><blk><blk>Ь<blk><blk><blk><blk><blk><blk><blk><blk><blk><blk><blk>С<blk><blk><blk><blk><blk><blk>М<blk><blk><blk><blk><blk><blk><blk><blk>Ч<blk><blk><blk><blk><blk><blk><blk><blk><blk><blk><blk><blk>6<blk><blk><blk><blk><blk><blk><blk><blk><blk><blk><blk>Ц<blk><blk><blk><blk><blk><blk><blk><blk><blk><blk><blk>Г<blk><blk><blk><blk><blk><blk><blk><blk>Ж<blk><blk><blk><blk><blk><blk><blk><blk><blk><blk><blk><blk><blk><blk><blk><blk><blk><blk><blk><blk><blk><blk><blk><blk><blk><blk><blk><blk><blk><blk>\n",
      "Beam      : ЬСМЧ6ЦГЖ\n",
      "Argmax: [0, 0, 0, 0, 0, 0, 0, 0, 0, 0, 0, 0, 0, 0, 0, 0, 0, 0, 0, 0]\n",
      "GT        : ФЦСХЛ Щ4ЦФН\n",
      "Argmax    : <blk><blk><blk><blk><blk><blk><blk><blk>Ф<blk><blk><blk><blk><blk><blk><blk><blk><blk>Ц<blk><blk><blk><blk><blk><blk><blk><blk><blk><blk><blk>С<blk><blk><blk><blk><blk>Х<blk><blk><blk><blk><blk><blk><blk>Л<blk><blk><blk><blk><blk><blk><blk><blk><blk> <blk><blk>Щ<blk><blk><blk><blk><blk><blk><blk><blk><blk><blk><blk><blk>4<blk><blk><blk><blk><blk><blk><blk><blk><blk><blk>Ц<blk><blk><blk><blk><blk><blk><blk><blk><blk><blk><blk><blk>Ф<blk><blk><blk><blk><blk><blk><blk><blk><blk><blk>Н<blk><blk><blk><blk><blk><blk><blk><blk><blk><blk><blk><blk><blk><blk><blk><blk><blk><blk><blk><blk>\n",
      "Beam      : ФЦСХЛ Щ4ЦФН\n",
      "Argmax: [0, 0, 0, 0, 0, 0, 0, 0, 34, 0, 0, 0, 0, 0, 0, 0, 0, 0, 36, 0]\n",
      "avg max prob: 0.9886067509651184\n",
      "Val Metric=1.3295\n",
      "\n",
      " Epoch 12/50\n"
     ]
    },
    {
     "name": "stderr",
     "output_type": "stream",
     "text": [
      "Training: 100%|██████████| 398/398 [00:39<00:00, 10.09it/s]\n"
     ]
    },
    {
     "name": "stdout",
     "output_type": "stream",
     "text": [
      "avg max prob: 0.9894114136695862\n",
      "Epoch 12 with loss = 0.6021\n"
     ]
    },
    {
     "name": "stderr",
     "output_type": "stream",
     "text": [
      "                                                                    \r"
     ]
    },
    {
     "name": "stdout",
     "output_type": "stream",
     "text": [
      "GT        : ЬСМЧ6ЦГЖ\n",
      "Argmax    : <blk><blk><blk><blk><blk><blk><blk><blk><blk><blk><blk><blk><blk><blk><blk><blk><blk><blk><blk><blk><blk><blk>Ь<blk><blk><blk><blk><blk><blk><blk><blk><blk><blk>С<blk><blk><blk><blk><blk><blk>М<blk><blk><blk><blk><blk><blk><blk><blk>Ч<blk><blk><blk><blk><blk><blk><blk><blk><blk><blk><blk><blk><blk>6<blk><blk><blk><blk><blk><blk><blk><blk><blk><blk>Ц<blk><blk><blk><blk><blk><blk><blk><blk><blk><blk><blk>Г<blk><blk><blk><blk><blk><blk><blk><blk><blk>Ж<blk><blk><blk><blk><blk><blk><blk><blk><blk><blk><blk><blk><blk><blk><blk><blk><blk><blk><blk><blk><blk><blk><blk><blk><blk><blk><blk><blk><blk>\n",
      "Beam      : ЬСМЧ6ЦГЖ\n",
      "Argmax: [0, 0, 0, 0, 0, 0, 0, 0, 0, 0, 0, 0, 0, 0, 0, 0, 0, 0, 0, 0]\n",
      "GT        : ФЦСХЛ Щ4ЦФН\n",
      "Argmax    : <blk><blk><blk><blk><blk><blk><blk><blk>Ф<blk><blk><blk><blk><blk><blk><blk><blk><blk>Ц<blk><blk><blk><blk><blk><blk><blk><blk><blk><blk><blk>С<blk><blk><blk><blk><blk>Х<blk><blk><blk><blk><blk><blk><blk>Л<blk><blk><blk><blk><blk><blk><blk><blk><blk> <blk><blk>Щ<blk><blk><blk><blk><blk><blk><blk><blk><blk><blk><blk><blk>4<blk><blk><blk><blk><blk><blk><blk><blk><blk><blk><blk>Ц<blk><blk><blk><blk><blk><blk><blk><blk><blk><blk><blk>Ф<blk><blk><blk><blk><blk><blk><blk><blk><blk><blk>Н<blk><blk><blk><blk><blk><blk><blk><blk><blk><blk><blk><blk><blk><blk><blk><blk><blk><blk><blk><blk>\n",
      "Beam      : ФЦСХЛ Щ4ЦФН\n",
      "Argmax: [0, 0, 0, 0, 0, 0, 0, 0, 34, 0, 0, 0, 0, 0, 0, 0, 0, 0, 36, 0]\n",
      "avg max prob: 0.9887399673461914\n",
      "Val Metric=1.2531\n",
      "\n",
      " Epoch 13/50\n"
     ]
    },
    {
     "name": "stderr",
     "output_type": "stream",
     "text": [
      "Training: 100%|██████████| 398/398 [00:43<00:00,  9.22it/s]\n"
     ]
    },
    {
     "name": "stdout",
     "output_type": "stream",
     "text": [
      "avg max prob: 0.9856576323509216\n",
      "Epoch 13 with loss = 0.5634\n"
     ]
    },
    {
     "name": "stderr",
     "output_type": "stream",
     "text": [
      "                                                                    \r"
     ]
    },
    {
     "name": "stdout",
     "output_type": "stream",
     "text": [
      "GT        : ЬСМЧ6ЦГЖ\n",
      "Argmax    : <blk><blk><blk><blk><blk><blk><blk><blk><blk><blk><blk><blk><blk><blk><blk><blk><blk><blk><blk><blk><blk><blk>Ь<blk><blk><blk><blk><blk><blk><blk><blk><blk><blk>С<blk><blk><blk><blk><blk><blk>М<blk><blk><blk><blk><blk><blk><blk><blk>Ч<blk><blk><blk><blk><blk><blk><blk><blk><blk><blk><blk><blk><blk>6<blk><blk><blk><blk><blk><blk><blk><blk><blk><blk>Ц<blk><blk><blk><blk><blk><blk><blk><blk><blk><blk><blk>Г<blk><blk><blk><blk><blk><blk><blk><blk><blk>Ж<blk><blk><blk><blk><blk><blk><blk><blk><blk><blk><blk><blk><blk><blk><blk><blk><blk><blk><blk><blk><blk><blk><blk><blk><blk><blk><blk><blk><blk>\n",
      "Beam      : ЬСМЧ6ЦГЖ\n",
      "Argmax: [0, 0, 0, 0, 0, 0, 0, 0, 0, 0, 0, 0, 0, 0, 0, 0, 0, 0, 0, 0]\n",
      "GT        : ФЦСХЛ Щ4ЦФН\n",
      "Argmax    : <blk><blk><blk><blk><blk><blk><blk><blk>Ц<blk><blk><blk><blk><blk><blk><blk><blk><blk>Ц<blk><blk><blk><blk><blk><blk><blk><blk><blk><blk><blk>С<blk><blk><blk><blk><blk>Х<blk><blk><blk><blk><blk><blk><blk>Л<blk><blk><blk><blk><blk><blk><blk><blk><blk>  <blk><blk>Щ<blk><blk><blk><blk><blk><blk><blk><blk><blk><blk><blk>4<blk><blk><blk><blk><blk><blk><blk><blk><blk><blk>Ц<blk><blk><blk><blk><blk><blk><blk><blk><blk><blk><blk><blk>Э<blk><blk><blk><blk><blk><blk><blk><blk><blk><blk>Н<blk><blk><blk><blk><blk><blk><blk><blk><blk><blk><blk><blk><blk><blk><blk><blk><blk><blk><blk><blk>\n",
      "Beam      : ЦЦСХЛ Щ4ЦЭН\n",
      "Argmax: [0, 0, 0, 0, 0, 0, 0, 0, 36, 0, 0, 0, 0, 0, 0, 0, 0, 0, 36, 0]\n",
      "avg max prob: 0.9888362288475037\n",
      "Val Metric=1.2638\n",
      "\n",
      " Epoch 14/50\n"
     ]
    },
    {
     "name": "stderr",
     "output_type": "stream",
     "text": [
      "Training: 100%|██████████| 398/398 [00:42<00:00,  9.43it/s]\n"
     ]
    },
    {
     "name": "stdout",
     "output_type": "stream",
     "text": [
      "avg max prob: 0.9893977642059326\n",
      "Epoch 14 with loss = 0.5390\n"
     ]
    },
    {
     "name": "stderr",
     "output_type": "stream",
     "text": [
      "                                                                    \r"
     ]
    },
    {
     "name": "stdout",
     "output_type": "stream",
     "text": [
      "GT        : ЬСМЧ6ЦГЖ\n",
      "Argmax    : <blk><blk><blk><blk><blk><blk><blk><blk><blk><blk><blk><blk><blk><blk><blk><blk><blk><blk><blk><blk><blk>ЬЬ<blk><blk><blk><blk><blk><blk><blk><blk><blk><blk>С<blk><blk><blk><blk><blk><blk>М<blk><blk><blk><blk><blk><blk><blk><blk>Ч<blk><blk><blk><blk><blk><blk><blk><blk><blk><blk><blk><blk><blk>6<blk><blk><blk><blk><blk><blk><blk><blk><blk><blk>Ц<blk><blk><blk><blk><blk><blk><blk><blk><blk><blk><blk>Г<blk><blk><blk><blk><blk><blk><blk><blk><blk>Ж<blk><blk><blk><blk><blk><blk><blk><blk><blk><blk><blk><blk><blk><blk><blk><blk><blk><blk><blk><blk><blk><blk><blk><blk><blk><blk><blk><blk><blk>\n",
      "Beam      : ЬСМЧ6ЦГЖ\n",
      "Argmax: [0, 0, 0, 0, 0, 0, 0, 0, 0, 0, 0, 0, 0, 0, 0, 0, 0, 0, 0, 0]\n",
      "GT        : ФЦСХЛ Щ4ЦФН\n",
      "Argmax    : <blk><blk><blk><blk><blk><blk><blk><blk>Ф<blk><blk><blk><blk><blk><blk><blk><blk><blk>Ц<blk><blk><blk><blk><blk><blk><blk><blk><blk><blk><blk>С<blk><blk><blk><blk><blk>Х<blk><blk><blk><blk><blk><blk><blk>Л<blk><blk><blk><blk><blk><blk><blk><blk><blk>  <blk><blk>Щ<blk><blk><blk><blk><blk><blk><blk><blk><blk><blk><blk>4<blk><blk><blk><blk><blk><blk><blk><blk><blk><blk><blk>Ц<blk><blk><blk><blk><blk><blk><blk><blk><blk><blk><blk>Г<blk><blk><blk><blk><blk><blk><blk><blk><blk><blk>Н<blk><blk><blk><blk><blk><blk><blk><blk><blk><blk><blk><blk><blk><blk><blk><blk><blk><blk><blk><blk>\n",
      "Beam      : ФЦСХЛ Щ4ЦГН\n",
      "Argmax: [0, 0, 0, 0, 0, 0, 0, 0, 34, 0, 0, 0, 0, 0, 0, 0, 0, 0, 36, 0]\n",
      "avg max prob: 0.9894065856933594\n",
      "Val Metric=1.1328\n",
      "\n",
      " Epoch 15/50\n"
     ]
    },
    {
     "name": "stderr",
     "output_type": "stream",
     "text": [
      "Training: 100%|██████████| 398/398 [00:39<00:00, 10.04it/s]\n"
     ]
    },
    {
     "name": "stdout",
     "output_type": "stream",
     "text": [
      "avg max prob: 0.9902855157852173\n",
      "Epoch 15 with loss = 0.5157\n"
     ]
    },
    {
     "name": "stderr",
     "output_type": "stream",
     "text": [
      "                                                                    \r"
     ]
    },
    {
     "name": "stdout",
     "output_type": "stream",
     "text": [
      "GT        : ЬСМЧ6ЦГЖ\n",
      "Argmax    : <blk><blk><blk><blk><blk><blk><blk><blk><blk><blk><blk><blk><blk><blk><blk><blk><blk><blk><blk><blk><blk>ЬЬ<blk><blk><blk><blk><blk><blk><blk><blk><blk><blk>С<blk><blk><blk><blk><blk><blk>М<blk><blk><blk><blk><blk><blk><blk><blk>Ч<blk><blk><blk><blk><blk><blk><blk><blk><blk><blk><blk><blk>66<blk><blk><blk><blk><blk><blk><blk><blk><blk><blk>Ц<blk><blk><blk><blk><blk><blk><blk><blk><blk><blk><blk>Г<blk><blk><blk><blk><blk><blk><blk><blk>Ж<blk><blk><blk><blk><blk><blk><blk><blk><blk><blk><blk><blk><blk><blk><blk><blk><blk><blk><blk><blk><blk><blk><blk><blk><blk><blk><blk><blk><blk><blk>\n",
      "Beam      : ЬСМЧ6ЦГЖ\n",
      "Argmax: [0, 0, 0, 0, 0, 0, 0, 0, 0, 0, 0, 0, 0, 0, 0, 0, 0, 0, 0, 0]\n",
      "GT        : ФЦСХЛ Щ4ЦФН\n",
      "Argmax    : <blk><blk><blk><blk><blk><blk><blk><blk>Е<blk><blk><blk><blk><blk><blk><blk><blk><blk>Ц<blk><blk><blk><blk><blk><blk><blk><blk><blk><blk><blk>С<blk><blk><blk><blk><blk>Х<blk><blk><blk><blk><blk><blk><blk>Л<blk><blk><blk><blk><blk><blk><blk><blk><blk> <blk><blk>7Щ<blk><blk><blk><blk><blk><blk><blk><blk><blk><blk><blk>4<blk><blk><blk><blk><blk><blk><blk><blk><blk><blk>Ц<blk><blk><blk><blk><blk><blk><blk><blk><blk><blk><blk><blk>Ф<blk><blk><blk><blk><blk><blk><blk><blk><blk><blk>Н<blk><blk><blk><blk><blk><blk><blk><blk><blk><blk><blk><blk><blk><blk><blk><blk><blk><blk><blk><blk>\n",
      "Beam      : ЕЦСХЛ 7Щ4ЦФН\n",
      "Argmax: [0, 0, 0, 0, 0, 0, 0, 0, 19, 0, 0, 0, 0, 0, 0, 0, 0, 0, 36, 0]\n",
      "avg max prob: 0.9914864301681519\n",
      "Val Metric=1.1065\n",
      "\n",
      " Epoch 16/50\n"
     ]
    },
    {
     "name": "stderr",
     "output_type": "stream",
     "text": [
      "Training: 100%|██████████| 398/398 [00:39<00:00, 10.08it/s]\n"
     ]
    },
    {
     "name": "stdout",
     "output_type": "stream",
     "text": [
      "avg max prob: 0.9900328516960144\n",
      "Epoch 16 with loss = 0.5021\n"
     ]
    },
    {
     "name": "stderr",
     "output_type": "stream",
     "text": [
      "                                                                    \r"
     ]
    },
    {
     "name": "stdout",
     "output_type": "stream",
     "text": [
      "GT        : ЬСМЧ6ЦГЖ\n",
      "Argmax    : <blk><blk><blk><blk><blk><blk><blk><blk><blk><blk><blk><blk><blk><blk><blk><blk><blk><blk><blk><blk><blk><blk>Ь<blk><blk><blk><blk><blk><blk><blk><blk><blk><blk>С<blk><blk><blk><blk><blk><blk>М<blk><blk><blk><blk><blk><blk><blk><blk>Ч<blk><blk><blk><blk><blk><blk><blk><blk><blk><blk><blk><blk><blk>6<blk><blk><blk><blk><blk><blk><blk><blk><blk><blk>Ц<blk><blk><blk><blk><blk><blk><blk><blk><blk><blk><blk>Г<blk><blk><blk><blk><blk><blk><blk><blk>Ж<blk><blk><blk><blk><blk><blk><blk><blk><blk><blk><blk><blk><blk><blk><blk><blk><blk><blk><blk><blk><blk><blk><blk><blk><blk><blk><blk><blk><blk><blk>\n",
      "Beam      : ЬСМЧ6ЦГЖ\n",
      "Argmax: [0, 0, 0, 0, 0, 0, 0, 0, 0, 0, 0, 0, 0, 0, 0, 0, 0, 0, 0, 0]\n",
      "GT        : ФЦСХЛ Щ4ЦФН\n",
      "Argmax    : <blk><blk><blk><blk><blk><blk><blk><blk>Г<blk><blk><blk><blk><blk><blk><blk><blk><blk>Ц<blk><blk><blk><blk><blk><blk><blk><blk><blk><blk><blk>С<blk><blk><blk><blk><blk>Х<blk><blk><blk><blk><blk><blk><blk>Л<blk><blk><blk><blk><blk><blk><blk><blk><blk> <blk><blk><blk>Щ<blk><blk><blk><blk><blk><blk><blk><blk><blk><blk><blk>4<blk><blk><blk><blk><blk><blk><blk><blk><blk><blk>Ц<blk><blk><blk><blk><blk><blk><blk><blk><blk><blk><blk><blk>З<blk><blk><blk><blk><blk><blk><blk><blk><blk><blk>Н<blk><blk><blk><blk><blk><blk><blk><blk><blk><blk><blk><blk><blk><blk><blk><blk><blk><blk><blk><blk>\n",
      "Beam      : ГЦСХЛ Щ4ЦЗН\n",
      "Argmax: [0, 0, 0, 0, 0, 0, 0, 0, 17, 0, 0, 0, 0, 0, 0, 0, 0, 0, 36, 0]\n",
      "avg max prob: 0.9898480176925659\n",
      "Val Metric=1.1504\n",
      "\n",
      " Epoch 17/50\n"
     ]
    },
    {
     "name": "stderr",
     "output_type": "stream",
     "text": [
      "Training: 100%|██████████| 398/398 [00:40<00:00,  9.74it/s]\n"
     ]
    },
    {
     "name": "stdout",
     "output_type": "stream",
     "text": [
      "avg max prob: 0.9879820346832275\n",
      "Epoch 17 with loss = 0.4872\n"
     ]
    },
    {
     "name": "stderr",
     "output_type": "stream",
     "text": [
      "                                                                    \r"
     ]
    },
    {
     "name": "stdout",
     "output_type": "stream",
     "text": [
      "GT        : ЬСМЧ6ЦГЖ\n",
      "Argmax    : <blk><blk><blk><blk><blk><blk><blk><blk><blk><blk><blk><blk><blk><blk><blk><blk><blk><blk><blk><blk><blk>Ь<blk><blk><blk><blk><blk><blk><blk><blk><blk><blk><blk>С<blk><blk><blk><blk><blk><blk>М<blk><blk><blk><blk><blk><blk><blk><blk>Ч<blk><blk><blk><blk><blk><blk><blk><blk><blk><blk><blk><blk>66<blk><blk><blk><blk><blk><blk><blk><blk><blk><blk>Ц<blk><blk><blk><blk><blk><blk><blk><blk><blk><blk><blk>Г<blk><blk><blk><blk><blk><blk><blk><blk>ЖЖ<blk><blk><blk><blk><blk><blk><blk><blk><blk><blk><blk><blk><blk><blk><blk><blk><blk><blk><blk><blk><blk><blk><blk><blk><blk><blk><blk><blk><blk>\n",
      "Beam      : ЬСМЧ6ЦГЖ\n",
      "Argmax: [0, 0, 0, 0, 0, 0, 0, 0, 0, 0, 0, 0, 0, 0, 0, 0, 0, 0, 0, 0]\n",
      "GT        : ФЦСХЛ Щ4ЦФН\n",
      "Argmax    : <blk><blk><blk><blk><blk><blk><blk><blk>Ф<blk><blk><blk><blk><blk><blk><blk><blk><blk>Ц<blk><blk><blk><blk><blk><blk><blk><blk><blk><blk><blk>С<blk><blk><blk><blk><blk>Х<blk><blk><blk><blk><blk><blk><blk>Л<blk><blk><blk><blk><blk><blk><blk><blk><blk>  <blk><blk>Щ<blk><blk><blk><blk><blk><blk><blk><blk><blk><blk><blk>4<blk><blk><blk><blk><blk><blk><blk><blk><blk><blk>Ц<blk><blk><blk><blk><blk><blk><blk><blk><blk><blk><blk><blk>Э<blk><blk><blk><blk><blk><blk><blk><blk><blk><blk>Н<blk><blk><blk><blk><blk><blk><blk><blk><blk><blk><blk><blk><blk><blk><blk><blk><blk><blk><blk><blk>\n",
      "Beam      : ФЦСХЛ Щ4ЦЭН\n",
      "Argmax: [0, 0, 0, 0, 0, 0, 0, 0, 34, 0, 0, 0, 0, 0, 0, 0, 0, 0, 36, 0]\n",
      "avg max prob: 0.9906727075576782\n",
      "Val Metric=1.0641\n",
      "\n",
      " Epoch 18/50\n"
     ]
    },
    {
     "name": "stderr",
     "output_type": "stream",
     "text": [
      "Training: 100%|██████████| 398/398 [00:40<00:00,  9.75it/s]\n"
     ]
    },
    {
     "name": "stdout",
     "output_type": "stream",
     "text": [
      "avg max prob: 0.9902231693267822\n",
      "Epoch 18 with loss = 0.4767\n"
     ]
    },
    {
     "name": "stderr",
     "output_type": "stream",
     "text": [
      "                                                                    \r"
     ]
    },
    {
     "name": "stdout",
     "output_type": "stream",
     "text": [
      "GT        : ЬСМЧ6ЦГЖ\n",
      "Argmax    : <blk><blk><blk><blk><blk><blk><blk><blk><blk><blk><blk><blk><blk><blk><blk><blk><blk><blk><blk><blk><blk>Ь<blk><blk><blk><blk><blk><blk><blk><blk><blk><blk><blk>С<blk><blk><blk><blk><blk><blk>М<blk><blk><blk><blk><blk><blk><blk><blk>Ч<blk><blk><blk><blk><blk><blk><blk><blk><blk><blk><blk><blk>6<blk><blk><blk><blk><blk><blk><blk><blk><blk><blk><blk>Ц<blk><blk><blk><blk><blk><blk><blk><blk><blk><blk><blk>Г<blk><blk><blk><blk><blk><blk><blk><blk>Ж<blk><blk><blk><blk><blk><blk><blk><blk><blk><blk><blk><blk><blk><blk><blk><blk><blk><blk><blk><blk><blk><blk><blk><blk><blk><blk><blk><blk><blk><blk>\n",
      "Beam      : ЬСМЧ6ЦГЖ\n",
      "Argmax: [0, 0, 0, 0, 0, 0, 0, 0, 0, 0, 0, 0, 0, 0, 0, 0, 0, 0, 0, 0]\n",
      "GT        : ФЦСХЛ Щ4ЦФН\n",
      "Argmax    : <blk><blk><blk><blk><blk><blk><blk><blk>Ф<blk><blk><blk><blk><blk><blk><blk><blk><blk>Ц<blk><blk><blk><blk><blk><blk><blk><blk><blk><blk><blk>С<blk><blk><blk><blk><blk>Х<blk><blk><blk><blk><blk><blk><blk>Л<blk><blk><blk><blk><blk><blk><blk><blk><blk> <blk><blk>Щ<blk><blk><blk><blk><blk><blk><blk><blk><blk><blk><blk><blk>4<blk><blk><blk><blk><blk><blk><blk><blk><blk><blk>Ц<blk><blk><blk><blk><blk><blk><blk><blk><blk><blk><blk><blk>Г<blk><blk><blk><blk><blk><blk><blk><blk><blk><blk>Н<blk><blk><blk><blk><blk><blk><blk><blk><blk><blk><blk><blk><blk><blk><blk><blk><blk><blk><blk><blk>\n",
      "Beam      : ФЦСХЛ Щ4ЦГН\n",
      "Argmax: [0, 0, 0, 0, 0, 0, 0, 0, 34, 0, 0, 0, 0, 0, 0, 0, 0, 0, 36, 0]\n",
      "avg max prob: 0.9918406009674072\n",
      "Val Metric=1.0487\n",
      "\n",
      " Epoch 19/50\n"
     ]
    },
    {
     "name": "stderr",
     "output_type": "stream",
     "text": [
      "Training: 100%|██████████| 398/398 [00:39<00:00, 10.16it/s]\n"
     ]
    },
    {
     "name": "stdout",
     "output_type": "stream",
     "text": [
      "avg max prob: 0.989101231098175\n",
      "Epoch 19 with loss = 0.4634\n"
     ]
    },
    {
     "name": "stderr",
     "output_type": "stream",
     "text": [
      "                                                                    \r"
     ]
    },
    {
     "name": "stdout",
     "output_type": "stream",
     "text": [
      "GT        : ЬСМЧ6ЦГЖ\n",
      "Argmax    : <blk><blk><blk><blk><blk><blk><blk><blk><blk><blk><blk><blk><blk><blk><blk><blk><blk><blk><blk><blk><blk>Ь<blk><blk><blk><blk><blk><blk><blk><blk><blk><blk><blk>С<blk><blk><blk><blk><blk><blk>М<blk><blk><blk><blk><blk><blk><blk><blk>Ч<blk><blk><blk><blk><blk><blk><blk><blk><blk><blk><blk><blk>6<blk><blk><blk><blk><blk><blk><blk><blk><blk><blk><blk>Ц<blk><blk><blk><blk><blk><blk><blk><blk><blk><blk><blk>Г<blk><blk><blk><blk><blk><blk><blk><blk>Ж<blk><blk><blk><blk><blk><blk><blk><blk><blk><blk><blk><blk><blk><blk><blk><blk><blk><blk><blk><blk><blk><blk><blk><blk><blk><blk><blk><blk><blk><blk>\n",
      "Beam      : ЬСМЧ6ЦГЖ\n",
      "Argmax: [0, 0, 0, 0, 0, 0, 0, 0, 0, 0, 0, 0, 0, 0, 0, 0, 0, 0, 0, 0]\n",
      "GT        : ФЦСХЛ Щ4ЦФН\n",
      "Argmax    : <blk><blk><blk><blk><blk><blk><blk><blk>Ф<blk><blk><blk><blk><blk><blk><blk><blk><blk>Ц<blk><blk><blk><blk><blk><blk><blk><blk><blk><blk><blk>С<blk><blk><blk><blk><blk>Х<blk><blk><blk><blk><blk><blk><blk>Л<blk><blk><blk><blk><blk><blk><blk><blk>  <blk><blk>Щ<blk><blk><blk><blk><blk><blk><blk><blk><blk><blk><blk><blk>4<blk><blk><blk><blk><blk><blk><blk><blk><blk><blk>Ц<blk><blk><blk><blk><blk><blk><blk><blk><blk><blk><blk><blk>Ф<blk><blk><blk><blk><blk><blk><blk><blk><blk><blk>Н<blk><blk><blk><blk><blk><blk><blk><blk><blk><blk><blk><blk><blk><blk><blk><blk><blk><blk><blk><blk>\n",
      "Beam      : ФЦСХЛ Щ4ЦФН\n",
      "Argmax: [0, 0, 0, 0, 0, 0, 0, 0, 34, 0, 0, 0, 0, 0, 0, 0, 0, 0, 36, 0]\n",
      "avg max prob: 0.9914276599884033\n",
      "Val Metric=1.0578\n",
      "\n",
      " Epoch 20/50\n"
     ]
    },
    {
     "name": "stderr",
     "output_type": "stream",
     "text": [
      "Training: 100%|██████████| 398/398 [00:41<00:00,  9.66it/s]\n"
     ]
    },
    {
     "name": "stdout",
     "output_type": "stream",
     "text": [
      "avg max prob: 0.9913408160209656\n",
      "Epoch 20 with loss = 0.4584\n"
     ]
    },
    {
     "name": "stderr",
     "output_type": "stream",
     "text": [
      "                                                                    \r"
     ]
    },
    {
     "name": "stdout",
     "output_type": "stream",
     "text": [
      "GT        : ЬСМЧ6ЦГЖ\n",
      "Argmax    : <blk><blk><blk><blk><blk><blk><blk><blk><blk><blk><blk><blk><blk><blk><blk><blk><blk><blk><blk><blk><blk>Ь<blk><blk><blk><blk><blk><blk><blk><blk><blk><blk><blk>С<blk><blk><blk><blk><blk><blk>М<blk><blk><blk><blk><blk><blk><blk><blk>Ч<blk><blk><blk><blk><blk><blk><blk><blk><blk><blk><blk><blk><blk>6<blk><blk><blk><blk><blk><blk><blk><blk><blk><blk>Ц<blk><blk><blk><blk><blk><blk><blk><blk><blk><blk><blk>Г<blk><blk><blk><blk><blk><blk><blk><blk><blk>Ж<blk><blk><blk><blk><blk><blk><blk><blk><blk><blk><blk><blk><blk><blk><blk><blk><blk><blk><blk><blk><blk><blk><blk><blk><blk><blk><blk><blk><blk>\n",
      "Beam      : ЬСМЧ6ЦГЖ\n",
      "Argmax: [0, 0, 0, 0, 0, 0, 0, 0, 0, 0, 0, 0, 0, 0, 0, 0, 0, 0, 0, 0]\n",
      "GT        : ФЦСХЛ Щ4ЦФН\n",
      "Argmax    : <blk><blk><blk><blk><blk><blk><blk><blk>Ф<blk><blk><blk><blk><blk><blk><blk><blk><blk>Ц<blk><blk><blk><blk><blk><blk><blk><blk><blk><blk><blk>С<blk><blk><blk><blk><blk>Х<blk><blk><blk><blk><blk><blk><blk>Л<blk><blk><blk><blk><blk><blk><blk><blk><blk> <blk><blk>Щ<blk><blk><blk><blk><blk><blk><blk><blk><blk><blk><blk><blk>4<blk><blk><blk><blk><blk><blk><blk><blk><blk><blk><blk>Ц<blk><blk><blk><blk><blk><blk><blk><blk><blk><blk><blk>Ф<blk><blk><blk><blk><blk><blk><blk><blk><blk><blk>Н<blk><blk><blk><blk><blk><blk><blk><blk><blk><blk><blk><blk><blk><blk><blk><blk><blk><blk><blk><blk>\n",
      "Beam      : ФЦСХЛ Щ4ЦФН\n",
      "Argmax: [0, 0, 0, 0, 0, 0, 0, 0, 34, 0, 0, 0, 0, 0, 0, 0, 0, 0, 36, 0]\n",
      "avg max prob: 0.9919076561927795\n",
      "Val Metric=1.0429\n",
      "\n",
      " Epoch 21/50\n"
     ]
    },
    {
     "name": "stderr",
     "output_type": "stream",
     "text": [
      "Training: 100%|██████████| 398/398 [00:41<00:00,  9.64it/s]\n"
     ]
    },
    {
     "name": "stdout",
     "output_type": "stream",
     "text": [
      "avg max prob: 0.9889351725578308\n",
      "Epoch 21 with loss = 0.4555\n"
     ]
    },
    {
     "name": "stderr",
     "output_type": "stream",
     "text": [
      "                                                                    \r"
     ]
    },
    {
     "name": "stdout",
     "output_type": "stream",
     "text": [
      "GT        : ЬСМЧ6ЦГЖ\n",
      "Argmax    : <blk><blk><blk><blk><blk><blk><blk><blk><blk><blk><blk><blk><blk><blk><blk><blk><blk><blk><blk><blk><blk>Ь<blk><blk><blk><blk><blk><blk><blk><blk><blk><blk><blk>С<blk><blk><blk><blk><blk><blk>М<blk><blk><blk><blk><blk><blk><blk><blk>Ч<blk><blk><blk><blk><blk><blk><blk><blk><blk><blk><blk><blk><blk>6<blk><blk><blk><blk><blk><blk><blk><blk><blk><blk>Ц<blk><blk><blk><blk><blk><blk><blk><blk><blk><blk><blk>Г<blk><blk><blk><blk><blk><blk><blk><blk><blk>Ж<blk><blk><blk><blk><blk><blk><blk><blk><blk><blk><blk><blk><blk><blk><blk><blk><blk><blk><blk><blk><blk><blk><blk><blk><blk><blk><blk><blk><blk>\n",
      "Beam      : ЬСМЧ6ЦГЖ\n",
      "Argmax: [0, 0, 0, 0, 0, 0, 0, 0, 0, 0, 0, 0, 0, 0, 0, 0, 0, 0, 0, 0]\n",
      "GT        : ФЦСХЛ Щ4ЦФН\n",
      "Argmax    : <blk><blk><blk><blk><blk><blk><blk><blk>Ф<blk><blk><blk><blk><blk><blk><blk><blk><blk>Ц<blk><blk><blk><blk><blk><blk><blk><blk><blk><blk><blk>С<blk><blk><blk><blk><blk>Х<blk><blk><blk><blk><blk><blk><blk>Л<blk><blk><blk><blk><blk><blk><blk><blk><blk>  <blk><blk><blk><blk><blk><blk><blk><blk><blk><blk><blk><blk><blk><blk>4<blk><blk><blk><blk><blk><blk><blk><blk><blk><blk>Ц<blk><blk><blk><blk><blk><blk><blk><blk><blk><blk><blk><blk>Ф<blk><blk><blk><blk><blk><blk><blk><blk><blk><blk>Н<blk><blk><blk><blk><blk><blk><blk><blk><blk><blk><blk><blk><blk><blk><blk><blk><blk><blk><blk><blk>\n",
      "Beam      : ФЦСХЛ 4ЦФН\n",
      "Argmax: [0, 0, 0, 0, 0, 0, 0, 0, 34, 0, 0, 0, 0, 0, 0, 0, 0, 0, 36, 0]\n",
      "avg max prob: 0.9899150133132935\n",
      "Val Metric=1.0426\n",
      "\n",
      " Epoch 22/50\n"
     ]
    },
    {
     "name": "stderr",
     "output_type": "stream",
     "text": [
      "Training: 100%|██████████| 398/398 [00:40<00:00,  9.92it/s]\n"
     ]
    },
    {
     "name": "stdout",
     "output_type": "stream",
     "text": [
      "avg max prob: 0.9907636642456055\n",
      "Epoch 22 with loss = 0.4448\n"
     ]
    },
    {
     "name": "stderr",
     "output_type": "stream",
     "text": [
      "                                                                    \r"
     ]
    },
    {
     "name": "stdout",
     "output_type": "stream",
     "text": [
      "GT        : ЬСМЧ6ЦГЖ\n",
      "Argmax    : <blk><blk><blk><blk><blk><blk><blk><blk><blk><blk><blk><blk><blk><blk><blk><blk><blk><blk><blk><blk><blk>Ь<blk><blk><blk><blk><blk><blk><blk><blk><blk><blk><blk>С<blk><blk><blk><blk><blk><blk>М<blk><blk><blk><blk><blk><blk><blk><blk>Ч<blk><blk><blk><blk><blk><blk><blk><blk><blk><blk><blk><blk><blk>6<blk><blk><blk><blk><blk><blk><blk><blk><blk><blk>Ц<blk><blk><blk><blk><blk><blk><blk><blk><blk><blk><blk>Г<blk><blk><blk><blk><blk><blk><blk><blk><blk>Ж<blk><blk><blk><blk><blk><blk><blk><blk><blk><blk><blk><blk><blk><blk><blk><blk><blk><blk><blk><blk><blk><blk><blk><blk><blk><blk><blk><blk><blk>\n",
      "Beam      : ЬСМЧ6ЦГЖ\n",
      "Argmax: [0, 0, 0, 0, 0, 0, 0, 0, 0, 0, 0, 0, 0, 0, 0, 0, 0, 0, 0, 0]\n",
      "GT        : ФЦСХЛ Щ4ЦФН\n",
      "Argmax    : <blk><blk><blk><blk><blk><blk><blk><blk>Ф<blk><blk><blk><blk><blk><blk><blk><blk><blk>Ц<blk><blk><blk><blk><blk><blk><blk><blk><blk><blk><blk>С<blk><blk><blk><blk><blk>Х<blk><blk><blk><blk><blk><blk><blk>Л<blk><blk><blk><blk><blk><blk><blk><blk><blk>  <blk>Щ<blk><blk><blk><blk><blk><blk><blk><blk><blk><blk><blk><blk>4<blk><blk><blk><blk><blk><blk><blk><blk><blk><blk>Ц<blk><blk><blk><blk><blk><blk><blk><blk><blk><blk><blk><blk>Э<blk><blk><blk><blk><blk><blk><blk><blk><blk><blk>Н<blk><blk><blk><blk><blk><blk><blk><blk><blk><blk><blk><blk><blk><blk><blk><blk><blk><blk><blk><blk>\n",
      "Beam      : ФЦСХЛ Щ4ЦЭН\n",
      "Argmax: [0, 0, 0, 0, 0, 0, 0, 0, 34, 0, 0, 0, 0, 0, 0, 0, 0, 0, 36, 0]\n",
      "avg max prob: 0.9905771017074585\n",
      "Val Metric=1.0136\n",
      "\n",
      " Epoch 23/50\n"
     ]
    },
    {
     "name": "stderr",
     "output_type": "stream",
     "text": [
      "Training: 100%|██████████| 398/398 [00:40<00:00,  9.79it/s]\n"
     ]
    },
    {
     "name": "stdout",
     "output_type": "stream",
     "text": [
      "avg max prob: 0.9901168942451477\n",
      "Epoch 23 with loss = 0.4403\n"
     ]
    },
    {
     "name": "stderr",
     "output_type": "stream",
     "text": [
      "                                                                    \r"
     ]
    },
    {
     "name": "stdout",
     "output_type": "stream",
     "text": [
      "GT        : ЬСМЧ6ЦГЖ\n",
      "Argmax    : <blk><blk><blk><blk><blk><blk><blk><blk><blk><blk><blk><blk><blk><blk><blk><blk><blk><blk><blk><blk><blk><blk>Ь<blk><blk><blk><blk><blk><blk><blk><blk><blk><blk>С<blk><blk><blk><blk><blk><blk>М<blk><blk><blk><blk><blk><blk><blk><blk>Ч<blk><blk><blk><blk><blk><blk><blk><blk><blk><blk><blk><blk><blk>6<blk><blk><blk><blk><blk><blk><blk><blk><blk><blk>Ц<blk><blk><blk><blk><blk><blk><blk><blk><blk><blk><blk>Г<blk><blk><blk><blk><blk><blk><blk><blk><blk>Ж<blk><blk><blk><blk><blk><blk><blk><blk><blk><blk><blk><blk><blk><blk><blk><blk><blk><blk><blk><blk><blk><blk><blk><blk><blk><blk><blk><blk><blk>\n",
      "Beam      : ЬСМЧ6ЦГЖ\n",
      "Argmax: [0, 0, 0, 0, 0, 0, 0, 0, 0, 0, 0, 0, 0, 0, 0, 0, 0, 0, 0, 0]\n",
      "GT        : ФЦСХЛ Щ4ЦФН\n",
      "Argmax    : <blk><blk><blk><blk><blk><blk><blk><blk>Ф<blk><blk><blk><blk><blk><blk><blk><blk><blk>Ц<blk><blk><blk><blk><blk><blk><blk><blk><blk><blk><blk>С<blk><blk><blk><blk><blk>Х<blk><blk><blk><blk><blk><blk><blk>Л<blk><blk><blk><blk><blk><blk><blk><blk><blk> <blk><blk>ЩЩ<blk><blk><blk><blk><blk><blk><blk><blk><blk><blk><blk>4<blk><blk><blk><blk><blk><blk><blk><blk><blk><blk><blk>Ц<blk><blk><blk><blk><blk><blk><blk><blk><blk><blk><blk>Ф<blk><blk><blk><blk><blk><blk><blk><blk><blk><blk>Н<blk><blk><blk><blk><blk><blk><blk><blk><blk><blk><blk><blk><blk><blk><blk><blk><blk><blk><blk><blk>\n",
      "Beam      : ФЦСХЛ Щ4ЦФН\n",
      "Argmax: [0, 0, 0, 0, 0, 0, 0, 0, 34, 0, 0, 0, 0, 0, 0, 0, 0, 0, 36, 0]\n",
      "avg max prob: 0.9919804334640503\n",
      "Val Metric=0.9929\n",
      "\n",
      " Epoch 24/50\n"
     ]
    },
    {
     "name": "stderr",
     "output_type": "stream",
     "text": [
      "Training: 100%|██████████| 398/398 [00:40<00:00,  9.71it/s]\n"
     ]
    },
    {
     "name": "stdout",
     "output_type": "stream",
     "text": [
      "avg max prob: 0.9889225959777832\n",
      "Epoch 24 with loss = 0.4310\n"
     ]
    },
    {
     "name": "stderr",
     "output_type": "stream",
     "text": [
      "                                                                    \r"
     ]
    },
    {
     "name": "stdout",
     "output_type": "stream",
     "text": [
      "GT        : ЬСМЧ6ЦГЖ\n",
      "Argmax    : <blk><blk><blk><blk><blk><blk><blk><blk><blk><blk><blk><blk><blk><blk><blk><blk><blk><blk><blk><blk><blk><blk>Ь<blk><blk><blk><blk><blk><blk><blk><blk><blk><blk>С<blk><blk><blk><blk><blk><blk><blk>М<blk><blk><blk><blk><blk><blk><blk>Ч<blk><blk><blk><blk><blk><blk><blk><blk><blk><blk><blk><blk><blk>6<blk><blk><blk><blk><blk><blk><blk><blk><blk><blk>Ц<blk><blk><blk><blk><blk><blk><blk><blk><blk><blk><blk>Г<blk><blk><blk><blk><blk><blk><blk><blk><blk>Ж<blk><blk><blk><blk><blk><blk><blk><blk><blk><blk><blk><blk><blk><blk><blk><blk><blk><blk><blk><blk><blk><blk><blk><blk><blk><blk><blk><blk><blk>\n",
      "Beam      : ЬСМЧ6ЦГЖ\n",
      "Argmax: [0, 0, 0, 0, 0, 0, 0, 0, 0, 0, 0, 0, 0, 0, 0, 0, 0, 0, 0, 0]\n",
      "GT        : ФЦСХЛ Щ4ЦФН\n",
      "Argmax    : <blk><blk><blk><blk><blk><blk><blk><blk>Ф<blk><blk><blk><blk><blk><blk><blk><blk><blk>Ц<blk><blk><blk><blk><blk><blk><blk><blk><blk><blk><blk>С<blk><blk><blk><blk><blk>Х<blk><blk><blk><blk><blk><blk><blk>Л<blk><blk><blk><blk><blk><blk><blk><blk>  <blk><blk><blk>Л<blk><blk><blk><blk><blk><blk><blk><blk><blk><blk><blk>4<blk><blk><blk><blk><blk><blk><blk><blk><blk><blk><blk>Ц<blk><blk><blk><blk><blk><blk><blk><blk><blk><blk><blk>Ф<blk><blk><blk><blk><blk><blk><blk><blk><blk><blk>Н<blk><blk><blk><blk><blk><blk><blk><blk><blk><blk><blk><blk><blk><blk><blk><blk><blk><blk><blk><blk>\n",
      "Beam      : ФЦСХЛ Л4ЦФН\n",
      "Argmax: [0, 0, 0, 0, 0, 0, 0, 0, 34, 0, 0, 0, 0, 0, 0, 0, 0, 0, 36, 0]\n",
      "avg max prob: 0.9909906983375549\n",
      "Val Metric=1.0308\n",
      "\n",
      " Epoch 25/50\n"
     ]
    },
    {
     "name": "stderr",
     "output_type": "stream",
     "text": [
      "Training: 100%|██████████| 398/398 [00:40<00:00,  9.80it/s]\n"
     ]
    },
    {
     "name": "stdout",
     "output_type": "stream",
     "text": [
      "avg max prob: 0.9921495318412781\n",
      "Epoch 25 with loss = 0.4247\n"
     ]
    },
    {
     "name": "stderr",
     "output_type": "stream",
     "text": [
      "                                                                    \r"
     ]
    },
    {
     "name": "stdout",
     "output_type": "stream",
     "text": [
      "GT        : ЬСМЧ6ЦГЖ\n",
      "Argmax    : <blk><blk><blk><blk><blk><blk><blk><blk><blk><blk><blk><blk><blk><blk><blk><blk><blk><blk><blk><blk><blk><blk>Ь<blk><blk><blk><blk><blk><blk><blk><blk><blk><blk>С<blk><blk><blk><blk><blk><blk><blk>М<blk><blk><blk><blk><blk><blk><blk>Ч<blk><blk><blk><blk><blk><blk><blk><blk><blk><blk><blk><blk><blk>6<blk><blk><blk><blk><blk><blk><blk><blk><blk><blk>Ц<blk><blk><blk><blk><blk><blk><blk><blk><blk><blk><blk>Г<blk><blk><blk><blk><blk><blk><blk><blk><blk>Ж<blk><blk><blk><blk><blk><blk><blk><blk><blk><blk><blk><blk><blk><blk><blk><blk><blk><blk><blk><blk><blk><blk><blk><blk><blk><blk><blk><blk><blk>\n",
      "Beam      : ЬСМЧ6ЦГЖ\n",
      "Argmax: [0, 0, 0, 0, 0, 0, 0, 0, 0, 0, 0, 0, 0, 0, 0, 0, 0, 0, 0, 0]\n",
      "GT        : ФЦСХЛ Щ4ЦФН\n",
      "Argmax    : <blk><blk><blk><blk><blk><blk><blk><blk>Ф<blk><blk><blk><blk><blk><blk><blk><blk><blk>Ц<blk><blk><blk><blk><blk><blk><blk><blk><blk><blk><blk>С<blk><blk><blk><blk><blk>Х<blk><blk><blk><blk><blk><blk><blk>Л<blk><blk><blk><blk><blk><blk><blk><blk><blk> <blk><blk><blk>Щ<blk><blk><blk><blk><blk><blk><blk><blk><blk><blk><blk>4<blk><blk><blk><blk><blk><blk><blk><blk><blk><blk><blk>Ц<blk><blk><blk><blk><blk><blk><blk><blk><blk><blk><blk>Ф<blk><blk><blk><blk><blk><blk><blk><blk><blk><blk>Н<blk><blk><blk><blk><blk><blk><blk><blk><blk><blk><blk><blk><blk><blk><blk><blk><blk><blk><blk><blk>\n",
      "Beam      : ФЦСХЛ Щ4ЦФН\n",
      "Argmax: [0, 0, 0, 0, 0, 0, 0, 0, 34, 0, 0, 0, 0, 0, 0, 0, 0, 0, 36, 0]\n",
      "avg max prob: 0.9906691312789917\n",
      "Val Metric=0.9844\n",
      "\n",
      " Epoch 26/50\n"
     ]
    },
    {
     "name": "stderr",
     "output_type": "stream",
     "text": [
      "Training: 100%|██████████| 398/398 [00:43<00:00,  9.05it/s]\n"
     ]
    },
    {
     "name": "stdout",
     "output_type": "stream",
     "text": [
      "avg max prob: 0.9905211925506592\n",
      "Epoch 26 with loss = 0.4221\n"
     ]
    },
    {
     "name": "stderr",
     "output_type": "stream",
     "text": [
      "                                                                    \r"
     ]
    },
    {
     "name": "stdout",
     "output_type": "stream",
     "text": [
      "GT        : ЬСМЧ6ЦГЖ\n",
      "Argmax    : <blk><blk><blk><blk><blk><blk><blk><blk><blk><blk><blk><blk><blk><blk><blk><blk><blk><blk><blk><blk><blk>ЬЬ<blk><blk><blk><blk><blk><blk><blk><blk><blk><blk>С<blk><blk><blk><blk><blk><blk>М<blk><blk><blk><blk><blk><blk><blk><blk>Ч<blk><blk><blk><blk><blk><blk><blk><blk><blk><blk><blk><blk>6<blk><blk><blk><blk><blk><blk><blk><blk><blk><blk><blk>Ц<blk><blk><blk><blk><blk><blk><blk><blk><blk><blk><blk>Г<blk><blk><blk><blk><blk><blk><blk><blk>Ж<blk><blk><blk><blk><blk><blk><blk><blk><blk><blk><blk><blk><blk><blk><blk><blk><blk><blk><blk><blk><blk><blk><blk><blk><blk><blk><blk><blk><blk><blk>\n",
      "Beam      : ЬСМЧ6ЦГЖ\n",
      "Argmax: [0, 0, 0, 0, 0, 0, 0, 0, 0, 0, 0, 0, 0, 0, 0, 0, 0, 0, 0, 0]\n",
      "GT        : ФЦСХЛ Щ4ЦФН\n",
      "Argmax    : <blk><blk><blk><blk><blk><blk><blk><blk>Ф<blk><blk><blk><blk><blk><blk><blk><blk><blk>Ц<blk><blk><blk><blk><blk><blk><blk><blk><blk><blk><blk>С<blk><blk><blk><blk><blk>Х<blk><blk><blk><blk><blk><blk><blk>Л<blk><blk><blk><blk><blk><blk><blk><blk><blk> <blk><blk>Щ<blk><blk><blk><blk><blk><blk><blk><blk><blk><blk><blk><blk>4<blk><blk><blk><blk><blk><blk><blk><blk><blk><blk>Ц<blk><blk><blk><blk><blk><blk><blk><blk><blk><blk><blk><blk>Ф<blk><blk><blk><blk><blk><blk><blk><blk><blk><blk>Н<blk><blk><blk><blk><blk><blk><blk><blk><blk><blk><blk><blk><blk><blk><blk><blk><blk><blk><blk><blk>\n",
      "Beam      : ФЦСХЛ Щ4ЦФН\n",
      "Argmax: [0, 0, 0, 0, 0, 0, 0, 0, 34, 0, 0, 0, 0, 0, 0, 0, 0, 0, 36, 0]\n",
      "avg max prob: 0.9925061464309692\n",
      "Val Metric=0.9911\n",
      "\n",
      " Epoch 27/50\n"
     ]
    },
    {
     "name": "stderr",
     "output_type": "stream",
     "text": [
      "Training: 100%|██████████| 398/398 [00:40<00:00,  9.77it/s]\n"
     ]
    },
    {
     "name": "stdout",
     "output_type": "stream",
     "text": [
      "avg max prob: 0.988440752029419\n",
      "Epoch 27 with loss = 0.4196\n"
     ]
    },
    {
     "name": "stderr",
     "output_type": "stream",
     "text": [
      "                                                                    \r"
     ]
    },
    {
     "name": "stdout",
     "output_type": "stream",
     "text": [
      "GT        : ЬСМЧ6ЦГЖ\n",
      "Argmax    : <blk><blk><blk><blk><blk><blk><blk><blk><blk><blk><blk><blk><blk><blk><blk><blk><blk><blk><blk><blk><blk><blk>Ь<blk><blk><blk><blk><blk><blk><blk><blk><blk><blk>С<blk><blk><blk><blk><blk><blk>М<blk><blk><blk><blk><blk><blk><blk><blk>Ч<blk><blk><blk><blk><blk><blk><blk><blk><blk><blk><blk><blk><blk>6<blk><blk><blk><blk><blk><blk><blk><blk><blk><blk>Ц<blk><blk><blk><blk><blk><blk><blk><blk><blk><blk><blk>Г<blk><blk><blk><blk><blk><blk><blk><blk><blk>Ж<blk><blk><blk><blk><blk><blk><blk><blk><blk><blk><blk><blk><blk><blk><blk><blk><blk><blk><blk><blk><blk><blk><blk><blk><blk><blk><blk><blk><blk>\n",
      "Beam      : ЬСМЧ6ЦГЖ\n",
      "Argmax: [0, 0, 0, 0, 0, 0, 0, 0, 0, 0, 0, 0, 0, 0, 0, 0, 0, 0, 0, 0]\n",
      "GT        : ФЦСХЛ Щ4ЦФН\n",
      "Argmax    : <blk><blk><blk><blk><blk><blk><blk><blk>Е<blk><blk><blk><blk><blk><blk><blk><blk><blk>Ц<blk><blk><blk><blk><blk><blk><blk><blk><blk><blk><blk>С<blk><blk><blk><blk><blk>Х<blk><blk><blk><blk><blk><blk><blk>Л<blk><blk><blk><blk><blk><blk><blk><blk><blk> <blk><blk><blk><blk><blk><blk><blk><blk><blk><blk><blk><blk><blk><blk><blk>4<blk><blk><blk><blk><blk><blk><blk><blk><blk><blk><blk>Ц<blk><blk><blk><blk><blk><blk><blk><blk><blk><blk><blk>Г<blk><blk><blk><blk><blk><blk><blk><blk><blk><blk>Н<blk><blk><blk><blk><blk><blk><blk><blk><blk><blk><blk><blk><blk><blk><blk><blk><blk><blk><blk><blk>\n",
      "Beam      : ЕЦСХЛ 4ЦГН\n",
      "Argmax: [0, 0, 0, 0, 0, 0, 0, 0, 19, 0, 0, 0, 0, 0, 0, 0, 0, 0, 36, 0]\n",
      "avg max prob: 0.9921385645866394\n",
      "Val Metric=0.9967\n",
      "\n",
      " Epoch 28/50\n"
     ]
    },
    {
     "name": "stderr",
     "output_type": "stream",
     "text": [
      "Training: 100%|██████████| 398/398 [00:41<00:00,  9.65it/s]\n"
     ]
    },
    {
     "name": "stdout",
     "output_type": "stream",
     "text": [
      "avg max prob: 0.9923384785652161\n",
      "Epoch 28 with loss = 0.4122\n"
     ]
    },
    {
     "name": "stderr",
     "output_type": "stream",
     "text": [
      "                                                                    \r"
     ]
    },
    {
     "name": "stdout",
     "output_type": "stream",
     "text": [
      "GT        : ЬСМЧ6ЦГЖ\n",
      "Argmax    : <blk><blk><blk><blk><blk><blk><blk><blk><blk><blk><blk><blk><blk><blk><blk><blk><blk><blk><blk><blk><blk><blk>Ь<blk><blk><blk><blk><blk><blk><blk><blk><blk><blk>С<blk><blk><blk><blk><blk><blk>М<blk><blk><blk><blk><blk><blk><blk><blk>Ч<blk><blk><blk><blk><blk><blk><blk><blk><blk><blk><blk><blk><blk>6<blk><blk><blk><blk><blk><blk><blk><blk><blk><blk>Ц<blk><blk><blk><blk><blk><blk><blk><blk><blk><blk><blk>Г<blk><blk><blk><blk><blk><blk><blk><blk><blk>Ж<blk><blk><blk><blk><blk><blk><blk><blk><blk><blk><blk><blk><blk><blk><blk><blk><blk><blk><blk><blk><blk><blk><blk><blk><blk><blk><blk><blk><blk>\n",
      "Beam      : ЬСМЧ6ЦГЖ\n",
      "Argmax: [0, 0, 0, 0, 0, 0, 0, 0, 0, 0, 0, 0, 0, 0, 0, 0, 0, 0, 0, 0]\n",
      "GT        : ФЦСХЛ Щ4ЦФН\n",
      "Argmax    : <blk><blk><blk><blk><blk><blk><blk><blk>Ф<blk><blk><blk><blk><blk><blk><blk><blk><blk>Ц<blk><blk><blk><blk><blk><blk><blk><blk><blk><blk><blk>С<blk><blk><blk><blk><blk>Х<blk><blk><blk><blk><blk><blk><blk>Л<blk><blk><blk><blk><blk><blk><blk><blk><blk> <blk><blk>Щ<blk><blk><blk><blk><blk><blk><blk><blk><blk><blk><blk><blk>4<blk><blk><blk><blk><blk><blk><blk><blk><blk><blk>Ц<blk><blk><blk><blk><blk><blk><blk><blk><blk><blk><blk><blk>Ф<blk><blk><blk><blk><blk><blk><blk><blk><blk><blk>Н<blk><blk><blk><blk><blk><blk><blk><blk><blk><blk><blk><blk><blk><blk><blk><blk><blk><blk><blk><blk>\n",
      "Beam      : ФЦСХЛ Щ4ЦФН\n",
      "Argmax: [0, 0, 0, 0, 0, 0, 0, 0, 34, 0, 0, 0, 0, 0, 0, 0, 0, 0, 36, 0]\n",
      "avg max prob: 0.9925350546836853\n",
      "Val Metric=0.9638\n",
      "\n",
      " Epoch 29/50\n"
     ]
    },
    {
     "name": "stderr",
     "output_type": "stream",
     "text": [
      "Training: 100%|██████████| 398/398 [00:39<00:00, 10.04it/s]\n"
     ]
    },
    {
     "name": "stdout",
     "output_type": "stream",
     "text": [
      "avg max prob: 0.9926445484161377\n",
      "Epoch 29 with loss = 0.4109\n"
     ]
    },
    {
     "name": "stderr",
     "output_type": "stream",
     "text": [
      "                                                                    \r"
     ]
    },
    {
     "name": "stdout",
     "output_type": "stream",
     "text": [
      "GT        : ЬСМЧ6ЦГЖ\n",
      "Argmax    : <blk><blk><blk><blk><blk><blk><blk><blk><blk><blk><blk><blk><blk><blk><blk><blk><blk><blk><blk><blk><blk><blk>Ь<blk><blk><blk><blk><blk><blk><blk><blk><blk><blk>С<blk><blk><blk><blk><blk><blk><blk>М<blk><blk><blk><blk><blk><blk><blk>Ч<blk><blk><blk><blk><blk><blk><blk><blk><blk><blk><blk><blk><blk>6<blk><blk><blk><blk><blk><blk><blk><blk><blk><blk>Ц<blk><blk><blk><blk><blk><blk><blk><blk><blk><blk><blk>Г<blk><blk><blk><blk><blk><blk><blk><blk><blk>Ж<blk><blk><blk><blk><blk><blk><blk><blk><blk><blk><blk><blk><blk><blk><blk><blk><blk><blk><blk><blk><blk><blk><blk><blk><blk><blk><blk><blk><blk>\n",
      "Beam      : ЬСМЧ6ЦГЖ\n",
      "Argmax: [0, 0, 0, 0, 0, 0, 0, 0, 0, 0, 0, 0, 0, 0, 0, 0, 0, 0, 0, 0]\n",
      "GT        : ФЦСХЛ Щ4ЦФН\n",
      "Argmax    : <blk><blk><blk><blk><blk><blk><blk><blk>ФФ<blk><blk><blk><blk><blk><blk><blk><blk>Ц<blk><blk><blk><blk><blk><blk><blk><blk><blk><blk><blk>С<blk><blk><blk><blk><blk>Х<blk><blk><blk><blk><blk><blk><blk>Л<blk><blk><blk><blk><blk><blk><blk><blk><blk>  <blk><blk>Я<blk><blk><blk><blk><blk><blk><blk><blk><blk><blk><blk>4<blk><blk><blk><blk><blk><blk><blk><blk><blk><blk><blk>Ц<blk><blk><blk><blk><blk><blk><blk><blk><blk><blk><blk>Ф<blk><blk><blk><blk><blk><blk><blk><blk><blk><blk>Н<blk><blk><blk><blk><blk><blk><blk><blk><blk><blk><blk><blk><blk><blk><blk><blk><blk><blk><blk><blk>\n",
      "Beam      : ФЦСХЛ Я4ЦФН\n",
      "Argmax: [0, 0, 0, 0, 0, 0, 0, 0, 34, 34, 0, 0, 0, 0, 0, 0, 0, 0, 36, 0]\n",
      "avg max prob: 0.9913679957389832\n",
      "Val Metric=1.0250\n",
      "\n",
      " Epoch 30/50\n"
     ]
    },
    {
     "name": "stderr",
     "output_type": "stream",
     "text": [
      "Training: 100%|██████████| 398/398 [00:40<00:00,  9.79it/s]\n"
     ]
    },
    {
     "name": "stdout",
     "output_type": "stream",
     "text": [
      "avg max prob: 0.9912828207015991\n",
      "Epoch 30 with loss = 0.4013\n"
     ]
    },
    {
     "name": "stderr",
     "output_type": "stream",
     "text": [
      "                                                                    \r"
     ]
    },
    {
     "name": "stdout",
     "output_type": "stream",
     "text": [
      "GT        : ЬСМЧ6ЦГЖ\n",
      "Argmax    : <blk><blk><blk><blk><blk><blk><blk><blk><blk><blk><blk><blk><blk><blk><blk><blk><blk><blk><blk><blk><blk><blk>Ь<blk><blk><blk><blk><blk><blk><blk><blk><blk><blk>С<blk><blk><blk><blk><blk><blk>М<blk><blk><blk><blk><blk><blk><blk><blk>Ч<blk><blk><blk><blk><blk><blk><blk><blk><blk><blk><blk><blk><blk>6<blk><blk><blk><blk><blk><blk><blk><blk><blk><blk>Ц<blk><blk><blk><blk><blk><blk><blk><blk><blk><blk><blk>Г<blk><blk><blk><blk><blk><blk><blk><blk><blk>Ж<blk><blk><blk><blk><blk><blk><blk><blk><blk><blk><blk><blk><blk><blk><blk><blk><blk><blk><blk><blk><blk><blk><blk><blk><blk><blk><blk><blk><blk>\n",
      "Beam      : ЬСМЧ6ЦГЖ\n",
      "Argmax: [0, 0, 0, 0, 0, 0, 0, 0, 0, 0, 0, 0, 0, 0, 0, 0, 0, 0, 0, 0]\n",
      "GT        : ФЦСХЛ Щ4ЦФН\n",
      "Argmax    : <blk><blk><blk><blk><blk><blk><blk><blk>Ф<blk><blk><blk><blk><blk><blk><blk><blk><blk>Ц<blk><blk><blk><blk><blk><blk><blk><blk><blk><blk><blk>С<blk><blk><blk><blk><blk>Х<blk><blk><blk><blk><blk><blk><blk>Л<blk><blk><blk><blk><blk><blk><blk><blk><blk> <blk><blk><blk>Щ<blk><blk><blk><blk><blk><blk><blk><blk><blk><blk><blk>4<blk><blk><blk><blk><blk><blk><blk><blk><blk><blk>Ц<blk><blk><blk><blk><blk><blk><blk><blk><blk><blk><blk><blk>Г<blk><blk><blk><blk><blk><blk><blk><blk><blk><blk>Н<blk><blk><blk><blk><blk><blk><blk><blk><blk><blk><blk><blk><blk><blk><blk><blk><blk><blk><blk><blk>\n",
      "Beam      : ФЦСХЛ Щ4ЦГН\n",
      "Argmax: [0, 0, 0, 0, 0, 0, 0, 0, 34, 0, 0, 0, 0, 0, 0, 0, 0, 0, 36, 0]\n",
      "avg max prob: 0.9932380318641663\n",
      "Val Metric=0.9404\n",
      "\n",
      " Epoch 31/50\n"
     ]
    },
    {
     "name": "stderr",
     "output_type": "stream",
     "text": [
      "Training: 100%|██████████| 398/398 [00:44<00:00,  8.97it/s]\n"
     ]
    },
    {
     "name": "stdout",
     "output_type": "stream",
     "text": [
      "avg max prob: 0.9908928871154785\n",
      "Epoch 31 with loss = 0.4033\n"
     ]
    },
    {
     "name": "stderr",
     "output_type": "stream",
     "text": [
      "                                                                    \r"
     ]
    },
    {
     "name": "stdout",
     "output_type": "stream",
     "text": [
      "GT        : ЬСМЧ6ЦГЖ\n",
      "Argmax    : <blk><blk><blk><blk><blk><blk><blk><blk><blk><blk><blk><blk><blk><blk><blk><blk><blk><blk><blk><blk><blk><blk>Ь<blk><blk><blk><blk><blk><blk><blk><blk><blk><blk>С<blk><blk><blk><blk><blk><blk><blk>М<blk><blk><blk><blk><blk><blk><blk>Ч<blk><blk><blk><blk><blk><blk><blk><blk><blk><blk><blk><blk><blk>6<blk><blk><blk><blk><blk><blk><blk><blk><blk><blk>Ц<blk><blk><blk><blk><blk><blk><blk><blk><blk><blk><blk>Г<blk><blk><blk><blk><blk><blk><blk><blk><blk>Ж<blk><blk><blk><blk><blk><blk><blk><blk><blk><blk><blk><blk><blk><blk><blk><blk><blk><blk><blk><blk><blk><blk><blk><blk><blk><blk><blk><blk><blk>\n",
      "Beam      : ЬСМЧ6ЦГЖ\n",
      "Argmax: [0, 0, 0, 0, 0, 0, 0, 0, 0, 0, 0, 0, 0, 0, 0, 0, 0, 0, 0, 0]\n",
      "GT        : ФЦСХЛ Щ4ЦФН\n",
      "Argmax    : <blk><blk><blk><blk><blk><blk><blk><blk>Ф<blk><blk><blk><blk><blk><blk><blk><blk><blk>Ц<blk><blk><blk><blk><blk><blk><blk><blk><blk><blk><blk>С<blk><blk><blk><blk><blk>Х<blk><blk><blk><blk><blk><blk><blk>Л<blk><blk><blk><blk><blk><blk><blk><blk><blk>  <blk><blk><blk><blk><blk><blk><blk><blk><blk><blk><blk><blk><blk><blk>4<blk><blk><blk><blk><blk><blk><blk><blk><blk><blk><blk>Ц<blk><blk><blk><blk><blk><blk><blk><blk><blk><blk><blk>Г<blk><blk><blk><blk><blk><blk><blk><blk><blk><blk>Н<blk><blk><blk><blk><blk><blk><blk><blk><blk><blk><blk><blk><blk><blk><blk><blk><blk><blk><blk><blk>\n",
      "Beam      : ФЦСХЛ 4ЦГН\n",
      "Argmax: [0, 0, 0, 0, 0, 0, 0, 0, 34, 0, 0, 0, 0, 0, 0, 0, 0, 0, 36, 0]\n",
      "avg max prob: 0.9920953512191772\n",
      "Val Metric=0.9714\n",
      "\n",
      " Epoch 32/50\n"
     ]
    },
    {
     "name": "stderr",
     "output_type": "stream",
     "text": [
      "Training: 100%|██████████| 398/398 [00:46<00:00,  8.62it/s]\n"
     ]
    },
    {
     "name": "stdout",
     "output_type": "stream",
     "text": [
      "avg max prob: 0.9906858205795288\n",
      "Epoch 32 with loss = 0.4015\n"
     ]
    },
    {
     "name": "stderr",
     "output_type": "stream",
     "text": [
      "                                                                    \r"
     ]
    },
    {
     "name": "stdout",
     "output_type": "stream",
     "text": [
      "GT        : ЬСМЧ6ЦГЖ\n",
      "Argmax    : <blk><blk><blk><blk><blk><blk><blk><blk><blk><blk><blk><blk><blk><blk><blk><blk><blk><blk><blk><blk><blk>Ь<blk><blk><blk><blk><blk><blk><blk><blk><blk><blk><blk>С<blk><blk><blk><blk><blk><blk>М<blk><blk><blk><blk><blk><blk><blk><blk>Ч<blk><blk><blk><blk><blk><blk><blk><blk><blk><blk><blk><blk><blk>6<blk><blk><blk><blk><blk><blk><blk><blk><blk><blk>Ц<blk><blk><blk><blk><blk><blk><blk><blk><blk><blk><blk>Г<blk><blk><blk><blk><blk><blk><blk><blk><blk>Ж<blk><blk><blk><blk><blk><blk><blk><blk><blk><blk><blk><blk><blk><blk><blk><blk><blk><blk><blk><blk><blk><blk><blk><blk><blk><blk><blk><blk><blk>\n",
      "Beam      : ЬСМЧ6ЦГЖ\n",
      "Argmax: [0, 0, 0, 0, 0, 0, 0, 0, 0, 0, 0, 0, 0, 0, 0, 0, 0, 0, 0, 0]\n",
      "GT        : ФЦСХЛ Щ4ЦФН\n",
      "Argmax    : <blk><blk><blk><blk><blk><blk><blk><blk>Ф<blk><blk><blk><blk><blk><blk><blk><blk><blk>Ц<blk><blk><blk><blk><blk><blk><blk><blk><blk><blk><blk>С<blk><blk><blk><blk><blk>Х<blk><blk><blk><blk><blk><blk><blk>Л<blk><blk><blk><blk><blk><blk><blk><blk><blk> <blk><blk>Щ<blk><blk><blk><blk><blk><blk><blk><blk><blk><blk><blk><blk>4<blk><blk><blk><blk><blk><blk><blk><blk><blk><blk><blk>Ц<blk><blk><blk><blk><blk><blk><blk><blk><blk><blk><blk>Г<blk><blk><blk><blk><blk><blk><blk><blk><blk><blk>Н<blk><blk><blk><blk><blk><blk><blk><blk><blk><blk><blk><blk><blk><blk><blk><blk><blk><blk><blk><blk>\n",
      "Beam      : ФЦСХЛ Щ4ЦГН\n",
      "Argmax: [0, 0, 0, 0, 0, 0, 0, 0, 34, 0, 0, 0, 0, 0, 0, 0, 0, 0, 36, 0]\n",
      "avg max prob: 0.9927297234535217\n",
      "Val Metric=1.0038\n",
      "\n",
      " Epoch 33/50\n"
     ]
    },
    {
     "name": "stderr",
     "output_type": "stream",
     "text": [
      "Training: 100%|██████████| 398/398 [00:44<00:00,  9.02it/s]\n"
     ]
    },
    {
     "name": "stdout",
     "output_type": "stream",
     "text": [
      "avg max prob: 0.9943718910217285\n",
      "Epoch 33 with loss = 0.3890\n"
     ]
    },
    {
     "name": "stderr",
     "output_type": "stream",
     "text": [
      "                                                                    \r"
     ]
    },
    {
     "name": "stdout",
     "output_type": "stream",
     "text": [
      "GT        : ЬСМЧ6ЦГЖ\n",
      "Argmax    : <blk><blk><blk><blk><blk><blk><blk><blk><blk><blk><blk><blk><blk><blk><blk><blk><blk><blk><blk><blk><blk><blk>Ь<blk><blk><blk><blk><blk><blk><blk><blk><blk><blk>С<blk><blk><blk><blk><blk><blk><blk>М<blk><blk><blk><blk><blk><blk><blk>Ч<blk><blk><blk><blk><blk><blk><blk><blk><blk><blk><blk><blk><blk>6<blk><blk><blk><blk><blk><blk><blk><blk><blk><blk>Ц<blk><blk><blk><blk><blk><blk><blk><blk><blk><blk><blk>Г<blk><blk><blk><blk><blk><blk><blk><blk><blk>Ж<blk><blk><blk><blk><blk><blk><blk><blk><blk><blk><blk><blk><blk><blk><blk><blk><blk><blk><blk><blk><blk><blk><blk><blk><blk><blk><blk><blk><blk>\n",
      "Beam      : ЬСМЧ6ЦГЖ\n",
      "Argmax: [0, 0, 0, 0, 0, 0, 0, 0, 0, 0, 0, 0, 0, 0, 0, 0, 0, 0, 0, 0]\n",
      "GT        : ФЦСХЛ Щ4ЦФН\n",
      "Argmax    : <blk><blk><blk><blk><blk><blk><blk><blk>Ф<blk><blk><blk><blk><blk><blk><blk><blk><blk>ЦЦ<blk><blk><blk><blk><blk><blk><blk><blk><blk><blk>С<blk><blk><blk><blk><blk>Х<blk><blk><blk><blk><blk><blk><blk>Л<blk><blk><blk><blk><blk><blk><blk><blk><blk> <blk><blk><blk>Щ<blk><blk><blk><blk><blk><blk><blk><blk><blk><blk><blk>4<blk><blk><blk><blk><blk><blk><blk><blk><blk><blk><blk>Ц<blk><blk><blk><blk><blk><blk><blk><blk><blk><blk><blk>Ф<blk><blk><blk><blk><blk><blk><blk><blk><blk><blk>Н<blk><blk><blk><blk><blk><blk><blk><blk><blk><blk><blk><blk><blk><blk><blk><blk><blk><blk><blk><blk>\n",
      "Beam      : ФЦСХЛ Щ4ЦФН\n",
      "Argmax: [0, 0, 0, 0, 0, 0, 0, 0, 34, 0, 0, 0, 0, 0, 0, 0, 0, 0, 36, 36]\n",
      "avg max prob: 0.9928679466247559\n",
      "Val Metric=1.0067\n",
      "\n",
      " Epoch 34/50\n"
     ]
    },
    {
     "name": "stderr",
     "output_type": "stream",
     "text": [
      "Training: 100%|██████████| 398/398 [00:43<00:00,  9.11it/s]\n"
     ]
    },
    {
     "name": "stdout",
     "output_type": "stream",
     "text": [
      "avg max prob: 0.9903482794761658\n",
      "Epoch 34 with loss = 0.3939\n"
     ]
    },
    {
     "name": "stderr",
     "output_type": "stream",
     "text": [
      "                                                                    \r"
     ]
    },
    {
     "name": "stdout",
     "output_type": "stream",
     "text": [
      "GT        : ЬСМЧ6ЦГЖ\n",
      "Argmax    : <blk><blk><blk><blk><blk><blk><blk><blk><blk><blk><blk><blk><blk><blk><blk><blk><blk><blk><blk><blk><blk><blk>Ь<blk><blk><blk><blk><blk><blk><blk><blk><blk><blk>С<blk><blk><blk><blk><blk><blk>М<blk><blk><blk><blk><blk><blk><blk><blk>Ч<blk><blk><blk><blk><blk><blk><blk><blk><blk><blk><blk><blk><blk>6<blk><blk><blk><blk><blk><blk><blk><blk><blk><blk>Ц<blk><blk><blk><blk><blk><blk><blk><blk><blk><blk><blk>Г<blk><blk><blk><blk><blk><blk><blk><blk><blk>Ж<blk><blk><blk><blk><blk><blk><blk><blk><blk><blk><blk><blk><blk><blk><blk><blk><blk><blk><blk><blk><blk><blk><blk><blk><blk><blk><blk><blk><blk>\n",
      "Beam      : ЬСМЧ6ЦГЖ\n",
      "Argmax: [0, 0, 0, 0, 0, 0, 0, 0, 0, 0, 0, 0, 0, 0, 0, 0, 0, 0, 0, 0]\n",
      "GT        : ФЦСХЛ Щ4ЦФН\n",
      "Argmax    : <blk><blk><blk><blk><blk><blk><blk><blk>Ф<blk><blk><blk><blk><blk><blk><blk><blk><blk>Ц<blk><blk><blk><blk><blk><blk><blk><blk><blk><blk><blk>С<blk><blk><blk><blk><blk>Х<blk><blk><blk><blk><blk><blk><blk>Л<blk><blk><blk><blk><blk><blk><blk><blk><blk>  <blk><blk>Г<blk><blk><blk><blk><blk><blk><blk><blk><blk><blk><blk>4<blk><blk><blk><blk><blk><blk><blk><blk><blk><blk><blk>Ц<blk><blk><blk><blk><blk><blk><blk><blk><blk><blk><blk>Ф<blk><blk><blk><blk><blk><blk><blk><blk><blk><blk>Н<blk><blk><blk><blk><blk><blk><blk><blk><blk><blk><blk><blk><blk><blk><blk><blk><blk><blk><blk><blk>\n",
      "Beam      : ФЦСХЛ Г4ЦФН\n",
      "Argmax: [0, 0, 0, 0, 0, 0, 0, 0, 34, 0, 0, 0, 0, 0, 0, 0, 0, 0, 36, 0]\n",
      "avg max prob: 0.9932997226715088\n",
      "Val Metric=0.9422\n",
      "\n",
      " Epoch 35/50\n"
     ]
    },
    {
     "name": "stderr",
     "output_type": "stream",
     "text": [
      "Training: 100%|██████████| 398/398 [00:43<00:00,  9.05it/s]\n"
     ]
    },
    {
     "name": "stdout",
     "output_type": "stream",
     "text": [
      "avg max prob: 0.9918296933174133\n",
      "Epoch 35 with loss = 0.3849\n"
     ]
    },
    {
     "name": "stderr",
     "output_type": "stream",
     "text": [
      "                                                                    \r"
     ]
    },
    {
     "name": "stdout",
     "output_type": "stream",
     "text": [
      "GT        : ЬСМЧ6ЦГЖ\n",
      "Argmax    : <blk><blk><blk><blk><blk><blk><blk><blk><blk><blk><blk><blk><blk><blk><blk><blk><blk><blk><blk><blk><blk><blk>Ь<blk><blk><blk><blk><blk><blk><blk><blk><blk><blk>С<blk><blk><blk><blk><blk><blk>М<blk><blk><blk><blk><blk><blk><blk><blk>Ч<blk><blk><blk><blk><blk><blk><blk><blk><blk><blk><blk><blk>6<blk><blk><blk><blk><blk><blk><blk><blk><blk><blk><blk>Ц<blk><blk><blk><blk><blk><blk><blk><blk><blk><blk><blk>Г<blk><blk><blk><blk><blk><blk><blk><blk>ЖЖ<blk><blk><blk><blk><blk><blk><blk><blk><blk><blk><blk><blk><blk><blk><blk><blk><blk><blk><blk><blk><blk><blk><blk><blk><blk><blk><blk><blk><blk>\n",
      "Beam      : ЬСМЧ6ЦГЖ\n",
      "Argmax: [0, 0, 0, 0, 0, 0, 0, 0, 0, 0, 0, 0, 0, 0, 0, 0, 0, 0, 0, 0]\n",
      "GT        : ФЦСХЛ Щ4ЦФН\n",
      "Argmax    : <blk><blk><blk><blk><blk><blk><blk><blk>Ф<blk><blk><blk><blk><blk><blk><blk><blk><blk>Ц<blk><blk><blk><blk><blk><blk><blk><blk><blk><blk><blk>С<blk><blk><blk><blk><blk>Х<blk><blk><blk><blk><blk><blk><blk>Л<blk><blk><blk><blk><blk><blk><blk><blk>  <blk><blk>Щ<blk><blk><blk><blk><blk><blk><blk><blk><blk><blk><blk><blk>4<blk><blk><blk><blk><blk><blk><blk><blk><blk><blk>Ц<blk><blk><blk><blk><blk><blk><blk><blk><blk><blk><blk><blk>Г<blk><blk><blk><blk><blk><blk><blk><blk><blk><blk>Н<blk><blk><blk><blk><blk><blk><blk><blk><blk><blk><blk><blk><blk><blk><blk><blk><blk><blk><blk><blk>\n",
      "Beam      : ФЦСХЛ Щ4ЦГН\n",
      "Argmax: [0, 0, 0, 0, 0, 0, 0, 0, 34, 0, 0, 0, 0, 0, 0, 0, 0, 0, 36, 0]\n",
      "avg max prob: 0.9921340942382812\n",
      "Val Metric=0.9554\n",
      "\n",
      " Epoch 36/50\n"
     ]
    },
    {
     "name": "stderr",
     "output_type": "stream",
     "text": [
      "Training: 100%|██████████| 398/398 [00:43<00:00,  9.08it/s]\n"
     ]
    },
    {
     "name": "stdout",
     "output_type": "stream",
     "text": [
      "avg max prob: 0.9895620346069336\n",
      "Epoch 36 with loss = 0.3765\n"
     ]
    },
    {
     "name": "stderr",
     "output_type": "stream",
     "text": [
      "                                                                    \r"
     ]
    },
    {
     "name": "stdout",
     "output_type": "stream",
     "text": [
      "GT        : ЬСМЧ6ЦГЖ\n",
      "Argmax    : <blk><blk><blk><blk><blk><blk><blk><blk><blk><blk><blk><blk><blk><blk><blk><blk><blk><blk><blk><blk><blk><blk>Ь<blk><blk><blk><blk><blk><blk><blk><blk><blk><blk>С<blk><blk><blk><blk><blk><blk>М<blk><blk><blk><blk><blk><blk><blk><blk>Ч<blk><blk><blk><blk><blk><blk><blk><blk><blk><blk><blk><blk>6<blk><blk><blk><blk><blk><blk><blk><blk><blk><blk><blk>Ц<blk><blk><blk><blk><blk><blk><blk><blk><blk><blk><blk>Г<blk><blk><blk><blk><blk><blk><blk><blk>Ж<blk><blk><blk><blk><blk><blk><blk><blk><blk><blk><blk><blk><blk><blk><blk><blk><blk><blk><blk><blk><blk><blk><blk><blk><blk><blk><blk><blk><blk><blk>\n",
      "Beam      : ЬСМЧ6ЦГЖ\n",
      "Argmax: [0, 0, 0, 0, 0, 0, 0, 0, 0, 0, 0, 0, 0, 0, 0, 0, 0, 0, 0, 0]\n",
      "GT        : ФЦСХЛ Щ4ЦФН\n",
      "Argmax    : <blk><blk><blk><blk><blk><blk><blk><blk>Ф<blk><blk><blk><blk><blk><blk><blk><blk><blk>Ц<blk><blk><blk><blk><blk><blk><blk><blk><blk><blk><blk>С<blk><blk><blk><blk><blk>Х<blk><blk><blk><blk><blk><blk><blk>Л<blk><blk><blk><blk><blk><blk><blk><blk><blk> <blk><blk>Щ<blk><blk><blk><blk><blk><blk><blk><blk><blk><blk><blk><blk>4<blk><blk><blk><blk><blk><blk><blk><blk><blk><blk>Ц<blk><blk><blk><blk><blk><blk><blk><blk><blk><blk><blk><blk>Э<blk><blk><blk><blk><blk><blk><blk><blk><blk><blk>Н<blk><blk><blk><blk><blk><blk><blk><blk><blk><blk><blk><blk><blk><blk><blk><blk><blk><blk><blk><blk>\n",
      "Beam      : ФЦСХЛ Щ4ЦЭН\n",
      "Argmax: [0, 0, 0, 0, 0, 0, 0, 0, 34, 0, 0, 0, 0, 0, 0, 0, 0, 0, 36, 0]\n",
      "avg max prob: 0.9922208189964294\n",
      "Val Metric=0.9560\n",
      "\n",
      " Epoch 37/50\n"
     ]
    },
    {
     "name": "stderr",
     "output_type": "stream",
     "text": [
      "Training: 100%|██████████| 398/398 [00:43<00:00,  9.13it/s]\n"
     ]
    },
    {
     "name": "stdout",
     "output_type": "stream",
     "text": [
      "avg max prob: 0.9919819235801697\n",
      "Epoch 37 with loss = 0.3802\n"
     ]
    },
    {
     "name": "stderr",
     "output_type": "stream",
     "text": [
      "                                                                    \r"
     ]
    },
    {
     "name": "stdout",
     "output_type": "stream",
     "text": [
      "GT        : ЬСМЧ6ЦГЖ\n",
      "Argmax    : <blk><blk><blk><blk><blk><blk><blk><blk><blk><blk><blk><blk><blk><blk><blk><blk><blk><blk><blk><blk><blk><blk>Ь<blk><blk><blk><blk><blk><blk><blk><blk><blk><blk>С<blk><blk><blk><blk><blk><blk>М<blk><blk><blk><blk><blk><blk><blk><blk>Ч<blk><blk><blk><blk><blk><blk><blk><blk><blk><blk><blk><blk><blk>6<blk><blk><blk><blk><blk><blk><blk><blk><blk><blk>Ц<blk><blk><blk><blk><blk><blk><blk><blk><blk><blk><blk>Г<blk><blk><blk><blk><blk><blk><blk><blk><blk>Ж<blk><blk><blk><blk><blk><blk><blk><blk><blk><blk><blk><blk><blk><blk><blk><blk><blk><blk><blk><blk><blk><blk><blk><blk><blk><blk><blk><blk><blk>\n",
      "Beam      : ЬСМЧ6ЦГЖ\n",
      "Argmax: [0, 0, 0, 0, 0, 0, 0, 0, 0, 0, 0, 0, 0, 0, 0, 0, 0, 0, 0, 0]\n",
      "GT        : ФЦСХЛ Щ4ЦФН\n",
      "Argmax    : <blk><blk><blk><blk><blk><blk><blk><blk>Ф<blk><blk><blk><blk><blk><blk><blk><blk><blk>Ц<blk><blk><blk><blk><blk><blk><blk><blk><blk><blk><blk>С<blk><blk><blk><blk><blk>Х<blk><blk><blk><blk><blk><blk><blk>Л<blk><blk><blk><blk><blk><blk><blk><blk>  <blk><blk>Щ<blk><blk><blk><blk><blk><blk><blk><blk><blk><blk><blk><blk>4<blk><blk><blk><blk><blk><blk><blk><blk><blk><blk><blk>Ц<blk><blk><blk><blk><blk><blk><blk><blk><blk><blk><blk>Ф<blk><blk><blk><blk><blk><blk><blk><blk><blk><blk>Н<blk><blk><blk><blk><blk><blk><blk><blk><blk><blk><blk><blk><blk><blk><blk><blk><blk><blk><blk><blk>\n",
      "Beam      : ФЦСХЛ Щ4ЦФН\n",
      "Argmax: [0, 0, 0, 0, 0, 0, 0, 0, 34, 0, 0, 0, 0, 0, 0, 0, 0, 0, 36, 0]\n",
      "avg max prob: 0.993098795413971\n",
      "Val Metric=0.9147\n",
      "\n",
      " Epoch 38/50\n"
     ]
    },
    {
     "name": "stderr",
     "output_type": "stream",
     "text": [
      "Training: 100%|██████████| 398/398 [00:43<00:00,  9.07it/s]\n"
     ]
    },
    {
     "name": "stdout",
     "output_type": "stream",
     "text": [
      "avg max prob: 0.9912022352218628\n",
      "Epoch 38 with loss = 0.3820\n"
     ]
    },
    {
     "name": "stderr",
     "output_type": "stream",
     "text": [
      "                                                                    \r"
     ]
    },
    {
     "name": "stdout",
     "output_type": "stream",
     "text": [
      "GT        : ЬСМЧ6ЦГЖ\n",
      "Argmax    : <blk><blk><blk><blk><blk><blk><blk><blk><blk><blk><blk><blk><blk><blk><blk><blk><blk><blk><blk><blk><blk><blk>Ь<blk><blk><blk><blk><blk><blk><blk><blk><blk><blk>С<blk><blk><blk><blk><blk><blk>М<blk><blk><blk><blk><blk><blk><blk><blk>Ч<blk><blk><blk><blk><blk><blk><blk><blk><blk><blk><blk><blk><blk>6<blk><blk><blk><blk><blk><blk><blk><blk><blk><blk>Ц<blk><blk><blk><blk><blk><blk><blk><blk><blk><blk><blk>Г<blk><blk><blk><blk><blk><blk><blk><blk><blk>Ж<blk><blk><blk><blk><blk><blk><blk><blk><blk><blk><blk><blk><blk><blk><blk><blk><blk><blk><blk><blk><blk><blk><blk><blk><blk><blk><blk><blk><blk>\n",
      "Beam      : ЬСМЧ6ЦГЖ\n",
      "Argmax: [0, 0, 0, 0, 0, 0, 0, 0, 0, 0, 0, 0, 0, 0, 0, 0, 0, 0, 0, 0]\n",
      "GT        : ФЦСХЛ Щ4ЦФН\n",
      "Argmax    : <blk><blk><blk><blk><blk><blk><blk><blk>Ф<blk><blk><blk><blk><blk><blk><blk><blk><blk>Ц<blk><blk><blk><blk><blk><blk><blk><blk><blk><blk><blk>С<blk><blk><blk><blk><blk>Х<blk><blk><blk><blk><blk><blk><blk>Л<blk><blk><blk><blk><blk><blk><blk><blk><blk> <blk><blk><blk>Я<blk><blk><blk><blk><blk><blk><blk><blk><blk><blk><blk>4<blk><blk><blk><blk><blk><blk><blk><blk><blk><blk><blk>Ц<blk><blk><blk><blk><blk><blk><blk><blk><blk><blk><blk>Г<blk><blk><blk><blk><blk><blk><blk><blk><blk><blk>Н<blk><blk><blk><blk><blk><blk><blk><blk><blk><blk><blk><blk><blk><blk><blk><blk><blk><blk><blk><blk>\n",
      "Beam      : ФЦСХЛ Я4ЦГН\n",
      "Argmax: [0, 0, 0, 0, 0, 0, 0, 0, 34, 0, 0, 0, 0, 0, 0, 0, 0, 0, 36, 0]\n",
      "avg max prob: 0.9927133917808533\n",
      "Val Metric=0.9761\n",
      "\n",
      " Epoch 39/50\n"
     ]
    },
    {
     "name": "stderr",
     "output_type": "stream",
     "text": [
      "Training: 100%|██████████| 398/398 [00:44<00:00,  8.86it/s]\n"
     ]
    },
    {
     "name": "stdout",
     "output_type": "stream",
     "text": [
      "avg max prob: 0.9896069765090942\n",
      "Epoch 39 with loss = 0.3757\n"
     ]
    },
    {
     "name": "stderr",
     "output_type": "stream",
     "text": [
      "                                                                    \r"
     ]
    },
    {
     "name": "stdout",
     "output_type": "stream",
     "text": [
      "GT        : ЬСМЧ6ЦГЖ\n",
      "Argmax    : <blk><blk><blk><blk><blk><blk><blk><blk><blk><blk><blk><blk><blk><blk><blk><blk><blk><blk><blk><blk><blk><blk>Ь<blk><blk><blk><blk><blk><blk><blk><blk><blk><blk>С<blk><blk><blk><blk><blk><blk>М<blk><blk><blk><blk><blk><blk><blk><blk>Ч<blk><blk><blk><blk><blk><blk><blk><blk><blk><blk><blk><blk><blk>6<blk><blk><blk><blk><blk><blk><blk><blk><blk><blk>Ц<blk><blk><blk><blk><blk><blk><blk><blk><blk><blk><blk>Г<blk><blk><blk><blk><blk><blk><blk><blk><blk>Ж<blk><blk><blk><blk><blk><blk><blk><blk><blk><blk><blk><blk><blk><blk><blk><blk><blk><blk><blk><blk><blk><blk><blk><blk><blk><blk><blk><blk><blk>\n",
      "Beam      : ЬСМЧ6ЦГЖ\n",
      "Argmax: [0, 0, 0, 0, 0, 0, 0, 0, 0, 0, 0, 0, 0, 0, 0, 0, 0, 0, 0, 0]\n",
      "GT        : ФЦСХЛ Щ4ЦФН\n",
      "Argmax    : <blk><blk><blk><blk><blk><blk><blk><blk>Ф<blk><blk><blk><blk><blk><blk><blk><blk><blk>Ц<blk><blk><blk><blk><blk><blk><blk><blk><blk><blk><blk>С<blk><blk><blk><blk><blk>Х<blk><blk><blk><blk><blk><blk><blk>Л<blk><blk><blk><blk><blk><blk><blk><blk><blk> <blk><blk><blk>Щ<blk><blk><blk><blk><blk><blk><blk><blk><blk><blk><blk>4<blk><blk><blk><blk><blk><blk><blk><blk><blk><blk><blk>Ц<blk><blk><blk><blk><blk><blk><blk><blk><blk><blk><blk>Ф<blk><blk><blk><blk><blk><blk><blk><blk><blk><blk>Н<blk><blk><blk><blk><blk><blk><blk><blk><blk><blk><blk><blk><blk><blk><blk><blk><blk><blk><blk><blk>\n",
      "Beam      : ФЦСХЛ Щ4ЦФН\n",
      "Argmax: [0, 0, 0, 0, 0, 0, 0, 0, 34, 0, 0, 0, 0, 0, 0, 0, 0, 0, 36, 0]\n",
      "avg max prob: 0.9928079843521118\n",
      "Val Metric=0.9254\n",
      "\n",
      " Epoch 40/50\n"
     ]
    },
    {
     "name": "stderr",
     "output_type": "stream",
     "text": [
      "Training: 100%|██████████| 398/398 [00:41<00:00,  9.51it/s]\n"
     ]
    },
    {
     "name": "stdout",
     "output_type": "stream",
     "text": [
      "avg max prob: 0.9898859858512878\n",
      "Epoch 40 with loss = 0.3712\n"
     ]
    },
    {
     "name": "stderr",
     "output_type": "stream",
     "text": [
      "                                                                    \r"
     ]
    },
    {
     "name": "stdout",
     "output_type": "stream",
     "text": [
      "GT        : ЬСМЧ6ЦГЖ\n",
      "Argmax    : <blk><blk><blk><blk><blk><blk><blk><blk><blk><blk><blk><blk><blk><blk><blk><blk><blk><blk><blk><blk><blk><blk>Ь<blk><blk><blk><blk><blk><blk><blk><blk><blk><blk>С<blk><blk><blk><blk><blk><blk><blk>М<blk><blk><blk><blk><blk><blk><blk>Ч<blk><blk><blk><blk><blk><blk><blk><blk><blk><blk><blk><blk><blk>6<blk><blk><blk><blk><blk><blk><blk><blk><blk><blk>Ц<blk><blk><blk><blk><blk><blk><blk><blk><blk><blk><blk>Г<blk><blk><blk><blk><blk><blk><blk><blk><blk>Ж<blk><blk><blk><blk><blk><blk><blk><blk><blk><blk><blk><blk><blk><blk><blk><blk><blk><blk><blk><blk><blk><blk><blk><blk><blk><blk><blk><blk><blk>\n",
      "Beam      : ЬСМЧ6ЦГЖ\n",
      "Argmax: [0, 0, 0, 0, 0, 0, 0, 0, 0, 0, 0, 0, 0, 0, 0, 0, 0, 0, 0, 0]\n",
      "GT        : ФЦСХЛ Щ4ЦФН\n",
      "Argmax    : <blk><blk><blk><blk><blk><blk><blk><blk><blk>Ф<blk><blk><blk><blk><blk><blk><blk><blk>Ц<blk><blk><blk><blk><blk><blk><blk><blk><blk><blk><blk>С<blk><blk><blk><blk><blk>Х<blk><blk><blk><blk><blk><blk><blk>Л<blk><blk><blk><blk><blk><blk><blk><blk>  <blk><blk><blk>Щ<blk><blk><blk><blk><blk><blk><blk><blk><blk><blk><blk>4<blk><blk><blk><blk><blk><blk><blk><blk><blk><blk><blk>Ц<blk><blk><blk><blk><blk><blk><blk><blk><blk><blk><blk>Ф<blk><blk><blk><blk><blk><blk><blk><blk><blk><blk>Н<blk><blk><blk><blk><blk><blk><blk><blk><blk><blk><blk><blk><blk><blk><blk><blk><blk><blk><blk><blk>\n",
      "Beam      : ФЦСХЛ Щ4ЦФН\n",
      "Argmax: [0, 0, 0, 0, 0, 0, 0, 0, 0, 34, 0, 0, 0, 0, 0, 0, 0, 0, 36, 0]\n",
      "avg max prob: 0.9926957488059998\n",
      "Val Metric=0.9393\n",
      "\n",
      " Epoch 41/50\n"
     ]
    },
    {
     "name": "stderr",
     "output_type": "stream",
     "text": [
      "Training: 100%|██████████| 398/398 [00:40<00:00,  9.74it/s]\n"
     ]
    },
    {
     "name": "stdout",
     "output_type": "stream",
     "text": [
      "avg max prob: 0.9921077489852905\n",
      "Epoch 41 with loss = 0.3656\n"
     ]
    },
    {
     "name": "stderr",
     "output_type": "stream",
     "text": [
      "                                                                    \r"
     ]
    },
    {
     "name": "stdout",
     "output_type": "stream",
     "text": [
      "GT        : ЬСМЧ6ЦГЖ\n",
      "Argmax    : <blk><blk><blk><blk><blk><blk><blk><blk><blk><blk><blk><blk><blk><blk><blk><blk><blk><blk><blk><blk><blk><blk>Ь<blk><blk><blk><blk><blk><blk><blk><blk><blk><blk>С<blk><blk><blk><blk><blk><blk>М<blk><blk><blk><blk><blk><blk><blk><blk>Ч<blk><blk><blk><blk><blk><blk><blk><blk><blk><blk><blk><blk><blk>6<blk><blk><blk><blk><blk><blk><blk><blk><blk><blk>Ц<blk><blk><blk><blk><blk><blk><blk><blk><blk><blk><blk>Г<blk><blk><blk><blk><blk><blk><blk><blk><blk>Ж<blk><blk><blk><blk><blk><blk><blk><blk><blk><blk><blk><blk><blk><blk><blk><blk><blk><blk><blk><blk><blk><blk><blk><blk><blk><blk><blk><blk><blk>\n",
      "Beam      : ЬСМЧ6ЦГЖ\n",
      "Argmax: [0, 0, 0, 0, 0, 0, 0, 0, 0, 0, 0, 0, 0, 0, 0, 0, 0, 0, 0, 0]\n",
      "GT        : ФЦСХЛ Щ4ЦФН\n",
      "Argmax    : <blk><blk><blk><blk><blk><blk><blk><blk>Ф<blk><blk><blk><blk><blk><blk><blk><blk><blk>Ц<blk><blk><blk><blk><blk><blk><blk><blk><blk><blk><blk>С<blk><blk><blk><blk><blk>Х<blk><blk><blk><blk><blk><blk><blk>Л<blk><blk><blk><blk><blk><blk><blk><blk><blk> <blk><blk><blk>Я<blk><blk><blk><blk><blk><blk><blk><blk><blk><blk><blk>4<blk><blk><blk><blk><blk><blk><blk><blk><blk><blk><blk>Ц<blk><blk><blk><blk><blk><blk><blk><blk><blk><blk><blk>Г<blk><blk><blk><blk><blk><blk><blk><blk><blk><blk>Н<blk><blk><blk><blk><blk><blk><blk><blk><blk><blk><blk><blk><blk><blk><blk><blk><blk><blk><blk><blk>\n",
      "Beam      : ФЦСХЛ Я4ЦГН\n",
      "Argmax: [0, 0, 0, 0, 0, 0, 0, 0, 34, 0, 0, 0, 0, 0, 0, 0, 0, 0, 36, 0]\n",
      "avg max prob: 0.9932856559753418\n",
      "Val Metric=0.9701\n",
      "\n",
      " Epoch 42/50\n"
     ]
    },
    {
     "name": "stderr",
     "output_type": "stream",
     "text": [
      "Training: 100%|██████████| 398/398 [00:38<00:00, 10.29it/s]\n"
     ]
    },
    {
     "name": "stdout",
     "output_type": "stream",
     "text": [
      "avg max prob: 0.9926655292510986\n",
      "Epoch 42 with loss = 0.3600\n"
     ]
    },
    {
     "name": "stderr",
     "output_type": "stream",
     "text": [
      "                                                                    \r"
     ]
    },
    {
     "name": "stdout",
     "output_type": "stream",
     "text": [
      "GT        : ЬСМЧ6ЦГЖ\n",
      "Argmax    : <blk><blk><blk><blk><blk><blk><blk><blk><blk><blk><blk><blk><blk><blk><blk><blk><blk><blk><blk><blk><blk><blk>Ь<blk><blk><blk><blk><blk><blk><blk><blk><blk><blk>С<blk><blk><blk><blk><blk><blk>М<blk><blk><blk><blk><blk><blk><blk><blk>Ч<blk><blk><blk><blk><blk><blk><blk><blk><blk><blk><blk><blk><blk>6<blk><blk><blk><blk><blk><blk><blk><blk><blk><blk>Ц<blk><blk><blk><blk><blk><blk><blk><blk><blk><blk><blk>Г<blk><blk><blk><blk><blk><blk><blk><blk><blk>Ж<blk><blk><blk><blk><blk><blk><blk><blk><blk><blk><blk><blk><blk><blk><blk><blk><blk><blk><blk><blk><blk><blk><blk><blk><blk><blk><blk><blk><blk>\n",
      "Beam      : ЬСМЧ6ЦГЖ\n",
      "Argmax: [0, 0, 0, 0, 0, 0, 0, 0, 0, 0, 0, 0, 0, 0, 0, 0, 0, 0, 0, 0]\n",
      "GT        : ФЦСХЛ Щ4ЦФН\n",
      "Argmax    : <blk><blk><blk><blk><blk><blk><blk><blk>Ф<blk><blk><blk><blk><blk><blk><blk><blk><blk>Ц<blk><blk><blk><blk><blk><blk><blk><blk><blk><blk><blk>С<blk><blk><blk><blk><blk>Х<blk><blk><blk><blk><blk><blk><blk>Л<blk><blk><blk><blk><blk><blk><blk><blk>  <blk><blk>Щ<blk><blk><blk><blk><blk><blk><blk><blk><blk><blk><blk><blk>4<blk><blk><blk><blk><blk><blk><blk><blk><blk><blk>Ц<blk><blk><blk><blk><blk><blk><blk><blk><blk><blk><blk><blk>Ф<blk><blk><blk><blk><blk><blk><blk><blk><blk><blk>Н<blk><blk><blk><blk><blk><blk><blk><blk><blk><blk><blk><blk><blk><blk><blk><blk><blk><blk><blk><blk>\n",
      "Beam      : ФЦСХЛ Щ4ЦФН\n",
      "Argmax: [0, 0, 0, 0, 0, 0, 0, 0, 34, 0, 0, 0, 0, 0, 0, 0, 0, 0, 36, 0]\n",
      "avg max prob: 0.9933266043663025\n",
      "Val Metric=0.9587\n",
      "\n",
      " Epoch 43/50\n"
     ]
    },
    {
     "name": "stderr",
     "output_type": "stream",
     "text": [
      "Training: 100%|██████████| 398/398 [00:40<00:00,  9.82it/s]\n"
     ]
    },
    {
     "name": "stdout",
     "output_type": "stream",
     "text": [
      "avg max prob: 0.992817759513855\n",
      "Epoch 43 with loss = 0.3614\n"
     ]
    },
    {
     "name": "stderr",
     "output_type": "stream",
     "text": [
      "                                                                    \r"
     ]
    },
    {
     "name": "stdout",
     "output_type": "stream",
     "text": [
      "GT        : ЬСМЧ6ЦГЖ\n",
      "Argmax    : <blk><blk><blk><blk><blk><blk><blk><blk><blk><blk><blk><blk><blk><blk><blk><blk><blk><blk><blk><blk><blk><blk>Ь<blk><blk><blk><blk><blk><blk><blk><blk><blk><blk>С<blk><blk><blk><blk><blk><blk>М<blk><blk><blk><blk><blk><blk><blk><blk>Ч<blk><blk><blk><blk><blk><blk><blk><blk><blk><blk><blk><blk>6<blk><blk><blk><blk><blk><blk><blk><blk><blk><blk><blk>Ц<blk><blk><blk><blk><blk><blk><blk><blk><blk><blk><blk>Г<blk><blk><blk><blk><blk><blk><blk><blk>Ж<blk><blk><blk><blk><blk><blk><blk><blk><blk><blk><blk><blk><blk><blk><blk><blk><blk><blk><blk><blk><blk><blk><blk><blk><blk><blk><blk><blk><blk><blk>\n",
      "Beam      : ЬСМЧ6ЦГЖ\n",
      "Argmax: [0, 0, 0, 0, 0, 0, 0, 0, 0, 0, 0, 0, 0, 0, 0, 0, 0, 0, 0, 0]\n",
      "GT        : ФЦСХЛ Щ4ЦФН\n",
      "Argmax    : <blk><blk><blk><blk><blk><blk><blk><blk>Ф<blk><blk><blk><blk><blk><blk><blk><blk><blk>Ц<blk><blk><blk><blk><blk><blk><blk><blk><blk><blk><blk>С<blk><blk><blk><blk><blk>Х<blk><blk><blk><blk><blk><blk><blk>Л<blk><blk><blk><blk><blk><blk><blk><blk><blk> <blk><blk>Щ<blk><blk><blk><blk><blk><blk><blk><blk><blk><blk><blk><blk>4<blk><blk><blk><blk><blk><blk><blk><blk><blk><blk>Ц<blk><blk><blk><blk><blk><blk><blk><blk><blk><blk><blk><blk>Г<blk><blk><blk><blk><blk><blk><blk><blk><blk><blk>Н<blk><blk><blk><blk><blk><blk><blk><blk><blk><blk><blk><blk><blk><blk><blk><blk><blk><blk><blk><blk>\n",
      "Beam      : ФЦСХЛ Щ4ЦГН\n",
      "Argmax: [0, 0, 0, 0, 0, 0, 0, 0, 34, 0, 0, 0, 0, 0, 0, 0, 0, 0, 36, 0]\n",
      "avg max prob: 0.9940260648727417\n",
      "Val Metric=0.9071\n",
      "\n",
      " Epoch 44/50\n"
     ]
    },
    {
     "name": "stderr",
     "output_type": "stream",
     "text": [
      "Training: 100%|██████████| 398/398 [00:39<00:00,  9.98it/s]\n"
     ]
    },
    {
     "name": "stdout",
     "output_type": "stream",
     "text": [
      "avg max prob: 0.9913062453269958\n",
      "Epoch 44 with loss = 0.3648\n"
     ]
    },
    {
     "name": "stderr",
     "output_type": "stream",
     "text": [
      "                                                                    \r"
     ]
    },
    {
     "name": "stdout",
     "output_type": "stream",
     "text": [
      "GT        : ЬСМЧ6ЦГЖ\n",
      "Argmax    : <blk><blk><blk><blk><blk><blk><blk><blk><blk><blk><blk><blk><blk><blk><blk><blk><blk><blk><blk><blk><blk><blk>Ь<blk><blk><blk><blk><blk><blk><blk><blk><blk><blk>С<blk><blk><blk><blk><blk><blk><blk>М<blk><blk><blk><blk><blk><blk><blk>Ч<blk><blk><blk><blk><blk><blk><blk><blk><blk><blk><blk><blk><blk>6<blk><blk><blk><blk><blk><blk><blk><blk><blk><blk>Ц<blk><blk><blk><blk><blk><blk><blk><blk><blk><blk><blk>Г<blk><blk><blk><blk><blk><blk><blk><blk><blk>Ж<blk><blk><blk><blk><blk><blk><blk><blk><blk><blk><blk><blk><blk><blk><blk><blk><blk><blk><blk><blk><blk><blk><blk><blk><blk><blk><blk><blk><blk>\n",
      "Beam      : ЬСМЧ6ЦГЖ\n",
      "Argmax: [0, 0, 0, 0, 0, 0, 0, 0, 0, 0, 0, 0, 0, 0, 0, 0, 0, 0, 0, 0]\n",
      "GT        : ФЦСХЛ Щ4ЦФН\n",
      "Argmax    : <blk><blk><blk><blk><blk><blk><blk><blk>Ф<blk><blk><blk><blk><blk><blk><blk><blk><blk>Ц<blk><blk><blk><blk><blk><blk><blk><blk><blk><blk><blk>С<blk><blk><blk><blk><blk>Х<blk><blk><blk><blk><blk><blk><blk>Л<blk><blk><blk><blk><blk><blk><blk><blk><blk> <blk><blk>Щ<blk><blk><blk><blk><blk><blk><blk><blk><blk><blk><blk><blk>4<blk><blk><blk><blk><blk><blk><blk><blk><blk><blk><blk>Ц<blk><blk><blk><blk><blk><blk><blk><blk><blk><blk><blk>Ф<blk><blk><blk><blk><blk><blk><blk><blk><blk><blk>Н<blk><blk><blk><blk><blk><blk><blk><blk><blk><blk><blk><blk><blk><blk><blk><blk><blk><blk><blk><blk>\n",
      "Beam      : ФЦСХЛ Щ4ЦФН\n",
      "Argmax: [0, 0, 0, 0, 0, 0, 0, 0, 34, 0, 0, 0, 0, 0, 0, 0, 0, 0, 36, 0]\n",
      "avg max prob: 0.9937266707420349\n",
      "Val Metric=1.0136\n",
      "\n",
      " Epoch 45/50\n"
     ]
    },
    {
     "name": "stderr",
     "output_type": "stream",
     "text": [
      "Training: 100%|██████████| 398/398 [00:39<00:00,  9.98it/s]\n"
     ]
    },
    {
     "name": "stdout",
     "output_type": "stream",
     "text": [
      "avg max prob: 0.9896548390388489\n",
      "Epoch 45 with loss = 0.3585\n"
     ]
    },
    {
     "name": "stderr",
     "output_type": "stream",
     "text": [
      "                                                                    \r"
     ]
    },
    {
     "name": "stdout",
     "output_type": "stream",
     "text": [
      "GT        : ЬСМЧ6ЦГЖ\n",
      "Argmax    : <blk><blk><blk><blk><blk><blk><blk><blk><blk><blk><blk><blk><blk><blk><blk><blk><blk><blk><blk><blk><blk><blk>Ь<blk><blk><blk><blk><blk><blk><blk><blk><blk><blk>С<blk><blk><blk><blk><blk><blk>М<blk><blk><blk><blk><blk><blk><blk><blk>Ч<blk><blk><blk><blk><blk><blk><blk><blk><blk><blk><blk><blk><blk>6<blk><blk><blk><blk><blk><blk><blk><blk><blk><blk>Ц<blk><blk><blk><blk><blk><blk><blk><blk><blk><blk><blk>Г<blk><blk><blk><blk><blk><blk><blk><blk><blk>Ж<blk><blk><blk><blk><blk><blk><blk><blk><blk><blk><blk><blk><blk><blk><blk><blk><blk><blk><blk><blk><blk><blk><blk><blk><blk><blk><blk><blk><blk>\n",
      "Beam      : ЬСМЧ6ЦГЖ\n",
      "Argmax: [0, 0, 0, 0, 0, 0, 0, 0, 0, 0, 0, 0, 0, 0, 0, 0, 0, 0, 0, 0]\n",
      "GT        : ФЦСХЛ Щ4ЦФН\n",
      "Argmax    : <blk><blk><blk><blk><blk><blk><blk><blk>Ф<blk><blk><blk><blk><blk><blk><blk><blk><blk>Ц<blk><blk><blk><blk><blk><blk><blk><blk><blk><blk><blk>С<blk><blk><blk><blk><blk>Х<blk><blk><blk><blk><blk><blk><blk>Л<blk><blk><blk><blk><blk><blk><blk><blk><blk> <blk><blk>Щ<blk><blk><blk><blk><blk><blk><blk><blk><blk><blk><blk><blk>4<blk><blk><blk><blk><blk><blk><blk><blk><blk><blk>Ц<blk><blk><blk><blk><blk><blk><blk><blk><blk><blk><blk><blk>Г<blk><blk><blk><blk><blk><blk><blk><blk><blk><blk>Н<blk><blk><blk><blk><blk><blk><blk><blk><blk><blk><blk><blk><blk><blk><blk><blk><blk><blk><blk><blk>\n",
      "Beam      : ФЦСХЛ Щ4ЦГН\n",
      "Argmax: [0, 0, 0, 0, 0, 0, 0, 0, 34, 0, 0, 0, 0, 0, 0, 0, 0, 0, 36, 0]\n",
      "avg max prob: 0.9930317401885986\n",
      "Val Metric=0.9241\n",
      "\n",
      " Epoch 46/50\n"
     ]
    },
    {
     "name": "stderr",
     "output_type": "stream",
     "text": [
      "Training: 100%|██████████| 398/398 [00:40<00:00,  9.77it/s]\n"
     ]
    },
    {
     "name": "stdout",
     "output_type": "stream",
     "text": [
      "avg max prob: 0.9927917718887329\n",
      "Epoch 46 with loss = 0.3535\n"
     ]
    },
    {
     "name": "stderr",
     "output_type": "stream",
     "text": [
      "                                                                    \r"
     ]
    },
    {
     "name": "stdout",
     "output_type": "stream",
     "text": [
      "GT        : ЬСМЧ6ЦГЖ\n",
      "Argmax    : <blk><blk><blk><blk><blk><blk><blk><blk><blk><blk><blk><blk><blk><blk><blk><blk><blk><blk><blk><blk><blk><blk>Ь<blk><blk><blk><blk><blk><blk><blk><blk><blk><blk>С<blk><blk><blk><blk><blk><blk>М<blk><blk><blk><blk><blk><blk><blk><blk>Ч<blk><blk><blk><blk><blk><blk><blk><blk><blk><blk><blk><blk>6<blk><blk><blk><blk><blk><blk><blk><blk><blk><blk><blk>Ц<blk><blk><blk><blk><blk><blk><blk><blk><blk><blk><blk>Г<blk><blk><blk><blk><blk><blk><blk><blk><blk>Ж<blk><blk><blk><blk><blk><blk><blk><blk><blk><blk><blk><blk><blk><blk><blk><blk><blk><blk><blk><blk><blk><blk><blk><blk><blk><blk><blk><blk><blk>\n",
      "Beam      : ЬСМЧ6ЦГЖ\n",
      "Argmax: [0, 0, 0, 0, 0, 0, 0, 0, 0, 0, 0, 0, 0, 0, 0, 0, 0, 0, 0, 0]\n",
      "GT        : ФЦСХЛ Щ4ЦФН\n",
      "Argmax    : <blk><blk><blk><blk><blk><blk><blk><blk>Ф<blk><blk><blk><blk><blk><blk><blk><blk><blk>Ц<blk><blk><blk><blk><blk><blk><blk><blk><blk><blk><blk>С<blk><blk><blk><blk><blk>Х<blk><blk><blk><blk><blk><blk><blk>Л<blk><blk><blk><blk><blk><blk><blk><blk>  <blk><blk>Щ<blk><blk><blk><blk><blk><blk><blk><blk><blk><blk><blk><blk>4<blk><blk><blk><blk><blk><blk><blk><blk><blk><blk>Ц<blk><blk><blk><blk><blk><blk><blk><blk><blk><blk><blk><blk>Ф<blk><blk><blk><blk><blk><blk><blk><blk><blk><blk>Н<blk><blk><blk><blk><blk><blk><blk><blk><blk><blk><blk><blk><blk><blk><blk><blk><blk><blk><blk><blk>\n",
      "Beam      : ФЦСХЛ Щ4ЦФН\n",
      "Argmax: [0, 0, 0, 0, 0, 0, 0, 0, 34, 0, 0, 0, 0, 0, 0, 0, 0, 0, 36, 0]\n",
      "avg max prob: 0.9940617084503174\n",
      "Val Metric=0.8944\n",
      "\n",
      " Epoch 47/50\n"
     ]
    },
    {
     "name": "stderr",
     "output_type": "stream",
     "text": [
      "Training: 100%|██████████| 398/398 [00:40<00:00,  9.90it/s]\n"
     ]
    },
    {
     "name": "stdout",
     "output_type": "stream",
     "text": [
      "avg max prob: 0.9919929504394531\n",
      "Epoch 47 with loss = 0.3487\n"
     ]
    },
    {
     "name": "stderr",
     "output_type": "stream",
     "text": [
      "                                                                    \r"
     ]
    },
    {
     "name": "stdout",
     "output_type": "stream",
     "text": [
      "GT        : ЬСМЧ6ЦГЖ\n",
      "Argmax    : <blk><blk><blk><blk><blk><blk><blk><blk><blk><blk><blk><blk><blk><blk><blk><blk><blk><blk><blk><blk><blk><blk>Ь<blk><blk><blk><blk><blk><blk><blk><blk><blk><blk>С<blk><blk><blk><blk><blk><blk>М<blk><blk><blk><blk><blk><blk><blk><blk>Ч<blk><blk><blk><blk><blk><blk><blk><blk><blk><blk><blk><blk><blk>6<blk><blk><blk><blk><blk><blk><blk><blk><blk><blk>Ц<blk><blk><blk><blk><blk><blk><blk><blk><blk><blk><blk>Г<blk><blk><blk><blk><blk><blk><blk><blk><blk>Ж<blk><blk><blk><blk><blk><blk><blk><blk><blk><blk><blk><blk><blk><blk><blk><blk><blk><blk><blk><blk><blk><blk><blk><blk><blk><blk><blk><blk><blk>\n",
      "Beam      : ЬСМЧ6ЦГЖ\n",
      "Argmax: [0, 0, 0, 0, 0, 0, 0, 0, 0, 0, 0, 0, 0, 0, 0, 0, 0, 0, 0, 0]\n",
      "GT        : ФЦСХЛ Щ4ЦФН\n",
      "Argmax    : <blk><blk><blk><blk><blk><blk><blk><blk>Ф<blk><blk><blk><blk><blk><blk><blk><blk><blk>Ц<blk><blk><blk><blk><blk><blk><blk><blk><blk><blk><blk>С<blk><blk><blk><blk><blk>Х<blk><blk><blk><blk><blk><blk><blk>Л<blk><blk><blk><blk><blk><blk><blk><blk><blk> <blk><blk><blk>Щ<blk><blk><blk><blk><blk><blk><blk><blk><blk><blk><blk>4<blk><blk><blk><blk><blk><blk><blk><blk><blk><blk><blk>Ц<blk><blk><blk><blk><blk><blk><blk><blk><blk><blk><blk>Ф<blk><blk><blk><blk><blk><blk><blk><blk><blk><blk>Н<blk><blk><blk><blk><blk><blk><blk><blk><blk><blk><blk><blk><blk><blk><blk><blk><blk><blk><blk><blk>\n",
      "Beam      : ФЦСХЛ Щ4ЦФН\n",
      "Argmax: [0, 0, 0, 0, 0, 0, 0, 0, 34, 0, 0, 0, 0, 0, 0, 0, 0, 0, 36, 0]\n",
      "avg max prob: 0.9934344291687012\n",
      "Val Metric=0.9154\n",
      "\n",
      " Epoch 48/50\n"
     ]
    },
    {
     "name": "stderr",
     "output_type": "stream",
     "text": [
      "Training: 100%|██████████| 398/398 [00:40<00:00,  9.75it/s]\n"
     ]
    },
    {
     "name": "stdout",
     "output_type": "stream",
     "text": [
      "avg max prob: 0.991459846496582\n",
      "Epoch 48 with loss = 0.3485\n"
     ]
    },
    {
     "name": "stderr",
     "output_type": "stream",
     "text": [
      "                                                                    \r"
     ]
    },
    {
     "name": "stdout",
     "output_type": "stream",
     "text": [
      "GT        : ЬСМЧ6ЦГЖ\n",
      "Argmax    : <blk><blk><blk><blk><blk><blk><blk><blk><blk><blk><blk><blk><blk><blk><blk><blk><blk><blk><blk><blk><blk>ЬЬ<blk><blk><blk><blk><blk><blk><blk><blk><blk><blk>С<blk><blk><blk><blk><blk><blk>М<blk><blk><blk><blk><blk><blk><blk><blk>Ч<blk><blk><blk><blk><blk><blk><blk><blk><blk><blk><blk><blk>6<blk><blk><blk><blk><blk><blk><blk><blk><blk><blk><blk>Ц<blk><blk><blk><blk><blk><blk><blk><blk><blk><blk><blk>Г<blk><blk><blk><blk><blk><blk><blk><blk><blk>Ж<blk><blk><blk><blk><blk><blk><blk><blk><blk><blk><blk><blk><blk><blk><blk><blk><blk><blk><blk><blk><blk><blk><blk><blk><blk><blk><blk><blk><blk>\n",
      "Beam      : ЬСМЧ6ЦГЖ\n",
      "Argmax: [0, 0, 0, 0, 0, 0, 0, 0, 0, 0, 0, 0, 0, 0, 0, 0, 0, 0, 0, 0]\n",
      "GT        : ФЦСХЛ Щ4ЦФН\n",
      "Argmax    : <blk><blk><blk><blk><blk><blk><blk><blk>Ф<blk><blk><blk><blk><blk><blk><blk><blk><blk>Ц<blk><blk><blk><blk><blk><blk><blk><blk><blk><blk><blk>С<blk><blk><blk><blk><blk>Х<blk><blk><blk><blk><blk><blk><blk>Л<blk><blk><blk><blk><blk><blk><blk><blk><blk> <blk><blk><blk>Щ<blk><blk><blk><blk><blk><blk><blk><blk><blk><blk><blk>4<blk><blk><blk><blk><blk><blk><blk><blk><blk><blk>Ц<blk><blk><blk><blk><blk><blk><blk><blk><blk><blk><blk><blk>Г<blk><blk><blk><blk><blk><blk><blk><blk><blk><blk>Н<blk><blk><blk><blk><blk><blk><blk><blk><blk><blk><blk><blk><blk><blk><blk><blk><blk><blk><blk><blk>\n",
      "Beam      : ФЦСХЛ Щ4ЦГН\n",
      "Argmax: [0, 0, 0, 0, 0, 0, 0, 0, 34, 0, 0, 0, 0, 0, 0, 0, 0, 0, 36, 0]\n",
      "avg max prob: 0.9933778047561646\n",
      "Val Metric=0.9319\n",
      "\n",
      " Epoch 49/50\n"
     ]
    },
    {
     "name": "stderr",
     "output_type": "stream",
     "text": [
      "Training: 100%|██████████| 398/398 [00:41<00:00,  9.51it/s]\n"
     ]
    },
    {
     "name": "stdout",
     "output_type": "stream",
     "text": [
      "avg max prob: 0.9918152689933777\n",
      "Epoch 49 with loss = 0.3425\n"
     ]
    },
    {
     "name": "stderr",
     "output_type": "stream",
     "text": [
      "                                                                    \r"
     ]
    },
    {
     "name": "stdout",
     "output_type": "stream",
     "text": [
      "GT        : ЬСМЧ6ЦГЖ\n",
      "Argmax    : <blk><blk><blk><blk><blk><blk><blk><blk><blk><blk><blk><blk><blk><blk><blk><blk><blk><blk><blk><blk><blk><blk>Ь<blk><blk><blk><blk><blk><blk><blk><blk><blk><blk>С<blk><blk><blk><blk><blk><blk>М<blk><blk><blk><blk><blk><blk><blk><blk>Ч<blk><blk><blk><blk><blk><blk><blk><blk><blk><blk><blk><blk><blk>6<blk><blk><blk><blk><blk><blk><blk><blk><blk><blk>Ц<blk><blk><blk><blk><blk><blk><blk><blk><blk><blk><blk>Г<blk><blk><blk><blk><blk><blk><blk><blk><blk>Ж<blk><blk><blk><blk><blk><blk><blk><blk><blk><blk><blk><blk><blk><blk><blk><blk><blk><blk><blk><blk><blk><blk><blk><blk><blk><blk><blk><blk><blk>\n",
      "Beam      : ЬСМЧ6ЦГЖ\n",
      "Argmax: [0, 0, 0, 0, 0, 0, 0, 0, 0, 0, 0, 0, 0, 0, 0, 0, 0, 0, 0, 0]\n",
      "GT        : ФЦСХЛ Щ4ЦФН\n",
      "Argmax    : <blk><blk><blk><blk><blk><blk><blk><blk>Ф<blk><blk><blk><blk><blk><blk><blk><blk><blk>Ц<blk><blk><blk><blk><blk><blk><blk><blk><blk><blk><blk>С<blk><blk><blk><blk><blk>Х<blk><blk><blk><blk><blk><blk><blk>Л<blk><blk><blk><blk><blk><blk><blk><blk><blk> <blk><blk><blk>Я<blk><blk><blk><blk><blk><blk><blk><blk><blk><blk><blk>4<blk><blk><blk><blk><blk><blk><blk><blk><blk><blk><blk>Ц<blk><blk><blk><blk><blk><blk><blk><blk><blk><blk><blk>Г<blk><blk><blk><blk><blk><blk><blk><blk><blk><blk>Н<blk><blk><blk><blk><blk><blk><blk><blk><blk><blk><blk><blk><blk><blk><blk><blk><blk><blk><blk><blk>\n",
      "Beam      : ФЦСХЛ Я4ЦГН\n",
      "Argmax: [0, 0, 0, 0, 0, 0, 0, 0, 34, 0, 0, 0, 0, 0, 0, 0, 0, 0, 36, 0]\n",
      "avg max prob: 0.9937946796417236\n",
      "Val Metric=0.8973\n",
      "\n",
      " Epoch 50/50\n"
     ]
    },
    {
     "name": "stderr",
     "output_type": "stream",
     "text": [
      "Training: 100%|██████████| 398/398 [00:40<00:00,  9.76it/s]\n"
     ]
    },
    {
     "name": "stdout",
     "output_type": "stream",
     "text": [
      "avg max prob: 0.9934661388397217\n",
      "Epoch 50 with loss = 0.3463\n"
     ]
    },
    {
     "name": "stderr",
     "output_type": "stream",
     "text": [
      "                                                                    "
     ]
    },
    {
     "name": "stdout",
     "output_type": "stream",
     "text": [
      "GT        : ЬСМЧ6ЦГЖ\n",
      "Argmax    : <blk><blk><blk><blk><blk><blk><blk><blk><blk><blk><blk><blk><blk><blk><blk><blk><blk><blk><blk><blk><blk><blk>Ь<blk><blk><blk><blk><blk><blk><blk><blk><blk><blk>С<blk><blk><blk><blk><blk><blk>М<blk><blk><blk><blk><blk><blk><blk><blk>Ч<blk><blk><blk><blk><blk><blk><blk><blk><blk><blk><blk><blk>66<blk><blk><blk><blk><blk><blk><blk><blk><blk><blk>Ц<blk><blk><blk><blk><blk><blk><blk><blk><blk><blk><blk>Г<blk><blk><blk><blk><blk><blk><blk><blk><blk>Ж<blk><blk><blk><blk><blk><blk><blk><blk><blk><blk><blk><blk><blk><blk><blk><blk><blk><blk><blk><blk><blk><blk><blk><blk><blk><blk><blk><blk><blk>\n",
      "Beam      : ЬСМЧ6ЦГЖ\n",
      "Argmax: [0, 0, 0, 0, 0, 0, 0, 0, 0, 0, 0, 0, 0, 0, 0, 0, 0, 0, 0, 0]\n",
      "GT        : ФЦСХЛ Щ4ЦФН\n",
      "Argmax    : <blk><blk><blk><blk><blk><blk><blk><blk>Ф<blk><blk><blk><blk><blk><blk><blk><blk><blk>Ц<blk><blk><blk><blk><blk><blk><blk><blk><blk><blk><blk>С<blk><blk><blk><blk><blk>Х<blk><blk><blk><blk><blk><blk><blk>Л<blk><blk><blk><blk><blk><blk><blk><blk>  <blk><blk><blk>Щ<blk><blk>К<blk><blk><blk><blk><blk><blk><blk><blk>4<blk><blk><blk><blk><blk><blk><blk><blk><blk><blk>Ц<blk><blk><blk><blk><blk><blk><blk><blk><blk><blk><blk><blk>Ф<blk><blk><blk><blk><blk><blk><blk><blk><blk><blk>Н<blk><blk><blk><blk><blk><blk><blk><blk><blk><blk><blk><blk><blk><blk><blk><blk><blk><blk><blk><blk>\n",
      "Beam      : ФЦСХЛ ЩК4ЦФН\n",
      "Argmax: [0, 0, 0, 0, 0, 0, 0, 0, 34, 0, 0, 0, 0, 0, 0, 0, 0, 0, 36, 0]\n",
      "avg max prob: 0.993343710899353\n",
      "Val Metric=0.9123\n"
     ]
    },
    {
     "name": "stderr",
     "output_type": "stream",
     "text": [
      "\r"
     ]
    }
   ],
   "source": [
    "base_model, base_metrics = train_model(\n",
    "    model=base_model,\n",
    "    train_loader=train_loader,\n",
    "    optimizer=optimizer,\n",
    "    ctc_loss=loss_ctc,\n",
    "    epochs=50,\n",
    "    metric=edit_distance,\n",
    "    decoder=bim_search_decoder,\n",
    "    tokenizer=tokenizer,\n",
    "    val_loader=val_loader,\n",
    ")"
   ]
  },
  {
   "cell_type": "code",
   "execution_count": null,
   "id": "4433f45c",
   "metadata": {},
   "outputs": [],
   "source": [
    "import matplotlib\n",
    "\n",
    "matplotlib.use(\"module://matplotlib_inline.backend_inline\")"
   ]
  },
  {
   "cell_type": "code",
   "execution_count": 202,
   "id": "3cf31d34",
   "metadata": {},
   "outputs": [],
   "source": [
    "%matplotlib inline\n",
    "import matplotlib.pyplot as plt"
   ]
  },
  {
   "cell_type": "code",
   "execution_count": null,
   "id": "869294f4",
   "metadata": {},
   "outputs": [],
   "source": [
    "def plot_metrics(\n",
    "    metrics_dict: dict,\n",
    "    title: str = \"Model Metrics\",\n",
    "    xlabel: str = \"Epochs\",\n",
    "    ylabel: str = \"Metric Value\",\n",
    "):\n",
    "    \"\"\"\n",
    "    Функция для отображения метрик в виде графиков.\n",
    "\n",
    "    :param metrics_dict: Словарь с метриками. Например, {'train_loss': [], 'train_metric': [], 'val_metric': []}.\n",
    "    :param title: Заголовок графиков.\n",
    "    :param xlabel: Метка оси X (обычно это количество эпох).\n",
    "    :param ylabel: Метка оси Y (значения метрик).\n",
    "    \"\"\"\n",
    "\n",
    "    plt.figure(figsize=(10, 6))\n",
    "    epochs = range(1, len(list(metrics_dict.values())[0]) + 1)\n",
    "\n",
    "    for metric_name, metric_values in metrics_dict.items():\n",
    "        if metric_values:\n",
    "            plt.plot(epochs, metric_values, label=metric_name)\n",
    "\n",
    "    plt.title(title)\n",
    "    plt.xlabel(xlabel)\n",
    "    plt.ylabel(ylabel)\n",
    "    plt.legend(loc=\"best\")\n",
    "    plt.grid(True)\n",
    "    plt.tight_layout()\n",
    "    plt.show()\n"
   ]
  },
  {
   "cell_type": "code",
   "execution_count": 204,
   "id": "6ddb90d1",
   "metadata": {},
   "outputs": [
    {
     "data": {
      "text/plain": [
       "[<matplotlib.lines.Line2D at 0x269b24b5c30>]"
      ]
     },
     "execution_count": 204,
     "metadata": {},
     "output_type": "execute_result"
    },
    {
     "data": {
      "image/png": "[encoded data removed]",
      "text/plain": [
       "<Figure size 640x480 with 1 Axes>"
      ]
     },
     "metadata": {},
     "output_type": "display_data"
    }
   ],
   "source": [
    "plt.plot(base_metrics[\"train_loss\"])"
   ]
  },
  {
   "cell_type": "code",
   "execution_count": 210,
   "id": "abe2f355",
   "metadata": {},
   "outputs": [
    {
     "data": {
      "image/png": "[encoded data removed]",
      "text/plain": [
       "<Figure size 1000x600 with 1 Axes>"
      ]
     },
     "metadata": {},
     "output_type": "display_data"
    }
   ],
   "source": [
    "plot_metrics(\n",
    "    base_metrics,\n",
    "    \"Baseline\",\n",
    ")\n"
   ]
  },
  {
   "cell_type": "code",
   "execution_count": null,
   "id": "059547d2",
   "metadata": {},
   "outputs": [],
   "source": [
    "import json\n",
    "\n",
    "base_model_path = MODELS_DIR / \"base_model.pt\"\n",
    "\n",
    "torch.save(base_model.state_dict(), base_model_path)\n",
    "\n",
    "clean_metrics = {\n",
    "    key: [float(v) for v in values] for key, values in base_metrics.items()\n",
    "}\n",
    "\n",
    "with open(f\"{MODELS_DIR}/base_metrics.json\", \"w\") as fd:\n",
    "    json.dump(clean_metrics, fd)"
   ]
  },
  {
   "cell_type": "code",
   "execution_count": 207,
   "id": "f8a96b01",
   "metadata": {},
   "outputs": [
    {
     "data": {
      "text/plain": [
       "ModelBase(\n",
       "  (conv_part): Sequential(\n",
       "    (0): ConvBlock(\n",
       "      (conv): Conv1d(80, 128, kernel_size=(5,), stride=(2,), padding=(2,))\n",
       "      (norm): LayerNorm((128,), eps=1e-05, elementwise_affine=True)\n",
       "      (relu): ReLU()\n",
       "    )\n",
       "  )\n",
       "  (rnn_part): Sequential(\n",
       "    (0): LstmBlock(\n",
       "      (lstm): LSTM(128, 64, num_layers=2, batch_first=True, bidirectional=True)\n",
       "      (norm): LayerNorm((128,), eps=1e-05, elementwise_affine=True)\n",
       "      (drop): Dropout(p=0.4, inplace=False)\n",
       "    )\n",
       "  )\n",
       "  (clf): Linear(in_features=128, out_features=46, bias=True)\n",
       ")"
      ]
     },
     "execution_count": 207,
     "metadata": {},
     "output_type": "execute_result"
    }
   ],
   "source": [
    "base_model"
   ]
  },
  {
   "cell_type": "code",
   "execution_count": null,
   "id": "6d2a6302",
   "metadata": {},
   "outputs": [],
   "source": [
    "eval and test_data"
   ]
  },
  {
   "cell_type": "markdown",
   "id": "f638a608",
   "metadata": {},
   "source": [
    "### Подготовка"
   ]
  },
  {
   "cell_type": "code",
   "execution_count": null,
   "id": "7c89803f",
   "metadata": {},
   "outputs": [],
   "source": []
  },
  {
   "cell_type": "markdown",
   "id": "74e26520",
   "metadata": {},
   "source": [
    "### Функции для обучения модели"
   ]
  },
  {
   "cell_type": "code",
   "execution_count": 145,
   "id": "9b10019f",
   "metadata": {},
   "outputs": [],
   "source": [
    "def get_vocab(words: pd.Series, blank: str = \"<blk>\"):\n",
    "    vocab = {0: blank, 1: \"|\"}\n",
    "    all_chars = set(\"\".join(words.astype(str)))\n",
    "\n",
    "    for i, char in enumerate(sorted(all_chars), start=2):\n",
    "        vocab[i] = char\n",
    "\n",
    "    print(f\"Vocab is ready, size = {len(vocab)}\")\n",
    "    return vocab"
   ]
  },
  {
   "cell_type": "code",
   "execution_count": 146,
   "id": "56028828",
   "metadata": {},
   "outputs": [],
   "source": [
    "# def path_to_melspect(file_name: str, audio_files_dir: Path = AUDIO_FILES_DIR):\n",
    "#     wave_form, sr = librosa.load(os.path.join(audio_files_dir, file_name))\n",
    "#     mel_spectr = librosa.feature.melspectrogram(\n",
    "#         y=wave_form, sr=sr, n_mels=80, fmax=4096, fmin=0\n",
    "#     )\n",
    "#     mel_spectr_db = librosa.power_to_db(mel_spectr, ref=np.max)\n",
    "#     return mel_spectr_db"
   ]
  },
  {
   "cell_type": "code",
   "execution_count": 147,
   "id": "1aad9ac7",
   "metadata": {},
   "outputs": [],
   "source": [
    "def path_to_melspect_cached(\n",
    "    file_name: str,\n",
    "    audio_files_dir: Path,\n",
    "    cache_dir: Path,\n",
    "    overwrite: bool = False,\n",
    ") -> np.ndarray:\n",
    "    cache_path = cache_dir / (file_name.replace(\".opus\", \".npy\"))\n",
    "\n",
    "    if cache_path.exists() and not overwrite:\n",
    "        return np.load(cache_path)\n",
    "\n",
    "    waveform, sr = torchaudio.load(audio_files_dir / file_name)\n",
    "\n",
    "    mel = torchaudio.transforms.MelSpectrogram(\n",
    "        sample_rate=sr, n_fft=1024, hop_length=256, n_mels=80\n",
    "    )(waveform)\n",
    "    mel_db = torchaudio.transforms.AmplitudeToDB(top_db=80)(mel)\n",
    "    mel_db = mel_db.squeeze(0).cpu().numpy()\n",
    "\n",
    "    os.makedirs(cache_dir, exist_ok=True)\n",
    "    np.save(cache_path, mel_db)\n",
    "    return mel_db\n"
   ]
  },
  {
   "cell_type": "code",
   "execution_count": null,
   "id": "4a803f7d",
   "metadata": {},
   "outputs": [],
   "source": [
    "class Tokenizer:\n",
    "    def __init__(self, vocab: Dict[int, str]):\n",
    "        self.index_char = vocab\n",
    "        self.char_index = {char: index for index, char in self.index_char.items()}\n",
    "\n",
    "    def __call__(self, chars: Union[str, List[str]]):\n",
    "        if isinstance(chars, str):\n",
    "            return [self.char_index.get(char, -1) for char in chars]\n",
    "        elif isinstance(chars, list):\n",
    "            return [self.__call__(t) for t in chars]\n",
    "        else:\n",
    "            raise ValueError(\"Expected list or str\")\n",
    "\n",
    "    def decode(self, indexs: Union[List[int], List[List[int]]]):\n",
    "        if isinstance(indexs, list):\n",
    "            if isinstance(indexs[0], list):\n",
    "                return [self.decode(i) for i in indexs]\n",
    "            else:\n",
    "                return \"\".join([self.index_char.get(idx, \"\") for idx in indexs])\n",
    "        else:\n",
    "            raise ValueError(\"Expected list or str\")\n"
   ]
  },
  {
   "cell_type": "code",
   "execution_count": 149,
   "id": "a49df61a",
   "metadata": {},
   "outputs": [],
   "source": [
    "def decoding_to_tokens(\n",
    "    decoder: Callable,\n",
    "    model_output: torch.Tensor,\n",
    "    tokenizer: Callable,\n",
    "):\n",
    "    log_probs = nn.functional.log_softmax(model_output, dim=-1)\n",
    "    # print(\"Log probs shape for beam:\", log_probs.shape)\n",
    "    results = decoder(log_probs.contiguous())  # log_probs: [B, T, C]\n",
    "    decoded_sequences = []\n",
    "    for batch_result in results:\n",
    "        top_hypo = batch_result[0]\n",
    "        tokens = top_hypo.tokens.tolist()\n",
    "        # print(\"Raw Decoder Tokens:\", tokens)  # Проверка\n",
    "        decoded_sequence = tokenizer.decode(tokens)\n",
    "        decoded_sequence = decoded_sequence.strip(\"|\")\n",
    "        decoded_sequences.append(decoded_sequence)\n",
    "\n",
    "    return decoded_sequences"
   ]
  },
  {
   "cell_type": "code",
   "execution_count": null,
   "id": "b616550d",
   "metadata": {},
   "outputs": [],
   "source": [
    "def loss_ctc(\n",
    "    model_output: torch.Tensor,  # Тензор [Batch, Time, Classes] - ожидается на device\n",
    "    targets: torch.Tensor,  # Тензор [sum(target_lengths)] - ожидается на CPU\n",
    "    target_lengths: torch.Tensor,  # Тензор [B] - ожидается на CPU\n",
    "    blank_id: int = 0,\n",
    ") -> torch.Tensor:\n",
    "    log_output = F.log_softmax(model_output, dim=-1)\n",
    "    log_output = log_output.transpose(0, 1)\n",
    "\n",
    "    output_time_dim = log_output.shape[0]  # T'\n",
    "    batch_size = log_output.shape[1]  # B\n",
    "\n",
    "    output_lengths = torch.full(\n",
    "        size=(batch_size,), fill_value=output_time_dim, dtype=torch.long, device=\"cpu\"\n",
    "    )\n",
    "    targets_cpu = targets.cpu()\n",
    "    target_lengths_cpu = target_lengths.cpu()\n",
    "\n",
    "    loss = nn.CTCLoss(blank=blank_id, reduction=\"mean\", zero_infinity=True)\n",
    "\n",
    "    batch_loss = loss(log_output, targets_cpu, output_lengths, target_lengths_cpu)\n",
    "    return batch_loss"
   ]
  },
  {
   "cell_type": "code",
   "execution_count": null,
   "id": "c95e108f",
   "metadata": {},
   "outputs": [],
   "source": [
    "class MorseDataset(Dataset):\n",
    "    def __init__(\n",
    "        self,\n",
    "        X_filenames: pd.Series,\n",
    "        y_texts: Optional[pd.Series] = None,\n",
    "        transform: Optional[Callable] = None,\n",
    "        tokenizer: Optional[Callable[[str], list]] = None,\n",
    "    ):\n",
    "        self.X_filenames = X_filenames.reset_index(drop=True)\n",
    "        if y_texts is not None:\n",
    "            self.y_texts = y_texts.reset_index(drop=True)\n",
    "        self.transform = transform\n",
    "        self.tokenizer = tokenizer\n",
    "\n",
    "    def __len__(self):\n",
    "        return len(self.X_filenames)\n",
    "\n",
    "    def __getitem__(self, idx):\n",
    "        filename = self.X_filenames[idx]\n",
    "        mel_features = self.transform(filename)  # [C, T] ([n_mels, time])\n",
    "\n",
    "        item = {\"input\": torch.tensor(mel_features, dtype=torch.float)}\n",
    "\n",
    "        if self.y_texts is not None:\n",
    "            text = self.y_texts[idx]\n",
    "            if self.tokenizer:\n",
    "                target = self.tokenizer(text)\n",
    "            else:\n",
    "                raise ValueError(\"Tokenizer needs for target encoding\")\n",
    "            item[\"target_text\"] = text\n",
    "            item[\"target\"] = torch.tensor(target, dtype=torch.long)\n",
    "            item[\"target_length\"] = len(target)\n",
    "\n",
    "        return item"
   ]
  },
  {
   "cell_type": "code",
   "execution_count": null,
   "id": "5f0cf631",
   "metadata": {},
   "outputs": [],
   "source": [
    "def dataloader_collate(batch):\n",
    "    inputs = [item[\"input\"].T for item in batch]  # [T, C]\n",
    "\n",
    "    padded_inputs = pad_sequence(inputs, batch_first=True)  # [B, max_T, C]\n",
    "    padded_inputs = padded_inputs.transpose(1, 2)  # [B, C, T]\n",
    "\n",
    "    collated = {\n",
    "        \"input\": padded_inputs,\n",
    "    }\n",
    "\n",
    "    if \"target\" in batch[0]:\n",
    "        targets = torch.cat(\n",
    "            [item[\"target\"] for item in batch], dim=0\n",
    "        )  # склеиваем в 1D тензор\n",
    "        target_lengths = torch.tensor(\n",
    "            [item[\"target_length\"] for item in batch], dtype=torch.long\n",
    "        )\n",
    "        collated[\"target_text\"] = [item[\"target_text\"] for item in batch]\n",
    "        collated[\"target\"] = targets\n",
    "        collated[\"target_length\"] = target_lengths\n",
    "\n",
    "    return collated\n",
    "\n",
    "\n",
    "def data_loader(dataset, batch_size, shuffle, num_workers=0, drop_last=True):\n",
    "    return DataLoader(\n",
    "        dataset,\n",
    "        batch_size=batch_size,\n",
    "        shuffle=shuffle,\n",
    "        collate_fn=dataloader_collate,\n",
    "        num_workers=num_workers,\n",
    "        drop_last=drop_last,\n",
    "        pin_memory=True,\n",
    "    )"
   ]
  },
  {
   "cell_type": "code",
   "execution_count": 154,
   "id": "6d080c90",
   "metadata": {},
   "outputs": [],
   "source": [
    "# from torch.amp import autocast, GradScaler\n",
    "\n",
    "# scaler = GradScaler()"
   ]
  },
  {
   "cell_type": "code",
   "execution_count": null,
   "id": "e671e602",
   "metadata": {},
   "outputs": [],
   "source": [
    "def train_model(\n",
    "    model: nn.Module,\n",
    "    train_loader: DataLoader,\n",
    "    optimizer: torch.optim.Optimizer,\n",
    "    ctc_loss: Callable,\n",
    "    epochs: int,\n",
    "    metric: Callable,\n",
    "    decoder: Callable,\n",
    "    tokenizer: Callable,\n",
    "    val_loader: Union[DataLoader, None] = None,\n",
    "):\n",
    "    device = torch.device(\"cuda\" if torch.cuda.is_available() else \"cpu\")\n",
    "    print(f\"Using device: {device}\")\n",
    "    model.to(device, non_blocking=True)\n",
    "    metrics = {\"train_loss\": [], \"train_metric\": [], \"val_metric\": []}\n",
    "\n",
    "    for epoch in range(epochs):\n",
    "        print(f\"\\n Epoch {epoch + 1}/{epochs}\")\n",
    "        epoch_loss = []\n",
    "        # epoch_train_metrics = []\n",
    "        model.train()\n",
    "        with tqdm(\n",
    "            train_loader, desc=\"Training\", total=len(train_loader), dynamic_ncols=True\n",
    "        ) as pbar:\n",
    "            for batch in pbar:\n",
    "                inputs = batch[\"input\"].to(device, non_blocking=True)  # (B, C, T)\n",
    "                targets = batch[\"target\"]  # (sum_target_len,)\n",
    "                target_lengths = batch[\"target_length\"]  # (B,)\n",
    "                # target_text = batch[\"target_text\"]\n",
    "                optimizer.zero_grad()\n",
    "\n",
    "                # with autocast(device_type=device.type):\n",
    "                output = model(inputs)\n",
    "                loss = ctc_loss(output, targets, target_lengths)\n",
    "\n",
    "                # scaler.scale(loss).backward()\n",
    "                # scaler.step(optimizer)\n",
    "                # scaler.update()\n",
    "                loss.backward()\n",
    "                optimizer.step()\n",
    "                epoch_loss.append(loss.item())\n",
    "\n",
    "        # emissions = output.detach().cpu().float()\n",
    "        # tokens_output = decoding_to_tokens(decoder, emissions, tokenizer)\n",
    "        # batch_train_metrics = [\n",
    "        #     metric(pred, gt) for pred, gt in zip(tokens_output, target_text)\n",
    "        # ]\n",
    "        probss = torch.nn.functional.softmax(output, dim=-1)  #!\n",
    "        print(\"avg max prob:\", probss.max(dim=-1).values.mean().item())  #!\n",
    "        # print(probss.shape, probss) #!\n",
    "        # epoch_train_metrics.append(np.mean(batch_train_metrics))\n",
    "\n",
    "        avg_epoch_loss = np.mean(epoch_loss)\n",
    "        # avg_epoch_train_metric = np.mean(epoch_train_metrics)\n",
    "        metrics[\"train_loss\"].append(avg_epoch_loss)\n",
    "        # metrics[\"train_metric\"].append(avg_epoch_train_metric)\n",
    "        print(\n",
    "            f\"Epoch {epoch + 1} with loss = {avg_epoch_loss:.4f}\"  # and metric_train={avg_epoch_train_metric:.4f}\"\n",
    "        )\n",
    "\n",
    "        if val_loader is not None:\n",
    "            model.eval()\n",
    "            epoch_val_metrics = []\n",
    "\n",
    "            with torch.no_grad():\n",
    "                for batch in tqdm(\n",
    "                    val_loader, desc=f\"Validation Epoch {epoch + 1}\", leave=False\n",
    "                ):\n",
    "                    inputs = batch[\"input\"].to(device, non_blocking=True)  # (B, C, T)\n",
    "                    target_text = batch[\"target_text\"]\n",
    "                    # with autocast(device_type=device.type):\n",
    "                    predictions = model(inputs)\n",
    "\n",
    "                    emissions = predictions.detach().cpu().float()\n",
    "                    pred_indices = predictions.argmax(dim=-1).cpu()\n",
    "\n",
    "                    tokens_output = decoding_to_tokens(decoder, emissions, tokenizer)\n",
    "\n",
    "                    batch_val_metrics = [\n",
    "                        metric(pred, gt) for pred, gt in zip(tokens_output, target_text)\n",
    "                    ]\n",
    "                    epoch_val_metrics.append(np.mean(batch_val_metrics))\n",
    "            # ------------------------------------------------\n",
    "            for i in range(min(2, len(target_text))):\n",
    "                print(f\"GT        : {target_text[i]}\")\n",
    "                print(f\"Argmax    : {tokenizer.decode(pred_indices[i].tolist())}\")\n",
    "                print(f\"Beam      : {tokens_output[i]}\")  # первые 20 токенов\n",
    "                print(\"Argmax:\", predictions[i].argmax(-1).tolist()[:20])\n",
    "            probss = torch.nn.functional.softmax(predictions, dim=-1)\n",
    "            print(\"avg max prob:\", probss.max(dim=-1).values.mean().item())\n",
    "            # print(probss.shape, probss)\n",
    "            # break---------------------------\n",
    "\n",
    "            avg_epoch_val_metrics = np.mean(epoch_val_metrics)\n",
    "            metrics[\"val_metric\"].append(avg_epoch_val_metrics)\n",
    "            print(f\"Val Metric={avg_epoch_val_metrics:.4f}\")\n",
    "\n",
    "        else:\n",
    "            metrics[\"val_metric\"].append(None)\n",
    "\n",
    "    return model, metrics"
   ]
  },
  {
   "cell_type": "code",
   "execution_count": 173,
   "id": "e056ec07",
   "metadata": {},
   "outputs": [],
   "source": [
    "class ConvBlock(nn.Module):\n",
    "    def __init__(\n",
    "        self, in_channels, out_channels, kernel_size, padding, stride=1, groups=1\n",
    "    ):\n",
    "        super().__init__()\n",
    "        self.conv = nn.Conv1d(\n",
    "            in_channels,\n",
    "            out_channels,\n",
    "            kernel_size,\n",
    "            padding=padding,\n",
    "            stride=stride,\n",
    "            groups=groups,\n",
    "        )\n",
    "        self.norm = nn.LayerNorm(out_channels)\n",
    "        self.relu = nn.ReLU()\n",
    "\n",
    "    def forward(self, x):\n",
    "        x = self.conv(x)\n",
    "        x = self.norm(x.transpose(1, 2)).transpose(1, 2)\n",
    "        return self.relu(x)\n",
    "\n",
    "\n",
    "class LstmBlock(nn.Module):\n",
    "    def __init__(self, input_size, hidden_size, dropout=0.1):\n",
    "        super().__init__()\n",
    "        self.lstm = nn.LSTM(\n",
    "            input_size=input_size,  # CNN_out_channels\n",
    "            hidden_size=hidden_size,  # 256\n",
    "            num_layers=2,\n",
    "            bidirectional=True,\n",
    "            batch_first=True,\n",
    "        )\n",
    "        self.norm = nn.LayerNorm(hidden_size * 2)\n",
    "        self.drop = nn.Dropout(dropout)\n",
    "\n",
    "    def forward(self, x):\n",
    "        x, _ = self.lstm(x)\n",
    "        x = self.drop(self.norm(x))\n",
    "        return x\n"
   ]
  },
  {
   "cell_type": "code",
   "execution_count": null,
   "id": "9a90e2cb",
   "metadata": {},
   "outputs": [],
   "source": [
    "class ModelBase(nn.Module):\n",
    "    def __init__(\n",
    "        self,\n",
    "        input_size: Tuple[int, int],\n",
    "        kernel_chanel: int,\n",
    "        conv_out_size: int,\n",
    "        vocab_size: int,\n",
    "    ):\n",
    "        super().__init__()\n",
    "\n",
    "        self.conv_part = nn.Sequential(\n",
    "            ConvBlock(\n",
    "                in_channels=input_size[0],\n",
    "                out_channels=kernel_chanel,\n",
    "                kernel_size=5,\n",
    "                padding=2,\n",
    "                stride=2,\n",
    "            ),\n",
    "            #     # ConvBlock(\n",
    "            #     #     in_channels=kernel_chanel,\n",
    "            #     #     out_channels=kernel_chanel,\n",
    "            #     #     kernel_size=3,\n",
    "            #     #     padding=1,\n",
    "            #     # ),\n",
    "            #     ConvBlock(\n",
    "            #         in_channels=kernel_chanel,\n",
    "            #         out_channels=conv_out_size,\n",
    "            #         kernel_size=3,\n",
    "            #         padding=0,\n",
    "            #     ),\n",
    "        )\n",
    "\n",
    "        self.rnn_part = nn.Sequential(\n",
    "            LstmBlock(\n",
    "                input_size=kernel_chanel, hidden_size=64, dropout=0.4\n",
    "            ),  # 128, conv_out_size\n",
    "            # LstmBlock(input_size=128 * 2, hidden_size=64, dropout=0.4),\n",
    "        )\n",
    "\n",
    "        self.clf = nn.Linear(\n",
    "            in_features=64 * 2,\n",
    "            out_features=vocab_size,\n",
    "        )\n",
    "\n",
    "    def forward(self, x):\n",
    "        x = self.conv_part(x)\n",
    "        x = x.transpose(1, 2)\n",
    "        x = self.rnn_part(x)\n",
    "        return self.clf(x)\n"
   ]
  },
  {
   "cell_type": "code",
   "execution_count": null,
   "id": "8406124d",
   "metadata": {},
   "outputs": [],
   "source": []
  },
  {
   "cell_type": "code",
   "execution_count": null,
   "id": "c8b3d939",
   "metadata": {},
   "outputs": [
    {
     "ename": "",
     "evalue": "",
     "output_type": "error",
     "traceback": [
      "\u001b[1;31mnotebook controller is DISPOSED. \n",
      "\u001b[1;31mView Jupyter <a href='command:jupyter.viewOutput'>log</a> for further details."
     ]
    }
   ],
   "source": []
  }
 ],
 "metadata": {
  "kernelspec": {
   "display_name": ".venv_morse",
   "language": "python",
   "name": "python3"
  },
  "language_info": {
   "codemirror_mode": {
    "name": "ipython",
    "version": 3
   },
   "file_extension": ".py",
   "mimetype": "text/x-python",
   "name": "python",
   "nbconvert_exporter": "python",
   "pygments_lexer": "ipython3",
   "version": "3.10.11"
  }
 },
 "nbformat": 4,
 "nbformat_minor": 5
}

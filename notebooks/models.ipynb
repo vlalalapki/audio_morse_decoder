{
 "cells": [
  {
   "cell_type": "markdown",
   "id": "bd387152",
   "metadata": {},
   "source": [
    "# Эксперименты и построение моделей"
   ]
  },
  {
   "cell_type": "markdown",
   "id": "61347448",
   "metadata": {},
   "source": [
    "В данном ноутбуке представлены этапы построения моделей для распознавания звуковых сигналов азбуки Морзе.\n",
    "\n",
    "Здесь также находятся все основные функции, используемые на разных этапах пайплайна: предобработка данных, обучение модели, декодирование и предсказание.\n",
    "\n",
    "Работа велась поэтапно, остались удачные эксперименты и не очень. Заголовки служат для навигации по полноценным экспериментам с обучениями моделей. <br>\n",
    "Для переключения сразу на успешные и последние результаты — [начните с Boost, prune & more cnn](#boost-prune--more-cnn)"
   ]
  },
  {
   "cell_type": "markdown",
   "id": "4e97f46b",
   "metadata": {},
   "source": [
    "## Preparing & loading"
   ]
  },
  {
   "cell_type": "code",
   "execution_count": 1,
   "id": "2c3b8758",
   "metadata": {},
   "outputs": [],
   "source": [
    "import copy\n",
    "from functools import partial\n",
    "import json\n",
    "import os\n",
    "from pathlib import Path\n",
    "import sys\n",
    "from typing import Callable, Dict, List, Optional, Tuple, Union\n",
    "\n",
    "from dotenv import load_dotenv\n",
    "import matplotlib.pyplot as plt\n",
    "import mlflow\n",
    "import numpy as np\n",
    "import optuna\n",
    "from optuna.integration.mlflow import MLflowCallback\n",
    "from optuna.samplers import TPESampler\n",
    "import pandas as pd\n",
    "from scipy.signal import wiener\n",
    "from sklearn.model_selection import train_test_split\n",
    "import torch\n",
    "import torch.nn as nn\n",
    "import torch.nn.functional as F\n",
    "import torch.nn.init as init\n",
    "from torch.nn.utils import clip_grad_norm_\n",
    "from torch.nn.utils.rnn import pad_sequence\n",
    "from torch.optim import lr_scheduler\n",
    "from torch.utils.data import DataLoader, Dataset\n",
    "import torchaudio\n",
    "from torchaudio.functional import edit_distance\n",
    "from torchaudio.models.decoder import ctc_decoder\n",
    "from tqdm import tqdm\n"
   ]
  },
  {
   "cell_type": "code",
   "execution_count": 1,
   "id": "ce235741",
   "metadata": {},
   "outputs": [],
   "source": [
    "# import importlib\n",
    "# import config\n",
    "\n",
    "# importlib.reload(config)"
   ]
  },
  {
   "cell_type": "code",
   "execution_count": 2,
   "id": "3a8260e0",
   "metadata": {},
   "outputs": [
    {
     "data": {
      "text/plain": [
       "WindowsPath('C:/Users/user/Desktop/Jupyter_and_projects/test_kontur/morse_decoder/mlflow_server/mlartifacts/models_info.json')"
      ]
     },
     "execution_count": 2,
     "metadata": {},
     "output_type": "execute_result"
    }
   ],
   "source": [
    "sys.path.append(\"../src\")\n",
    "\n",
    "from config import (\n",
    "    DATA_DIR,\n",
    "    AUDIO_FILES_DIR,\n",
    "    SEED,\n",
    "    MODELS_DIR,\n",
    "    MODELS_INFO_PATH,\n",
    "    EXPERIMENT_NAME,\n",
    "    STUDY_DB_URI,\n",
    ")\n",
    "\n",
    "np.random.seed(SEED)\n",
    "MODELS_INFO_PATH"
   ]
  },
  {
   "cell_type": "markdown",
   "id": "d4f13d2e",
   "metadata": {},
   "source": [
    "### Mlflow run"
   ]
  },
  {
   "cell_type": "markdown",
   "id": "8da9b37a",
   "metadata": {},
   "source": [
    "Запуск mlflow сервера для логирования"
   ]
  },
  {
   "cell_type": "code",
   "execution_count": 3,
   "id": "f571eaa1",
   "metadata": {},
   "outputs": [
    {
     "name": "stdout",
     "output_type": "stream",
     "text": [
      "Connected to MLflow server: http://127.0.0.1:8080\n"
     ]
    }
   ],
   "source": [
    "load_dotenv()\n",
    "\n",
    "TRACKING_SERVER_HOST = os.getenv(\"TRACKING_SERVER_HOST\")\n",
    "TRACKING_SERVER_PORT = os.getenv(\"TRACKING_SERVER_PORT\")\n",
    "\n",
    "mlflow.set_tracking_uri(f\"http://{TRACKING_SERVER_HOST}:{TRACKING_SERVER_PORT}\")\n",
    "\n",
    "# mlflow.create_experiment(EXPERIMENT_NAME)\n",
    "\n",
    "print(\"Connected to MLflow server:\", mlflow.get_tracking_uri())"
   ]
  },
  {
   "cell_type": "markdown",
   "id": "68d1af20",
   "metadata": {},
   "source": [
    "### Функции для обучения модели\n",
    "\n",
    "В этом разделе собраны основные функции, используемые в дальнейшем для обучения модели. <br>\n",
    "Если в каких-либо следующих разделах используется изменённый вариант функции, он представлен отдельно под другим именем прямо в соответствующем разделе."
   ]
  },
  {
   "cell_type": "markdown",
   "id": "45674f86",
   "metadata": {},
   "source": [
    "Получение словаря"
   ]
  },
  {
   "cell_type": "code",
   "execution_count": 41,
   "id": "70fcfd80",
   "metadata": {},
   "outputs": [],
   "source": [
    "def get_vocab(words: pd.Series, blank: str = \"<blk>\") -> dict[int, str]:\n",
    "    \"\"\"\n",
    "    Строит словарь всех уникальных символов, встречающихся в целевом признаке.\n",
    "    Начальные индексы зарезервированы для служебных символов.\n",
    "    \"\"\"\n",
    "    vocab = {0: blank, 1: \"|\"}\n",
    "    all_chars = set(\"\".join(words.astype(str)))\n",
    "\n",
    "    for i, char in enumerate(sorted(all_chars), start=2):\n",
    "        vocab[i] = char\n",
    "\n",
    "    print(f\"Vocab is ready, size = {len(vocab)}\")\n",
    "    return vocab"
   ]
  },
  {
   "cell_type": "markdown",
   "id": "db3db01d",
   "metadata": {},
   "source": [
    "Предобработка аудио файлов с кэшированием полученных файлов."
   ]
  },
  {
   "cell_type": "code",
   "execution_count": 42,
   "id": "fa065b50",
   "metadata": {},
   "outputs": [],
   "source": [
    "def path_to_melspect_cached(\n",
    "    file_name: str,\n",
    "    audio_files_dir: Path,\n",
    "    cache_dir: Path,\n",
    "    overwrite: bool = False,\n",
    ") -> np.ndarray:\n",
    "    \"\"\"\n",
    "    Из списка файлов возвращает мел-спектрограмму в dB для заданного аудиофайла.\n",
    "    Использует кэширование, чтобы избежать повторной обработки.\n",
    "    \"\"\"\n",
    "    cache_path = cache_dir / (file_name.replace(\".opus\", \".npy\"))\n",
    "\n",
    "    if cache_path.exists() and not overwrite:\n",
    "        return np.load(cache_path)\n",
    "\n",
    "    waveform, sr = torchaudio.load(audio_files_dir / file_name)\n",
    "\n",
    "    mel = torchaudio.transforms.MelSpectrogram(\n",
    "        sample_rate=sr, n_fft=1024, hop_length=256, n_mels=80\n",
    "    )(waveform)\n",
    "    mel_db = torchaudio.transforms.AmplitudeToDB(top_db=80)(mel)\n",
    "    mel_db = mel_db.squeeze(0).cpu().numpy()\n",
    "\n",
    "    os.makedirs(cache_dir, exist_ok=True)\n",
    "    np.save(cache_path, mel_db)\n",
    "    return mel_db"
   ]
  },
  {
   "cell_type": "markdown",
   "id": "dd64ed00",
   "metadata": {},
   "source": [
    "Tokenizer для перевода символов в индексы и наоборот"
   ]
  },
  {
   "cell_type": "code",
   "execution_count": 43,
   "id": "45cc655f",
   "metadata": {},
   "outputs": [],
   "source": [
    "class Tokenizer:\n",
    "    \"\"\"\n",
    "    Класс для кодирования и декодирования строк на основе словаря символов.\n",
    "    \"\"\"\n",
    "\n",
    "    def __init__(self, vocab: Dict[int, str]):\n",
    "        self.index_char = vocab\n",
    "        self.char_index = {char: index for index, char in self.index_char.items()}\n",
    "\n",
    "    def __call__(\n",
    "        self, chars: Union[str, List[str]]\n",
    "    ) -> Union[List[int], List[List[int]]]:\n",
    "        \"\"\"\n",
    "        Преобразует строку или список строк в список индексов.\n",
    "        \"\"\"\n",
    "        if isinstance(chars, str):\n",
    "            return [self.char_index.get(char, -1) for char in chars]\n",
    "        elif isinstance(chars, list):\n",
    "            return [self.__call__(t) for t in chars]\n",
    "        else:\n",
    "            raise ValueError(\"Expected list or str\")\n",
    "\n",
    "    def decode(\n",
    "        self, indexs: Union[List[int], List[List[int]]]\n",
    "    ) -> Union[str, List[str]]:\n",
    "        \"\"\"\n",
    "        Преобразует список индексов или список списков индексов обратно в строку(и).\n",
    "        \"\"\"\n",
    "        if isinstance(indexs, list):\n",
    "            if isinstance(indexs[0], list):\n",
    "                return [self.decode(i) for i in indexs]\n",
    "            else:\n",
    "                return \"\".join([self.index_char.get(idx, \"\") for idx in indexs])\n",
    "        else:\n",
    "            raise ValueError(\"Expected list or str\")"
   ]
  },
  {
   "cell_type": "markdown",
   "id": "b05e7d55",
   "metadata": {},
   "source": [
    "Готовая функция для перевода выходов модели в конечный набор символов"
   ]
  },
  {
   "cell_type": "code",
   "execution_count": 44,
   "id": "58956855",
   "metadata": {},
   "outputs": [],
   "source": [
    "def decoding_to_tokens(\n",
    "    decoder: Callable,\n",
    "    model_output: torch.Tensor,\n",
    "    tokenizer: Callable,\n",
    ") -> List[str]:\n",
    "    \"\"\"\n",
    "    Применяет декодер(beam_search) и tokenizer к выходу модели и возвращает расшифрованные строки.\n",
    "    \"\"\"\n",
    "\n",
    "    log_probs = nn.functional.log_softmax(model_output, dim=-1)\n",
    "    results = decoder(log_probs.contiguous())  # log_probs: [B, T, C]\n",
    "\n",
    "    decoded_sequences = []\n",
    "    for batch_result in results:\n",
    "        top_hypo = batch_result[0]\n",
    "        tokens = top_hypo.tokens.tolist()\n",
    "        decoded_sequence = tokenizer.decode(tokens)\n",
    "        decoded_sequence = decoded_sequence.strip(\"|\")\n",
    "        decoded_sequences.append(decoded_sequence)\n",
    "\n",
    "    return decoded_sequences"
   ]
  },
  {
   "cell_type": "markdown",
   "id": "312e1568",
   "metadata": {},
   "source": [
    "Адаптация nn.CTCLoss под нашу задачу"
   ]
  },
  {
   "cell_type": "code",
   "execution_count": 45,
   "id": "a34136fa",
   "metadata": {},
   "outputs": [],
   "source": [
    "def loss_ctc(\n",
    "    model_output: torch.Tensor,  # Тензор [Batch, Time, Classes] - ожидается на device\n",
    "    targets: torch.Tensor,  # Тензор [sum(target_lengths)] - ожидается на CPU\n",
    "    target_lengths: torch.Tensor,  # Тензор [B] - ожидается на CPU\n",
    "    blank_id: int = 0,\n",
    ") -> torch.Tensor:\n",
    "    \"\"\"\n",
    "    Вычисляет CTC-лосс (Connectionist Temporal Classification) между выходом модели и целевыми метками.\n",
    "\n",
    "    \"\"\"\n",
    "    log_output = F.log_softmax(model_output, dim=-1)\n",
    "    log_output = log_output.transpose(0, 1)\n",
    "\n",
    "    output_time_dim = log_output.shape[0]  # T'\n",
    "    batch_size = log_output.shape[1]  # B\n",
    "\n",
    "    output_lengths = torch.full(\n",
    "        size=(batch_size,), fill_value=output_time_dim, dtype=torch.long, device=\"cpu\"\n",
    "    )\n",
    "    targets_cpu = targets.cpu()\n",
    "    target_lengths_cpu = target_lengths.cpu()\n",
    "\n",
    "    loss = nn.CTCLoss(blank=blank_id, reduction=\"mean\", zero_infinity=True)\n",
    "\n",
    "    batch_loss = loss(\n",
    "        log_output.float(), targets_cpu, output_lengths, target_lengths_cpu\n",
    "    )\n",
    "    return batch_loss"
   ]
  },
  {
   "cell_type": "markdown",
   "id": "34309d8a",
   "metadata": {},
   "source": [
    "Класс Dataset, принимающий имена файлов, transform для предобработки этих файлов и tokenizer для подготовки target"
   ]
  },
  {
   "cell_type": "code",
   "execution_count": 46,
   "id": "1b7bc854",
   "metadata": {},
   "outputs": [],
   "source": [
    "class MorseDataset(Dataset):\n",
    "    \"\"\"\n",
    "    Класс для загрузки и обработки датасета\n",
    "\n",
    "    Атрибуты:\n",
    "        X_filenames (pd.Series): Список путей к аудио файлам.\n",
    "        y_texts (Optional[pd.Series]): Список целевых меток (строки).\n",
    "        transform (Optional[Callable]): Функция для преобразования аудио файлов в признаки.\n",
    "        tokenizer (Optional[Callable[[str], list]]): Tokenizer для преобразования текста в индексы.\n",
    "    \"\"\"\n",
    "\n",
    "    def __init__(\n",
    "        self,\n",
    "        X_filenames: pd.Series,\n",
    "        y_texts: Optional[pd.Series] = None,\n",
    "        transform: Optional[Callable] = None,\n",
    "        tokenizer: Optional[Callable[[str], list]] = None,\n",
    "    ):\n",
    "        self.X_filenames = X_filenames.reset_index(drop=True)\n",
    "        self.y_texts = y_texts.reset_index(drop=True) if y_texts is not None else None\n",
    "        self.transform = transform\n",
    "        self.tokenizer = tokenizer\n",
    "\n",
    "    def __len__(self) -> int:\n",
    "        return len(self.X_filenames)\n",
    "\n",
    "    def __getitem__(self, idx) -> Dict[str, torch.Tensor]:\n",
    "        filename = self.X_filenames[idx]\n",
    "        mel_features = self.transform(filename)  # [C, T] ([n_mels, time])\n",
    "\n",
    "        item = {\"input\": torch.tensor(mel_features, dtype=torch.float)}\n",
    "\n",
    "        if self.y_texts is not None:\n",
    "            text = self.y_texts[idx]\n",
    "            if self.tokenizer:\n",
    "                target = self.tokenizer(text)\n",
    "            else:\n",
    "                raise ValueError(\"Tokenizer needs for target encoding\")\n",
    "            item[\"target_text\"] = text\n",
    "            item[\"target\"] = torch.tensor(target, dtype=torch.long)\n",
    "            item[\"target_length\"] = len(target)\n",
    "\n",
    "        return item"
   ]
  },
  {
   "cell_type": "markdown",
   "id": "bd65d3bb",
   "metadata": {},
   "source": [
    "Функции для создания DataLoader с кастомным collate_fn для создания удобного batch при работе с CTCLoss"
   ]
  },
  {
   "cell_type": "code",
   "execution_count": null,
   "id": "73254815",
   "metadata": {},
   "outputs": [],
   "source": [
    "def dataloader_collate(batch: List[Dict[str, torch.Tensor]]) -> Dict[str, torch.Tensor]:\n",
    "    \"\"\"\n",
    "    Функция для объединения элементов батча, с добавлением паддинга для последовательностей.\n",
    "    \"\"\"\n",
    "    inputs = [item[\"input\"].T for item in batch]  # [T, C]\n",
    "\n",
    "    padded_inputs = pad_sequence(inputs, batch_first=True)  # [B, max_T, C]\n",
    "    padded_inputs = padded_inputs.transpose(1, 2)  # [B, C, T]\n",
    "\n",
    "    collated = {\n",
    "        \"input\": padded_inputs,\n",
    "    }\n",
    "\n",
    "    if \"target\" in batch[0]:\n",
    "        targets = torch.cat([item[\"target\"] for item in batch], dim=0)\n",
    "        target_lengths = torch.tensor(\n",
    "            [item[\"target_length\"] for item in batch], dtype=torch.long\n",
    "        )\n",
    "        collated[\"target_text\"] = [item[\"target_text\"] for item in batch]\n",
    "        collated[\"target\"] = targets\n",
    "        collated[\"target_length\"] = target_lengths\n",
    "\n",
    "    return collated\n",
    "\n",
    "\n",
    "def data_loader(\n",
    "    dataset: torch.utils.data.Dataset,\n",
    "    batch_size: int,\n",
    "    shuffle: bool,\n",
    "    num_workers: int = 0,\n",
    "    drop_last: bool = True,\n",
    ") -> DataLoader:\n",
    "    \"\"\"\n",
    "    Функция для создания DataLoader с заданными параметрами.\n",
    "    \"\"\"\n",
    "    return DataLoader(\n",
    "        dataset,\n",
    "        batch_size=batch_size,\n",
    "        shuffle=shuffle,\n",
    "        collate_fn=dataloader_collate,\n",
    "        num_workers=num_workers,\n",
    "        drop_last=drop_last,\n",
    "        pin_memory=True,\n",
    "    )"
   ]
  },
  {
   "cell_type": "markdown",
   "id": "f87cda43",
   "metadata": {},
   "source": [
    "Основная функция для обучения модели и валидации результатов. <br>\n",
    "Для обучения используется CTC-loss. Валидация проводится с использованием beam-search декодирования, <br>\n",
    "после чего рассчитывается расстояние Левенштейна между предсказанным и истинным текстом.<br>"
   ]
  },
  {
   "cell_type": "code",
   "execution_count": 48,
   "id": "ad4649bc",
   "metadata": {},
   "outputs": [],
   "source": [
    "def train_model(\n",
    "    model: nn.Module,\n",
    "    train_loader: DataLoader,\n",
    "    optimizer: torch.optim.Optimizer,\n",
    "    ctc_loss: Callable,\n",
    "    epochs: int,\n",
    "    metric: Callable,\n",
    "    decoder: Callable,\n",
    "    tokenizer: Callable,\n",
    "    val_loader: Union[DataLoader, None] = None,\n",
    "    scheduler: Union[Callable, None] = None,\n",
    ") -> Tuple[nn.Module, Dict[str, List]]:\n",
    "    \"\"\"\n",
    "    Обучение модели с CTC-loss, возможной валидацией и логированием метрик по эпохам.\n",
    "    \"\"\"\n",
    "\n",
    "    device = torch.device(\"cuda\" if torch.cuda.is_available() else \"cpu\")\n",
    "    print(f\"Using device: {device}\")\n",
    "    model.to(device, non_blocking=True)\n",
    "    metrics = {\"train_loss\": [], \"train_metric\": [], \"val_metric\": []}\n",
    "\n",
    "    for epoch in range(epochs):\n",
    "        print(f\"\\n Epoch {epoch + 1}/{epochs}\")\n",
    "        epoch_loss = []\n",
    "        # epoch_train_metrics = []\n",
    "        model.train()\n",
    "        with tqdm(\n",
    "            train_loader, desc=\"Training\", total=len(train_loader), dynamic_ncols=True\n",
    "        ) as pbar:\n",
    "            for batch in pbar:\n",
    "                inputs = batch[\"input\"].to(device, non_blocking=True)  # (B, C, T)\n",
    "                targets = batch[\"target\"]  # (sum_target_len,)\n",
    "                target_lengths = batch[\"target_length\"]  # (B,)\n",
    "                optimizer.zero_grad()\n",
    "\n",
    "                # with autocast(device_type=device.type):\n",
    "                output = model(inputs)\n",
    "                loss = ctc_loss(output, targets, target_lengths)\n",
    "\n",
    "                # scaler.scale(loss).backward()\n",
    "                # scaler.step(optimizer)\n",
    "                # scaler.update()\n",
    "                loss.backward()\n",
    "                clip_grad_norm_(model.parameters(), max_norm=1.0)\n",
    "                optimizer.step()\n",
    "                epoch_loss.append(loss.item())\n",
    "\n",
    "        # emissions = output.detach().cpu().float()\n",
    "        # tokens_output = decoding_to_tokens(decoder, emissions, tokenizer)\n",
    "        # batch_train_metrics = [\n",
    "        #     metric(pred, gt) for pred, gt in zip(tokens_output, target_text)\n",
    "        # ]\n",
    "        # epoch_train_metrics.append(np.mean(batch_train_metrics))\n",
    "\n",
    "        avg_epoch_loss = np.mean(epoch_loss)\n",
    "        metrics[\"train_loss\"].append(avg_epoch_loss)\n",
    "\n",
    "        # avg_epoch_train_metric = np.mean(epoch_train_metrics)\n",
    "        # metrics[\"train_metric\"].append(avg_epoch_train_metric)\n",
    "\n",
    "        print(\n",
    "            f\"Epoch {epoch + 1} with loss = {avg_epoch_loss:.4f}\"  # and metric_train={avg_epoch_train_metric:.4f}\"\n",
    "        )\n",
    "        if scheduler is not None:\n",
    "            scheduler.step()\n",
    "            print(f\"Learning_rate = {scheduler.get_last_lr()}\")\n",
    "\n",
    "        if val_loader is not None:\n",
    "            model.eval()\n",
    "            epoch_val_metrics = []\n",
    "\n",
    "            with torch.no_grad():\n",
    "                for batch in tqdm(\n",
    "                    val_loader, desc=f\"Validation Epoch {epoch + 1}\", leave=False\n",
    "                ):\n",
    "                    inputs = batch[\"input\"].to(device, non_blocking=True)  # (B, C, T)\n",
    "                    target_text = batch[\"target_text\"]\n",
    "                    # with autocast(device_type=device.type):\n",
    "                    predictions = model(inputs)\n",
    "\n",
    "                    emissions = predictions.detach().cpu().float()\n",
    "\n",
    "                    tokens_output = decoding_to_tokens(decoder, emissions, tokenizer)\n",
    "                    batch_val_metrics = [\n",
    "                        metric(pred, gt) for pred, gt in zip(tokens_output, target_text)\n",
    "                    ]\n",
    "                    epoch_val_metrics.append(np.mean(batch_val_metrics))\n",
    "\n",
    "            avg_epoch_val_metrics = np.mean(epoch_val_metrics)\n",
    "            metrics[\"val_metric\"].append(avg_epoch_val_metrics)\n",
    "            print(f\"Val Metric={avg_epoch_val_metrics:.4f}\")\n",
    "\n",
    "        else:\n",
    "            metrics[\"val_metric\"].append(None)\n",
    "\n",
    "    return model, metrics"
   ]
  },
  {
   "cell_type": "markdown",
   "id": "8481d236",
   "metadata": {},
   "source": [
    "Блоки для создания модели - сверточный блок и LSTM-блок"
   ]
  },
  {
   "cell_type": "code",
   "execution_count": 49,
   "id": "eff4c548",
   "metadata": {},
   "outputs": [],
   "source": [
    "class ConvBlock(nn.Module):\n",
    "    \"\"\"\n",
    "    Свёрточный блок с нормализацией и активацией ReLU.\n",
    "\n",
    "    Включает свёртку (Conv1d), слой нормализации (LayerNorm) и активацию ReLU.\n",
    "    \"\"\"\n",
    "\n",
    "    def __init__(\n",
    "        self,\n",
    "        in_channels: int,\n",
    "        out_channels: int,\n",
    "        kernel_size: int,\n",
    "        padding: int,\n",
    "        stride: int = 1,\n",
    "        groups: int = 1,\n",
    "    ):\n",
    "        super().__init__()\n",
    "        self.conv = nn.Conv1d(\n",
    "            in_channels,\n",
    "            out_channels,\n",
    "            kernel_size,\n",
    "            padding=padding,\n",
    "            stride=stride,\n",
    "            groups=groups,\n",
    "        )\n",
    "        self.norm = nn.LayerNorm(out_channels)\n",
    "        self.relu = nn.ReLU()\n",
    "\n",
    "    def forward(self, x: torch.Tensor) -> torch.Tensor:\n",
    "        x = self.conv(x)\n",
    "        x = self.norm(x.transpose(1, 2)).transpose(1, 2)\n",
    "        return self.relu(x)\n",
    "\n",
    "\n",
    "class LstmBlock(nn.Module):\n",
    "    \"\"\"\n",
    "    Блок LSTM с нормализацией и dropout.\n",
    "\n",
    "    Включает двустороннюю LSTM (2 слоя), слой нормализации (LayerNorm) и слой dropout.\n",
    "    \"\"\"\n",
    "\n",
    "    def __init__(self, input_size: int, hidden_size: int, dropout: float = 0.1):\n",
    "        super().__init__()\n",
    "        self.lstm = nn.LSTM(\n",
    "            input_size=input_size,\n",
    "            hidden_size=hidden_size,\n",
    "            num_layers=2,\n",
    "            bidirectional=True,\n",
    "            batch_first=True,\n",
    "        )\n",
    "        self.norm = nn.LayerNorm(hidden_size * 2)\n",
    "        self.drop = nn.Dropout(dropout)\n",
    "\n",
    "    def forward(self, x: torch.Tensor) -> torch.Tensor:\n",
    "        x, _ = self.lstm(x)\n",
    "        x = self.drop(self.norm(x))\n",
    "        return x"
   ]
  },
  {
   "cell_type": "markdown",
   "id": "bb201a33",
   "metadata": {},
   "source": [
    "Класс модели - бэйзлана."
   ]
  },
  {
   "cell_type": "code",
   "execution_count": 50,
   "id": "a9d02702",
   "metadata": {},
   "outputs": [],
   "source": [
    "class ModelBase(nn.Module):\n",
    "    \"\"\"\n",
    "    Базовая модель на основе свёрточный блок (ConvBlock),\n",
    "    LSTM блок (LstmBlock) и слой классификации (Linear).\n",
    "    \"\"\"\n",
    "\n",
    "    def __init__(\n",
    "        self,\n",
    "        input_size: Tuple[int, int],\n",
    "        kernel_chanel: int,\n",
    "        conv_out_size: int,\n",
    "        vocab_size: int,\n",
    "    ):\n",
    "        super().__init__()\n",
    "\n",
    "        self.conv_part = nn.Sequential(\n",
    "            ConvBlock(\n",
    "                in_channels=input_size[0],\n",
    "                out_channels=kernel_chanel,\n",
    "                kernel_size=5,\n",
    "                padding=2,\n",
    "                stride=2,\n",
    "            ),\n",
    "        )\n",
    "\n",
    "        self.rnn_part = nn.Sequential(\n",
    "            LstmBlock(input_size=kernel_chanel, hidden_size=64, dropout=0.4)\n",
    "        )\n",
    "\n",
    "        self.clf = nn.Linear(\n",
    "            in_features=64 * 2,\n",
    "            out_features=vocab_size,\n",
    "        )\n",
    "\n",
    "    def forward(self, x: torch.Tensor) -> torch.Tensor:\n",
    "        x = self.conv_part(x)\n",
    "        x = x.transpose(1, 2)\n",
    "        x = self.rnn_part(x)\n",
    "        return self.clf(x)"
   ]
  },
  {
   "cell_type": "markdown",
   "id": "47cd89cd",
   "metadata": {},
   "source": [
    "Инициализация начальных весов модели в зависимости от блока."
   ]
  },
  {
   "cell_type": "code",
   "execution_count": 51,
   "id": "b9357ab5",
   "metadata": {},
   "outputs": [],
   "source": [
    "def init_weights(module: nn.Module) -> None:\n",
    "    \"\"\"\n",
    "    Инициализация весов для различных типов слоёв.\n",
    "    \"\"\"\n",
    "    if isinstance(module, nn.Conv1d):\n",
    "        init.kaiming_normal_(module.weight, nonlinearity=\"relu\")\n",
    "        if module.bias is not None:\n",
    "            init.constant_(module.bias, 0)\n",
    "\n",
    "    elif isinstance(module, nn.Linear):\n",
    "        init.xavier_uniform_(module.weight)\n",
    "        if module.bias is not None:\n",
    "            init.constant_(module.bias, 0)\n",
    "\n",
    "    elif isinstance(module, nn.LSTM):\n",
    "        for name, param in module.named_parameters():\n",
    "            if \"weight_ih\" in name:\n",
    "                init.xavier_uniform_(param)\n",
    "            elif \"weight_hh\" in name:\n",
    "                init.orthogonal_(param)\n",
    "            elif \"bias\" in name:\n",
    "                init.constant_(param, 0)\n",
    "\n",
    "    elif isinstance(module, nn.LayerNorm):\n",
    "        if module.elementwise_affine:\n",
    "            init.constant_(module.weight, 1.0)\n",
    "            init.constant_(module.bias, 0.0)"
   ]
  },
  {
   "cell_type": "markdown",
   "id": "2752ec45",
   "metadata": {},
   "source": [
    "Отрисовка словаря с метриками, полученного после функции train_model()"
   ]
  },
  {
   "cell_type": "code",
   "execution_count": 52,
   "id": "930f70a0",
   "metadata": {},
   "outputs": [],
   "source": [
    "def plot_metrics(\n",
    "    metrics_dict: dict,\n",
    "    title: str = \"Model Metrics\",\n",
    "    xlabel: str = \"Epochs\",\n",
    "    ylabel: str = \"Metric Value\",\n",
    ") -> None:\n",
    "    \"\"\"\n",
    "    Функция для отображения метрик в виде графиков.\n",
    "    \"\"\"\n",
    "    plt.figure(figsize=(10, 6))\n",
    "    epochs = range(1, len(list(metrics_dict.values())[0]) + 1)\n",
    "\n",
    "    for metric_name, metric_values in metrics_dict.items():\n",
    "        if metric_values:\n",
    "            plt.plot(epochs, metric_values, label=metric_name)\n",
    "\n",
    "    plt.title(title)\n",
    "    plt.xlabel(xlabel)\n",
    "    plt.ylabel(ylabel)\n",
    "    plt.legend(loc=\"best\")\n",
    "    plt.grid(True)\n",
    "    plt.tight_layout()\n",
    "    plt.show()"
   ]
  },
  {
   "cell_type": "markdown",
   "id": "e72aeb82",
   "metadata": {},
   "source": [
    "Функция для предсказания - получает список имен файлов, прогоняет через модель, через decoder и tokenizer и отдает полученные готовые предсказания."
   ]
  },
  {
   "cell_type": "code",
   "execution_count": 53,
   "id": "da94958b",
   "metadata": {},
   "outputs": [],
   "source": [
    "def model_predict(\n",
    "    model: nn.Module,\n",
    "    test_paths: pd.Series,\n",
    "    tokenizer: Tokenizer,\n",
    "    decoder: Callable,\n",
    "    batch_size: int = 32,\n",
    "    device: Optional[torch.device] = None,\n",
    ") -> pd.DataFrame:\n",
    "    \"\"\"\n",
    "    Функция для предсказания модели на тестовых данных.\n",
    "\n",
    "    Parameters:\n",
    "        model (nn.Module): Обученная модель для предсказаний.\n",
    "        test_paths (pd.Series): Имена тестовых аудиофайлов.\n",
    "        tokenizer (Tokenizer): Tokenizer для декодирования индексов.\n",
    "        decoder(Callable): Декодер для преобразования выходов модели в индексы словаря.\n",
    "        batch_size (int): Размер батча для DataLoader.\n",
    "        device (torch.device): Устройство (CPU или CUDA), на котором будет происходить вычисление.\n",
    "\n",
    "    Returns:\n",
    "        pd.DataFrame: DataFrame с декодированными предсказаниями.\n",
    "    \"\"\"\n",
    "\n",
    "    if device is None:\n",
    "        device = torch.device(\"cuda\" if torch.cuda.is_available() else \"cpu\")\n",
    "\n",
    "    model.to(device)\n",
    "    model.eval()\n",
    "\n",
    "    # Преобразование тестовых данных в датасет\n",
    "    test_dataset = MorseDataset(\n",
    "        X_filenames=test_paths, transform=transform, tokenizer=tokenizer\n",
    "    )\n",
    "\n",
    "    # Создание DataLoader\n",
    "    test_loader = data_loader(\n",
    "        test_dataset, batch_size=batch_size, shuffle=False, drop_last=False\n",
    "    )\n",
    "\n",
    "    predictions = []\n",
    "\n",
    "    with torch.no_grad():\n",
    "        with tqdm(test_loader, desc=\"Predicting\", total=len(test_loader)) as pbar:\n",
    "            for batch in pbar:\n",
    "                inputs = batch[\"input\"].to(device)  # [B, C, T]\n",
    "\n",
    "                outputs = model(inputs)\n",
    "\n",
    "                decoded_preds = decoding_to_tokens(decoder, outputs, tokenizer)\n",
    "\n",
    "                predictions.extend(decoded_preds)\n",
    "\n",
    "                pbar.set_postfix({\"Predictions\": len(predictions)})\n",
    "\n",
    "    return pd.DataFrame({\"id\": test_paths, \"message\": predictions})"
   ]
  },
  {
   "cell_type": "markdown",
   "id": "8f16184e",
   "metadata": {},
   "source": [
    "Функция для сохранения метрик и моделей."
   ]
  },
  {
   "cell_type": "code",
   "execution_count": null,
   "id": "43c31edd",
   "metadata": {},
   "outputs": [],
   "source": [
    "def save_model_metrics(\n",
    "    model: nn.Module,\n",
    "    metrics: Dict[str, list],\n",
    "    model_path: Path,\n",
    "    metric_filename: str,\n",
    ") -> None:\n",
    "    \"\"\"\n",
    "    Сохраняет модель и метрики в указанные файлы.\n",
    "    \"\"\"\n",
    "    torch.save(model, model_path)\n",
    "\n",
    "    clean_metrics = {key: [float(v) for v in values] for key, values in metrics.items()}\n",
    "\n",
    "    with open(f\"{MODELS_DIR}/{metric_filename}\", \"w\") as fd:\n",
    "        json.dump(clean_metrics, fd)\n",
    "        pass"
   ]
  },
  {
   "cell_type": "markdown",
   "id": "2387d7f7",
   "metadata": {},
   "source": [
    "Функция для логирования результатов в MlFlow"
   ]
  },
  {
   "cell_type": "code",
   "execution_count": null,
   "id": "413fafa6",
   "metadata": {},
   "outputs": [],
   "source": [
    "def log_to_mlflow_torch(\n",
    "    run_name: str,\n",
    "    train_params: dict,\n",
    "    metrics: dict,\n",
    "    metadata: Union[dict, None] = None,\n",
    "    registry_model_name: Union[str, None] = None,\n",
    "    fitted_model: Union[torch.nn.Module, None] = None,\n",
    "    artifact_path: str = \"models\",\n",
    "    tags: dict = None,\n",
    "    model_info_path: str = MODELS_INFO_PATH,\n",
    "    experiment_name: str = EXPERIMENT_NAME,\n",
    "    log_model: bool = True,\n",
    ") -> Dict[str, Union[str, None]]:\n",
    "    \"\"\"\n",
    "    Логирует метрики, параметры, модель и дополнительную информацию в MLflow.\n",
    "    \"\"\"\n",
    "\n",
    "    experiment = mlflow.get_experiment_by_name(experiment_name)\n",
    "    if experiment is None:\n",
    "        raise ValueError(f\"Experiment '{experiment_name}' not found.\")\n",
    "    experiment_id = experiment.experiment_id\n",
    "\n",
    "    with mlflow.start_run(run_name=run_name, experiment_id=experiment_id) as run:\n",
    "        run_id = run.info.run_id\n",
    "        print(f\"MLflow Run ID: {run_id}\")\n",
    "\n",
    "        mlflow.log_metrics(metrics)\n",
    "\n",
    "        for section, params in train_params.items():\n",
    "            if isinstance(params, dict):\n",
    "                mlflow.log_params({f\"{section}.{k}\": v for k, v in params.items()})\n",
    "            else:\n",
    "                mlflow.log_param(section, params)\n",
    "        if tags:\n",
    "            mlflow.set_tags(tags)\n",
    "        if log_model:\n",
    "            print(\"Starting model logging to MLflow.\")\n",
    "            model_info = mlflow.pytorch.log_model(\n",
    "                fitted_model,\n",
    "                artifact_path=artifact_path,\n",
    "                registered_model_name=registry_model_name,\n",
    "                metadata=metadata,\n",
    "                await_registration_for=60,\n",
    "            )\n",
    "            # Save model info\n",
    "            model_info_data = {\n",
    "                \"model_uri\": model_info.model_uri,\n",
    "                \"run_id\": model_info.run_id,\n",
    "                \"model_name\": registry_model_name,\n",
    "                \"metadata\": metadata,\n",
    "            }\n",
    "\n",
    "            model_info_path = Path(model_info_path)\n",
    "\n",
    "            if model_info_path.exists():\n",
    "                with model_info_path.open(\"r\") as f:\n",
    "                    try:\n",
    "                        all_models = json.load(f)\n",
    "                    except json.JSONDecodeError:\n",
    "                        all_models = []\n",
    "            else:\n",
    "                all_models = []\n",
    "\n",
    "            all_models.append(model_info_data)\n",
    "\n",
    "            with model_info_path.open(\"w\") as f:\n",
    "                json.dump(all_models, f, indent=4)\n",
    "        else:\n",
    "            model_info_data = {\"run_id\": run_id, \"model_info\": \"no_logged_model\"}\n",
    "            print(\"log_model=False — model not logged.\")\n",
    "\n",
    "    return model_info_data"
   ]
  },
  {
   "cell_type": "markdown",
   "id": "6d55b965",
   "metadata": {},
   "source": [
    "### Загрузка и разделения данных"
   ]
  },
  {
   "cell_type": "code",
   "execution_count": 56,
   "id": "966a0740",
   "metadata": {},
   "outputs": [
    {
     "name": "stdout",
     "output_type": "stream",
     "text": [
      "Using device: cpu\n"
     ]
    }
   ],
   "source": [
    "device = torch.device(\"cuda\" if torch.cuda.is_available() else \"cpu\")\n",
    "print(f\"Using device: {device}\")"
   ]
  },
  {
   "cell_type": "code",
   "execution_count": 57,
   "id": "f9dc664b",
   "metadata": {},
   "outputs": [],
   "source": [
    "def load_files(folder_path):\n",
    "    folder = Path(folder_path)\n",
    "    variables = {}\n",
    "\n",
    "    for file_path in folder.glob(\"*.csv\"):\n",
    "        var_name = file_path.stem\n",
    "        variables[var_name] = pd.read_csv(file_path)\n",
    "        print(f\"{var_name} downloaded\")\n",
    "\n",
    "    return variables"
   ]
  },
  {
   "cell_type": "code",
   "execution_count": 58,
   "id": "639d7ce9",
   "metadata": {},
   "outputs": [
    {
     "name": "stdout",
     "output_type": "stream",
     "text": [
      "test downloaded\n",
      "train downloaded\n"
     ]
    }
   ],
   "source": [
    "# local file\n",
    "data = load_files(DATA_DIR.joinpath(\"raw\"))"
   ]
  },
  {
   "cell_type": "code",
   "execution_count": null,
   "id": "473807f5",
   "metadata": {},
   "outputs": [],
   "source": [
    "# kaggle\n",
    "# data = load_files(DATA_DIR)"
   ]
  },
  {
   "cell_type": "markdown",
   "id": "f5ca4f08",
   "metadata": {},
   "source": [
    "Разделим данные на обучающую и валидационную выборки. Для валидации будет использовано 15% всего датасета"
   ]
  },
  {
   "cell_type": "code",
   "execution_count": 59,
   "id": "06ed41d4",
   "metadata": {},
   "outputs": [
    {
     "name": "stdout",
     "output_type": "stream",
     "text": [
      "25500\n",
      "25500\n",
      "4500\n",
      "4500\n"
     ]
    }
   ],
   "source": [
    "X_train, X_val, y_train, y_val = train_test_split(\n",
    "    data[\"train\"][\"id\"], data[\"train\"][\"message\"], test_size=0.15, random_state=SEED\n",
    ")\n",
    "for df in [X_train, y_train, X_val, y_val]:\n",
    "    print(len(df))"
   ]
  },
  {
   "cell_type": "markdown",
   "id": "e89eef13",
   "metadata": {},
   "source": [
    "Получаем полный словарь по всему датасету"
   ]
  },
  {
   "cell_type": "code",
   "execution_count": 60,
   "id": "aa87c371",
   "metadata": {},
   "outputs": [
    {
     "name": "stdout",
     "output_type": "stream",
     "text": [
      "Vocab is ready, size = 46\n"
     ]
    }
   ],
   "source": [
    "full_vocab = get_vocab(data[\"train\"][\"message\"])"
   ]
  },
  {
   "cell_type": "markdown",
   "id": "75571ba8",
   "metadata": {},
   "source": [
    "Подготовим словарь с параметрами для обучения, кодирования и предобработки данных для последующего логирования на создания моделей."
   ]
  },
  {
   "cell_type": "code",
   "execution_count": 61,
   "id": "39811310",
   "metadata": {},
   "outputs": [],
   "source": [
    "train_params = {\n",
    "    \"model\": {\n",
    "        \"type\": \"ModelBase\",\n",
    "        \"input_size\": [80, 251],\n",
    "        \"kernel_chanel\": 128,\n",
    "        \"conv_out_size\": 128,\n",
    "        \"vocab_size\": 46,\n",
    "        \"init_weights\": \"init_weights()\",\n",
    "    },\n",
    "    \"optimizer\": {\n",
    "        \"type\": \"Adam\",\n",
    "        \"lr\": 0.01,\n",
    "    },\n",
    "    \"scheduler\": {\"step_size\": \"-\", \"gamma\": \"-\"},\n",
    "    \"transform\": {\n",
    "        \"type\": \"path_to_melspect_cached()\",\n",
    "    },\n",
    "    \"decoder\": {\n",
    "        \"type\": \"ctc_decoder\",\n",
    "        \"lexicon\": None,\n",
    "        \"tokens_count\": 46,\n",
    "        \"beam_size\": 3,\n",
    "        \"nbest\": 1,\n",
    "        \"blank_token\": \"<blk>\",\n",
    "    },\n",
    "    \"dataloader\": {\"batch_size\": 64, \"num_workers\": 0},\n",
    "    \"training\": {\"epochs\": 50},\n",
    "}"
   ]
  },
  {
   "cell_type": "markdown",
   "id": "1a65cde3",
   "metadata": {},
   "source": [
    "## Baseline"
   ]
  },
  {
   "cell_type": "markdown",
   "id": "0c89c563",
   "metadata": {},
   "source": [
    "### Train"
   ]
  },
  {
   "cell_type": "markdown",
   "id": "0c7a0d0f",
   "metadata": {},
   "source": [
    "Для создания бэйзлайн модели мы используем базовый класс модели, который состоит из одного сверточного блока (ConvBlock) и одного LSTM блока (LstmBlock), <br>\n",
    "а также полносвязного классификатора (FF-классификатора).  <br>\n",
    "В качестве предобработки данных будем использовать мел-спектрограммы с 80 мел-бинами и окном 1024.  <br>\n",
    "Эта модель позволит оценить начальную производительность на данной задаче."
   ]
  },
  {
   "cell_type": "markdown",
   "id": "db188c12",
   "metadata": {},
   "source": [
    "Инициализируем основные компоненты для создания и обучения модели, включая выбор модели, подготовку датасета, настройку функций предобработки, оптимизаторов и метрик"
   ]
  },
  {
   "cell_type": "code",
   "execution_count": null,
   "id": "4d367741",
   "metadata": {},
   "outputs": [],
   "source": [
    "beam_search_decoder = ctc_decoder(\n",
    "    lexicon=None,\n",
    "    tokens=list(full_vocab.values()),\n",
    "    beam_size=3,\n",
    "    nbest=1,\n",
    "    blank_token=\"<blk>\",\n",
    ")"
   ]
  },
  {
   "cell_type": "code",
   "execution_count": 41,
   "id": "1ad3498e",
   "metadata": {},
   "outputs": [
    {
     "name": "stdout",
     "output_type": "stream",
     "text": [
      "{0: '<blk>', 1: '|', 2: ' ', 3: '#', 4: '0', 5: '1', 6: '2', 7: '3', 8: '4', 9: '5', 10: '6', 11: '7', 12: '8', 13: '9', 14: 'А', 15: 'Б', 16: 'В', 17: 'Г', 18: 'Д', 19: 'Е', 20: 'Ж', 21: 'З', 22: 'И', 23: 'Й', 24: 'К', 25: 'Л', 26: 'М', 27: 'Н', 28: 'О', 29: 'П', 30: 'Р', 31: 'С', 32: 'Т', 33: 'У', 34: 'Ф', 35: 'Х', 36: 'Ц', 37: 'Ч', 38: 'Ш', 39: 'Щ', 40: 'Ъ', 41: 'Ы', 42: 'Ь', 43: 'Э', 44: 'Ю', 45: 'Я'}\n",
      "{'<blk>': 0, '|': 1, ' ': 2, '#': 3, '0': 4, '1': 5, '2': 6, '3': 7, '4': 8, '5': 9, '6': 10, '7': 11, '8': 12, '9': 13, 'А': 14, 'Б': 15, 'В': 16, 'Г': 17, 'Д': 18, 'Е': 19, 'Ж': 20, 'З': 21, 'И': 22, 'Й': 23, 'К': 24, 'Л': 25, 'М': 26, 'Н': 27, 'О': 28, 'П': 29, 'Р': 30, 'С': 31, 'Т': 32, 'У': 33, 'Ф': 34, 'Х': 35, 'Ц': 36, 'Ч': 37, 'Ш': 38, 'Щ': 39, 'Ъ': 40, 'Ы': 41, 'Ь': 42, 'Э': 43, 'Ю': 44, 'Я': 45}\n"
     ]
    }
   ],
   "source": [
    "tokenizer = Tokenizer(vocab=full_vocab)\n",
    "\n",
    "print(tokenizer.index_char)\n",
    "print(tokenizer.char_index)\n",
    "\n",
    "transform = partial(\n",
    "    path_to_melspect_cached,\n",
    "    audio_files_dir=AUDIO_FILES_DIR,\n",
    "    cache_dir=Path(\"./mels_cache\"),\n",
    ")\n"
   ]
  },
  {
   "cell_type": "code",
   "execution_count": null,
   "id": "530b57a4",
   "metadata": {},
   "outputs": [],
   "source": [
    "train_dataset = MorseDataset(\n",
    "    X_filenames=X_train,\n",
    "    y_texts=y_train,\n",
    "    transform=transform,\n",
    "    tokenizer=tokenizer,\n",
    ")\n",
    "\n",
    "train_loader = data_loader(\n",
    "    train_dataset, batch_size=64, shuffle=True, drop_last=True, num_workers=0\n",
    ")\n",
    "\n",
    "val_dataset = MorseDataset(\n",
    "    X_filenames=X_val, y_texts=y_val, transform=transform, tokenizer=tokenizer\n",
    ")\n",
    "val_loader = data_loader(\n",
    "    val_dataset, batch_size=64, shuffle=False, drop_last=True, num_workers=0\n",
    ")"
   ]
  },
  {
   "cell_type": "code",
   "execution_count": null,
   "id": "ee3c1efd",
   "metadata": {},
   "outputs": [],
   "source": [
    "%%time \n",
    "base_model, base_metrics = train_model(\n",
    "    model=base_model,\n",
    "    train_loader=train_loader,\n",
    "    optimizer=optimizer,\n",
    "    ctc_loss=loss_ctc,\n",
    "    epochs=50,\n",
    "    metric=edit_distance,\n",
    "    decoder=beam_search_decoder,\n",
    "    tokenizer=tokenizer,\n",
    "    val_loader=val_loader,\n",
    ")"
   ]
  },
  {
   "cell_type": "code",
   "execution_count": 51,
   "id": "abe2f355",
   "metadata": {},
   "outputs": [
    {
     "data": {
      "image/png": "[encoded data removed]",
      "text/plain": [
       "<Figure size 1000x600 with 1 Axes>"
      ]
     },
     "metadata": {},
     "output_type": "display_data"
    }
   ],
   "source": [
    "plot_metrics(\n",
    "    base_metrics,\n",
    "    \"Baseline\",\n",
    ")"
   ]
  },
  {
   "cell_type": "markdown",
   "id": "bd435b36",
   "metadata": {},
   "source": [
    "Save model"
   ]
  },
  {
   "cell_type": "code",
   "execution_count": null,
   "id": "059547d2",
   "metadata": {},
   "outputs": [],
   "source": [
    "base_model_path = MODELS_DIR / \"base_model.pt\"\n",
    "\n",
    "save_model_metrics(base_model, base_metrics, base_model_path, \"base_metrics.json\")"
   ]
  },
  {
   "cell_type": "code",
   "execution_count": null,
   "id": "6d2a6302",
   "metadata": {},
   "outputs": [],
   "source": [
    "# base_model_path = MODELS_DIR / \"base_model.pt\"\n",
    "\n",
    "# base_model = torch.load(base_model_path, weights_only=False)\n",
    "\n",
    "# with open(f\"{MODELS_DIR}/base_metrics.json\", \"r\") as fd:\n",
    "#           base_metrics = json.load(fd)\n",
    "#           pass\n",
    "# base_metrics"
   ]
  },
  {
   "cell_type": "markdown",
   "id": "1258754e",
   "metadata": {},
   "source": [
    "### Test"
   ]
  },
  {
   "cell_type": "code",
   "execution_count": null,
   "id": "5fa2cd13",
   "metadata": {},
   "outputs": [
    {
     "name": "stderr",
     "output_type": "stream",
     "text": [
      "Predicting: 100%|██████████| 157/157 [00:16<00:00,  9.45it/s, Predictions=5000]\n"
     ]
    }
   ],
   "source": [
    "sub = model_predict(\n",
    "    model=base_model,\n",
    "    test_paths=data[\"test\"][\"id\"],\n",
    "    tokenizer=tokenizer,\n",
    "    decoder=beam_search_decoder,\n",
    "    batch_size=32,\n",
    ")"
   ]
  },
  {
   "cell_type": "code",
   "execution_count": 38,
   "id": "c3f22da5",
   "metadata": {},
   "outputs": [],
   "source": [
    "sub = sub.set_index(\"id\")\n",
    "sub.to_csv(os.path.join(DATA_DIR.joinpath(\"submits/base_submit.csv\")))"
   ]
  },
  {
   "cell_type": "markdown",
   "id": "8c730084",
   "metadata": {},
   "source": [
    "**Бэйзлайн модель успешно обучена и показала хорошие результаты: CER на валидации составил около 1, а на части тестовых данных немного выше**"
   ]
  },
  {
   "cell_type": "markdown",
   "id": "03b273ab",
   "metadata": {},
   "source": [
    "### Logging Mlflow"
   ]
  },
  {
   "cell_type": "code",
   "execution_count": 204,
   "id": "8f2d4cf9",
   "metadata": {},
   "outputs": [
    {
     "data": {
      "text/plain": [
       "{'model': {'type': 'ModelBase',\n",
       "  'input_size': [80, 251],\n",
       "  'kernel_chanel': 128,\n",
       "  'conv_out_size': 128,\n",
       "  'vocab_size': 46,\n",
       "  'init_weights': 'init_weights()'},\n",
       " 'optimizer': {'type': 'Adam', 'lr': 0.01},\n",
       " 'scheduler': {'step_size': '-', 'gamma': '-'},\n",
       " 'transform': {'type': 'path_to_melspect_cached()'},\n",
       " 'decoder': {'type': 'ctc_decoder',\n",
       "  'lexicon': None,\n",
       "  'tokens_count': 46,\n",
       "  'beam_size': 3,\n",
       "  'nbest': 1,\n",
       "  'blank_token': '<blk>'},\n",
       " 'dataloader': {'batch_size': 64, 'num_workers': 0},\n",
       " 'training': {'epochs': 50}}"
      ]
     },
     "execution_count": 204,
     "metadata": {},
     "output_type": "execute_result"
    }
   ],
   "source": [
    "base_params = copy.deepcopy(train_params)\n",
    "base_params"
   ]
  },
  {
   "cell_type": "code",
   "execution_count": 200,
   "id": "6bb1383d",
   "metadata": {},
   "outputs": [
    {
     "data": {
      "text/plain": [
       "{'train_loss': 0.4303, 'val_metric': 0.9857}"
      ]
     },
     "execution_count": 200,
     "metadata": {},
     "output_type": "execute_result"
    }
   ],
   "source": [
    "base_final_metrics = {}\n",
    "for key in base_metrics:\n",
    "    if len(base_metrics[key]) > 0:\n",
    "        base_final_metrics[key] = round(base_metrics[key][-1], 4)\n",
    "base_final_metrics\n"
   ]
  },
  {
   "cell_type": "code",
   "execution_count": null,
   "id": "84ed68ee",
   "metadata": {},
   "outputs": [
    {
     "name": "stdout",
     "output_type": "stream",
     "text": [
      "MLflow Run ID: ce92b624d2b642c38b982e1891a1939d\n",
      "Starting model logging to MLflow.\n"
     ]
    },
    {
     "name": "stderr",
     "output_type": "stream",
     "text": [
      "2025/04/20 16:29:46 WARNING mlflow.models.model: Model logged without a signature and input example. Please set `input_example` parameter when logging the model to auto infer the model signature.\n",
      "Successfully registered model 'baseline'.\n",
      "2025/04/20 16:29:46 INFO mlflow.store.model_registry.abstract_store: Waiting up to 60 seconds for model version to finish creation. Model name: baseline, version 1\n"
     ]
    },
    {
     "name": "stdout",
     "output_type": "stream",
     "text": [
      "🏃 View run Baseline at: http://127.0.0.1:8080/#/experiments/1/runs/ce92b624d2b642c38b982e1891a1939d\n",
      "🧪 View experiment at: http://127.0.0.1:8080/#/experiments/1\n"
     ]
    },
    {
     "name": "stderr",
     "output_type": "stream",
     "text": [
      "Created version '1' of model 'baseline'.\n"
     ]
    },
    {
     "data": {
      "text/plain": [
       "{'model_uri': 'runs:/ce92b624d2b642c38b982e1891a1939d/models',\n",
       " 'run_id': 'ce92b624d2b642c38b982e1891a1939d',\n",
       " 'model_name': 'baseline',\n",
       " 'metadata': {'architecture': '1 CNN, 1 RNN, 1 FC'}}"
      ]
     },
     "execution_count": 206,
     "metadata": {},
     "output_type": "execute_result"
    }
   ],
   "source": [
    "log_to_mlflow_torch(\n",
    "    \"Baseline\",\n",
    "    train_params=base_params,\n",
    "    metrics=base_final_metrics,\n",
    "    metadata={\"architecture\": \"1 CNN, 1 RNN, 1 FC\"},\n",
    "    registry_model_name=\"baseline\",\n",
    "    fitted_model=base_model,\n",
    "    tags={\"stage\": \"baseline\", \"preprocess\": \"full melspectr\"},\n",
    ")"
   ]
  },
  {
   "cell_type": "markdown",
   "id": "11d9d643",
   "metadata": {},
   "source": [
    "## Pro Preprocessing"
   ]
  },
  {
   "cell_type": "markdown",
   "id": "9d23c109",
   "metadata": {},
   "source": [
    "**В данном эксперименте сохраняем архитектуру бэйзлайн модели без изменений, но модифицируем предобработку аудио:<br> \n",
    "из исходной мел-спектрограммы оставляем лишь фрагмент, содержащий 10 мел-бинов вокруг максимального по амплитуде сигнала.**"
   ]
  },
  {
   "cell_type": "markdown",
   "id": "06257510",
   "metadata": {},
   "source": [
    "### Train"
   ]
  },
  {
   "cell_type": "markdown",
   "id": "eeb77d06",
   "metadata": {},
   "source": [
    "Изменим функцию предобработки и инициализируем все необходимое"
   ]
  },
  {
   "cell_type": "code",
   "execution_count": null,
   "id": "8406124d",
   "metadata": {},
   "outputs": [],
   "source": [
    "def to_narrow_mel_cached(\n",
    "    file_name: str,\n",
    "    audio_files_dir: Path,\n",
    "    cache_dir: Path,\n",
    "    overwrite: bool = False,\n",
    ") -> np.ndarray:\n",
    "    cache_path = cache_dir / (file_name.replace(\".opus\", \".npy\"))\n",
    "\n",
    "    if cache_path.exists() and not overwrite:\n",
    "        return np.load(cache_path)\n",
    "\n",
    "    waveform, sr = torchaudio.load(audio_files_dir / file_name)\n",
    "\n",
    "    mel = torchaudio.transforms.MelSpectrogram(\n",
    "        sample_rate=sr, n_fft=1024, hop_length=256, n_mels=80\n",
    "    )(waveform)\n",
    "    mel_db = torchaudio.transforms.AmplitudeToDB(top_db=80)(mel)\n",
    "    mel_db = mel_db.squeeze(0).cpu().numpy()\n",
    "\n",
    "    peak = np.argmax(mel_db.mean(axis=1))\n",
    "    start = max(peak - 5, 0)\n",
    "    end = min(peak + 5, mel_db.shape[0])\n",
    "    fresh_mel = mel_db[start:end]\n",
    "\n",
    "    os.makedirs(cache_dir, exist_ok=True)\n",
    "    np.save(cache_path, fresh_mel)\n",
    "    return fresh_mel"
   ]
  },
  {
   "cell_type": "code",
   "execution_count": null,
   "id": "3a27a9df",
   "metadata": {},
   "outputs": [],
   "source": [
    "beam_search_decoder = ctc_decoder(\n",
    "    lexicon=None,\n",
    "    tokens=list(full_vocab.values()),\n",
    "    beam_size=3,\n",
    "    nbest=1,\n",
    "    blank_token=\"<blk>\",\n",
    ")"
   ]
  },
  {
   "cell_type": "code",
   "execution_count": 40,
   "id": "291df3aa",
   "metadata": {},
   "outputs": [
    {
     "name": "stdout",
     "output_type": "stream",
     "text": [
      "{0: '<blk>', 1: '|', 2: ' ', 3: '#', 4: '0', 5: '1', 6: '2', 7: '3', 8: '4', 9: '5', 10: '6', 11: '7', 12: '8', 13: '9', 14: 'А', 15: 'Б', 16: 'В', 17: 'Г', 18: 'Д', 19: 'Е', 20: 'Ж', 21: 'З', 22: 'И', 23: 'Й', 24: 'К', 25: 'Л', 26: 'М', 27: 'Н', 28: 'О', 29: 'П', 30: 'Р', 31: 'С', 32: 'Т', 33: 'У', 34: 'Ф', 35: 'Х', 36: 'Ц', 37: 'Ч', 38: 'Ш', 39: 'Щ', 40: 'Ъ', 41: 'Ы', 42: 'Ь', 43: 'Э', 44: 'Ю', 45: 'Я'}\n",
      "{'<blk>': 0, '|': 1, ' ': 2, '#': 3, '0': 4, '1': 5, '2': 6, '3': 7, '4': 8, '5': 9, '6': 10, '7': 11, '8': 12, '9': 13, 'А': 14, 'Б': 15, 'В': 16, 'Г': 17, 'Д': 18, 'Е': 19, 'Ж': 20, 'З': 21, 'И': 22, 'Й': 23, 'К': 24, 'Л': 25, 'М': 26, 'Н': 27, 'О': 28, 'П': 29, 'Р': 30, 'С': 31, 'Т': 32, 'У': 33, 'Ф': 34, 'Х': 35, 'Ц': 36, 'Ч': 37, 'Ш': 38, 'Щ': 39, 'Ъ': 40, 'Ы': 41, 'Ь': 42, 'Э': 43, 'Ю': 44, 'Я': 45}\n"
     ]
    }
   ],
   "source": [
    "tokenizer = Tokenizer(vocab=full_vocab)\n",
    "\n",
    "print(tokenizer.index_char)\n",
    "print(tokenizer.char_index)\n",
    "\n",
    "transform = partial(\n",
    "    to_narrow_mel_cached,\n",
    "    audio_files_dir=AUDIO_FILES_DIR,\n",
    "    cache_dir=Path(\"./s_mels_cache\"),\n",
    ")\n"
   ]
  },
  {
   "cell_type": "code",
   "execution_count": null,
   "id": "66c30462",
   "metadata": {},
   "outputs": [],
   "source": [
    "train_dataset = MorseDataset(\n",
    "    X_filenames=X_train,\n",
    "    y_texts=y_train,\n",
    "    transform=transform,\n",
    "    tokenizer=tokenizer,\n",
    ")\n",
    "\n",
    "train_loader = data_loader(\n",
    "    train_dataset, batch_size=64, shuffle=True, drop_last=True, num_workers=0\n",
    ")\n",
    "\n",
    "val_dataset = MorseDataset(\n",
    "    X_filenames=X_val, y_texts=y_val, transform=transform, tokenizer=tokenizer\n",
    ")\n",
    "val_loader = data_loader(\n",
    "    val_dataset, batch_size=64, shuffle=False, drop_last=True, num_workers=0\n",
    ")"
   ]
  },
  {
   "cell_type": "code",
   "execution_count": null,
   "id": "0b4ce718",
   "metadata": {},
   "outputs": [
    {
     "data": {
      "text/plain": [
       "ModelBase(\n",
       "  (conv_part): Sequential(\n",
       "    (0): ConvBlock(\n",
       "      (conv): Conv1d(10, 128, kernel_size=(5,), stride=(2,), padding=(2,))\n",
       "      (norm): LayerNorm((128,), eps=1e-05, elementwise_affine=True)\n",
       "      (relu): ReLU()\n",
       "    )\n",
       "  )\n",
       "  (rnn_part): Sequential(\n",
       "    (0): LstmBlock(\n",
       "      (lstm): LSTM(128, 64, num_layers=2, batch_first=True, bidirectional=True)\n",
       "      (norm): LayerNorm((128,), eps=1e-05, elementwise_affine=True)\n",
       "      (drop): Dropout(p=0.4, inplace=False)\n",
       "    )\n",
       "  )\n",
       "  (clf): Linear(in_features=128, out_features=46, bias=True)\n",
       ")"
      ]
     },
     "execution_count": 44,
     "metadata": {},
     "output_type": "execute_result"
    }
   ],
   "source": [
    "preproc_model = ModelBase(\n",
    "    input_size=[10, 251],\n",
    "    kernel_chanel=128,\n",
    "    conv_out_size=128,\n",
    "    vocab_size=len(full_vocab),\n",
    ")\n",
    "preproc_model.apply(init_weights)\n",
    "\n",
    "optimizer = torch.optim.Adam(preproc_model.parameters(), lr=0.01)\n",
    "\n",
    "preproc_model"
   ]
  },
  {
   "cell_type": "code",
   "execution_count": 45,
   "id": "5da48b70",
   "metadata": {},
   "outputs": [
    {
     "data": {
      "text/plain": [
       "621"
      ]
     },
     "execution_count": 45,
     "metadata": {},
     "output_type": "execute_result"
    }
   ],
   "source": [
    "import gc\n",
    "\n",
    "gc.collect()"
   ]
  },
  {
   "cell_type": "code",
   "execution_count": null,
   "id": "270a12c8",
   "metadata": {},
   "outputs": [],
   "source": [
    "%%time \n",
    "preproc_model, preproc_metrics = train_model(\n",
    "    model=preproc_model,\n",
    "    train_loader=train_loader,\n",
    "    optimizer=optimizer,\n",
    "    ctc_loss=loss_ctc,\n",
    "    epochs=75,\n",
    "    metric=edit_distance,\n",
    "    decoder=beam_search_decoder,\n",
    "    tokenizer=tokenizer,\n",
    "    val_loader=val_loader,\n",
    ")"
   ]
  },
  {
   "cell_type": "code",
   "execution_count": 60,
   "id": "59e60727",
   "metadata": {},
   "outputs": [
    {
     "data": {
      "image/png": "[encoded data removed]",
      "text/plain": [
       "<Figure size 1000x600 with 1 Axes>"
      ]
     },
     "metadata": {},
     "output_type": "display_data"
    }
   ],
   "source": [
    "plot_metrics(\n",
    "    preproc_metrics,\n",
    "    title=\"PrePro\",\n",
    ")"
   ]
  },
  {
   "cell_type": "markdown",
   "id": "6e259f63",
   "metadata": {},
   "source": [
    "Кажется, это был не самый верный подход к предобработки. Такое мы логировать не будем, чтобы потом не путаться в безрезультатных экспериментах."
   ]
  },
  {
   "cell_type": "markdown",
   "id": "4fbf3f83",
   "metadata": {},
   "source": [
    "## More layers model base mel"
   ]
  },
  {
   "cell_type": "markdown",
   "id": "b8409aba",
   "metadata": {},
   "source": [
    "**В данном эксперименте мы сохраняем базовую предобработку данных без изменений, но модифицируем архитектуру бэйзлайн-модели: <br>\n",
    "увеличиваем количество сверточных блоков до трёх и добавляем второй слой LSTM**"
   ]
  },
  {
   "cell_type": "markdown",
   "id": "51aa5e7b",
   "metadata": {},
   "source": [
    "### Train"
   ]
  },
  {
   "cell_type": "code",
   "execution_count": null,
   "id": "730d0b95",
   "metadata": {},
   "outputs": [],
   "source": [
    "class ModelBaseCNN(nn.Module):\n",
    "    def __init__(\n",
    "        self,\n",
    "        input_size: Tuple[int, int],\n",
    "        kernel_chanel: int,\n",
    "        conv_out_size: int,\n",
    "        vocab_size: int,\n",
    "    ):\n",
    "        super().__init__()\n",
    "\n",
    "        self.conv_part = nn.Sequential(\n",
    "            ConvBlock(\n",
    "                in_channels=input_size[0],\n",
    "                out_channels=kernel_chanel,\n",
    "                kernel_size=5,\n",
    "                padding=2,\n",
    "                stride=2,\n",
    "            ),\n",
    "            ConvBlock(\n",
    "                in_channels=kernel_chanel,\n",
    "                out_channels=kernel_chanel,\n",
    "                kernel_size=3,\n",
    "                padding=1,\n",
    "            ),\n",
    "            ConvBlock(\n",
    "                in_channels=kernel_chanel,\n",
    "                out_channels=conv_out_size,\n",
    "                kernel_size=3,\n",
    "                padding=0,\n",
    "            ),\n",
    "        )\n",
    "\n",
    "        self.rnn_part = nn.Sequential(\n",
    "            LstmBlock(\n",
    "                input_size=conv_out_size, hidden_size=128, dropout=0.4\n",
    "            ),  # 128, conv_out_size,\n",
    "            LstmBlock(input_size=128 * 2, hidden_size=64, dropout=0.4),\n",
    "        )\n",
    "\n",
    "        self.clf = nn.Linear(\n",
    "            in_features=64 * 2,\n",
    "            out_features=vocab_size,\n",
    "        )\n",
    "\n",
    "    def forward(self, x):\n",
    "        x = self.conv_part(x)\n",
    "        x = x.transpose(1, 2)\n",
    "        x = self.rnn_part(x)\n",
    "        return self.clf(x)"
   ]
  },
  {
   "cell_type": "code",
   "execution_count": null,
   "id": "ba7dcbaf",
   "metadata": {},
   "outputs": [
    {
     "name": "stdout",
     "output_type": "stream",
     "text": [
      "<blk>\n",
      "{0: '<blk>', 1: '|', 2: ' ', 3: '#', 4: '0', 5: '1', 6: '2', 7: '3', 8: '4', 9: '5', 10: '6', 11: '7', 12: '8', 13: '9', 14: 'А', 15: 'Б', 16: 'В', 17: 'Г', 18: 'Д', 19: 'Е', 20: 'Ж', 21: 'З', 22: 'И', 23: 'Й', 24: 'К', 25: 'Л', 26: 'М', 27: 'Н', 28: 'О', 29: 'П', 30: 'Р', 31: 'С', 32: 'Т', 33: 'У', 34: 'Ф', 35: 'Х', 36: 'Ц', 37: 'Ч', 38: 'Ш', 39: 'Щ', 40: 'Ъ', 41: 'Ы', 42: 'Ь', 43: 'Э', 44: 'Ю', 45: 'Я'}\n",
      "{'<blk>': 0, '|': 1, ' ': 2, '#': 3, '0': 4, '1': 5, '2': 6, '3': 7, '4': 8, '5': 9, '6': 10, '7': 11, '8': 12, '9': 13, 'А': 14, 'Б': 15, 'В': 16, 'Г': 17, 'Д': 18, 'Е': 19, 'Ж': 20, 'З': 21, 'И': 22, 'Й': 23, 'К': 24, 'Л': 25, 'М': 26, 'Н': 27, 'О': 28, 'П': 29, 'Р': 30, 'С': 31, 'Т': 32, 'У': 33, 'Ф': 34, 'Х': 35, 'Ц': 36, 'Ч': 37, 'Ш': 38, 'Щ': 39, 'Ъ': 40, 'Ы': 41, 'Ь': 42, 'Э': 43, 'Ю': 44, 'Я': 45}\n"
     ]
    }
   ],
   "source": [
    "tokens = list(full_vocab.values())\n",
    "print(tokens[0])\n",
    "\n",
    "beam_search_decoder = ctc_decoder(\n",
    "    lexicon=None,\n",
    "    tokens=list(full_vocab.values()),\n",
    "    beam_size=3,\n",
    "    nbest=1,\n",
    "    blank_token=\"<blk>\",\n",
    ")\n",
    "\n",
    "tokenizer = Tokenizer(vocab=full_vocab)\n",
    "\n",
    "print(tokenizer.index_char)\n",
    "print(tokenizer.char_index)\n",
    "\n",
    "transform = partial(\n",
    "    path_to_melspect_cached,\n",
    "    audio_files_dir=AUDIO_FILES_DIR,\n",
    "    cache_dir=Path(\"./mels_cache\"),\n",
    ")"
   ]
  },
  {
   "cell_type": "code",
   "execution_count": null,
   "id": "73dbae45",
   "metadata": {},
   "outputs": [],
   "source": [
    "train_dataset = MorseDataset(\n",
    "    X_filenames=X_train,\n",
    "    y_texts=y_train,\n",
    "    transform=transform,\n",
    "    tokenizer=tokenizer,\n",
    ")\n",
    "\n",
    "train_loader = data_loader(\n",
    "    train_dataset, batch_size=128, shuffle=True, drop_last=True, num_workers=4\n",
    ")\n",
    "\n",
    "val_dataset = MorseDataset(\n",
    "    X_filenames=X_val, y_texts=y_val, transform=transform, tokenizer=tokenizer\n",
    ")\n",
    "val_loader = data_loader(\n",
    "    val_dataset, batch_size=128, shuffle=False, drop_last=True, num_workers=4\n",
    ")"
   ]
  },
  {
   "cell_type": "code",
   "execution_count": null,
   "id": "5fb09005",
   "metadata": {},
   "outputs": [
    {
     "data": {
      "text/plain": [
       "ModelBase(\n",
       "  (conv_part): Sequential(\n",
       "    (0): ConvBlock(\n",
       "      (conv): Conv1d(80, 128, kernel_size=(5,), stride=(2,), padding=(2,))\n",
       "      (norm): LayerNorm((128,), eps=1e-05, elementwise_affine=True)\n",
       "      (relu): ReLU()\n",
       "    )\n",
       "    (1): ConvBlock(\n",
       "      (conv): Conv1d(128, 128, kernel_size=(3,), stride=(1,), padding=(1,))\n",
       "      (norm): LayerNorm((128,), eps=1e-05, elementwise_affine=True)\n",
       "      (relu): ReLU()\n",
       "    )\n",
       "    (2): ConvBlock(\n",
       "      (conv): Conv1d(128, 128, kernel_size=(3,), stride=(1,))\n",
       "      (norm): LayerNorm((128,), eps=1e-05, elementwise_affine=True)\n",
       "      (relu): ReLU()\n",
       "    )\n",
       "  )\n",
       "  (rnn_part): Sequential(\n",
       "    (0): LstmBlock(\n",
       "      (lstm): LSTM(128, 128, num_layers=2, batch_first=True, bidirectional=True)\n",
       "      (norm): LayerNorm((256,), eps=1e-05, elementwise_affine=True)\n",
       "      (drop): Dropout(p=0.4, inplace=False)\n",
       "    )\n",
       "    (1): LstmBlock(\n",
       "      (lstm): LSTM(256, 64, num_layers=2, batch_first=True, bidirectional=True)\n",
       "      (norm): LayerNorm((128,), eps=1e-05, elementwise_affine=True)\n",
       "      (drop): Dropout(p=0.4, inplace=False)\n",
       "    )\n",
       "  )\n",
       "  (clf): Linear(in_features=128, out_features=46, bias=True)\n",
       ")"
      ]
     },
     "execution_count": 42,
     "metadata": {},
     "output_type": "execute_result"
    }
   ],
   "source": [
    "more_cnn_model = ModelBaseCNN(\n",
    "    input_size=[80, 251],\n",
    "    kernel_chanel=128,\n",
    "    conv_out_size=128,\n",
    "    vocab_size=len(full_vocab),\n",
    ")\n",
    "more_cnn_model.apply(init_weights)\n",
    "\n",
    "optimizer = torch.optim.Adam(more_cnn_model.parameters(), lr=0.01)\n",
    "\n",
    "more_cnn_model"
   ]
  },
  {
   "cell_type": "code",
   "execution_count": 43,
   "id": "7aed9c37",
   "metadata": {},
   "outputs": [
    {
     "data": {
      "text/plain": [
       "5387"
      ]
     },
     "execution_count": 43,
     "metadata": {},
     "output_type": "execute_result"
    }
   ],
   "source": [
    "import gc\n",
    "\n",
    "gc.collect()"
   ]
  },
  {
   "cell_type": "code",
   "execution_count": null,
   "id": "f89dc007",
   "metadata": {},
   "outputs": [],
   "source": [
    "more_cnn_model, more_cnn_metrics = train_model(\n",
    "    model=more_cnn_model,\n",
    "    train_loader=train_loader,\n",
    "    optimizer=optimizer,\n",
    "    ctc_loss=loss_ctc,\n",
    "    epochs=75,\n",
    "    metric=edit_distance,\n",
    "    decoder=beam_search_decoder,\n",
    "    tokenizer=tokenizer,\n",
    "    val_loader=val_loader,\n",
    ")"
   ]
  },
  {
   "cell_type": "code",
   "execution_count": null,
   "id": "1ff61407",
   "metadata": {},
   "outputs": [
    {
     "data": {
      "image/png": "[encoded data removed]",
      "text/plain": [
       "<Figure size 1000x600 with 1 Axes>"
      ]
     },
     "metadata": {},
     "output_type": "display_data"
    }
   ],
   "source": [
    "plot_metrics(\n",
    "    more_cnn_metrics,\n",
    "    title=\"More CNN model\",\n",
    ")"
   ]
  },
  {
   "cell_type": "markdown",
   "id": "6c1d3cbc",
   "metadata": {},
   "source": [
    "Сохраним только метрики."
   ]
  },
  {
   "cell_type": "code",
   "execution_count": null,
   "id": "6d78aa02",
   "metadata": {},
   "outputs": [],
   "source": [
    "clean_metrics = {\n",
    "    key: [float(v) for v in values] for key, values in more_cnn_metrics.items()\n",
    "}\n",
    "\n",
    "with open(f\"{MODELS_DIR}/more_cnn_metrics.json\", \"w\") as fd:\n",
    "    json.dump(clean_metrics, fd)\n",
    "    pass\n"
   ]
  },
  {
   "cell_type": "code",
   "execution_count": null,
   "id": "73c954a4",
   "metadata": {},
   "outputs": [],
   "source": [
    "# with open(f\"{MODELS_DIR}/more_cnn_metrics.json\", \"r\") as fd:\n",
    "#     more_cnn_metrics = json.load(fd)"
   ]
  },
  {
   "cell_type": "markdown",
   "id": "b20d75f1",
   "metadata": {},
   "source": [
    "**Очередная провал. Зафиксируем метрики и основные параметры этого эксперимента, чтобы быть умнее и двигаться дальше**"
   ]
  },
  {
   "cell_type": "markdown",
   "id": "977d6caf",
   "metadata": {},
   "source": [
    "### Logging Mlflow"
   ]
  },
  {
   "cell_type": "code",
   "execution_count": null,
   "id": "4f43af47",
   "metadata": {},
   "outputs": [
    {
     "data": {
      "text/plain": [
       "{'model': {'type': 'ModelBaseCNN',\n",
       "  'input_size': [80, 251],\n",
       "  'kernel_chanel': 128,\n",
       "  'conv_out_size': 128,\n",
       "  'vocab_size': 46,\n",
       "  'init_weights': 'init_weights()'},\n",
       " 'optimizer': {'type': 'Adam', 'lr': 0.01},\n",
       " 'scheduler': {'step_size': '-', 'gamma': '-'},\n",
       " 'transform': {'type': 'path_to_melspect_cached()'},\n",
       " 'decoder': {'type': 'ctc_decoder',\n",
       "  'lexicon': None,\n",
       "  'tokens_count': 46,\n",
       "  'beam_size': 3,\n",
       "  'nbest': 1,\n",
       "  'blank_token': '<blk>'},\n",
       " 'dataloader': {'batch_size': 128, 'num_workers': 4},\n",
       " 'training': {'epochs': 75}}"
      ]
     },
     "execution_count": 207,
     "metadata": {},
     "output_type": "execute_result"
    }
   ],
   "source": [
    "more_cnn_params = copy.deepcopy(train_params)\n",
    "more_cnn_params[\"model\"][\"type\"] = \"ModelBaseCNN\"\n",
    "more_cnn_params[\"dataloader\"][\"batch_size\"] = 128\n",
    "more_cnn_params[\"dataloader\"][\"num_workers\"] = 4\n",
    "more_cnn_params[\"training\"][\"epochs\"] = 75\n",
    "more_cnn_params"
   ]
  },
  {
   "cell_type": "code",
   "execution_count": 210,
   "id": "a68c0c82",
   "metadata": {},
   "outputs": [
    {
     "data": {
      "text/plain": [
       "{'train_loss': 4.0195, 'val_metric': 8.8739}"
      ]
     },
     "execution_count": 210,
     "metadata": {},
     "output_type": "execute_result"
    }
   ],
   "source": [
    "more_cnn_final_metrics = {}\n",
    "for key in more_cnn_metrics:\n",
    "    if len(more_cnn_metrics[key]) > 0:\n",
    "        more_cnn_final_metrics[key] = round(more_cnn_metrics[key][-1], 4)\n",
    "more_cnn_final_metrics\n"
   ]
  },
  {
   "cell_type": "code",
   "execution_count": null,
   "id": "7ca60f7c",
   "metadata": {},
   "outputs": [
    {
     "name": "stdout",
     "output_type": "stream",
     "text": [
      "MLflow Run ID: 95f8e19d4a22440483d534a70de26ec2\n",
      "log_model=False — model not logged.\n",
      "🏃 View run More CNN Model at: http://127.0.0.1:8080/#/experiments/1/runs/95f8e19d4a22440483d534a70de26ec2\n",
      "🧪 View experiment at: http://127.0.0.1:8080/#/experiments/1\n"
     ]
    },
    {
     "data": {
      "text/plain": [
       "{'run_id': '95f8e19d4a22440483d534a70de26ec2', 'model_info': 'no_logged_model'}"
      ]
     },
     "execution_count": 213,
     "metadata": {},
     "output_type": "execute_result"
    }
   ],
   "source": [
    "log_to_mlflow_torch(\n",
    "    \"More CNN Model\",\n",
    "    train_params=more_cnn_params,\n",
    "    metrics=more_cnn_final_metrics,\n",
    "    tags={\"stage\": \"More CNN\", \"preprocess\": \"full melspectr\"},\n",
    "    log_model=False,\n",
    ")"
   ]
  },
  {
   "cell_type": "markdown",
   "id": "91dc1190",
   "metadata": {},
   "source": [
    "## Wiener prepro"
   ]
  },
  {
   "cell_type": "markdown",
   "id": "9841a9a7",
   "metadata": {},
   "source": [
    "**В данном эксперименте сохраняем архитектуру модели бэйзлайна без изменений, однако модифицируем предобработку аудио:<br> \n",
    " исходную мел-спектрограмму пропускаем через фильтр Винера. Остальные параметры остаются без изменений.**"
   ]
  },
  {
   "cell_type": "markdown",
   "id": "73e8c24b",
   "metadata": {},
   "source": [
    "### Train"
   ]
  },
  {
   "cell_type": "code",
   "execution_count": null,
   "id": "3df1dec5",
   "metadata": {},
   "outputs": [],
   "source": [
    "def to_wiener_mel_cached(\n",
    "    file_name: str,\n",
    "    audio_files_dir: Path,\n",
    "    cache_dir: Path,\n",
    "    overwrite: bool = False,\n",
    ") -> np.ndarray:\n",
    "    cache_path = cache_dir / (file_name.replace(\".opus\", \".npy\"))\n",
    "\n",
    "    if cache_path.exists() and not overwrite:\n",
    "        return np.load(cache_path)\n",
    "\n",
    "    waveform, sr = torchaudio.load(audio_files_dir / file_name)\n",
    "\n",
    "    waveform_np = waveform.squeeze(0).numpy()\n",
    "\n",
    "    # Применяем Wiener фильтр\n",
    "    wave_wiener_np = wiener(waveform_np, mysize=15)\n",
    "\n",
    "    # Обратно в тензор\n",
    "    wave_wiener = torch.tensor(wave_wiener_np, dtype=torch.float32).unsqueeze(0)\n",
    "\n",
    "    mel = torchaudio.transforms.MelSpectrogram(\n",
    "        sample_rate=sr, n_fft=1024, hop_length=256, n_mels=80\n",
    "    )(wave_wiener)\n",
    "\n",
    "    mel_db = torchaudio.transforms.AmplitudeToDB(top_db=80)(mel)\n",
    "    mel_db = mel_db.squeeze(0).cpu().numpy()\n",
    "\n",
    "    os.makedirs(cache_dir, exist_ok=True)\n",
    "    np.save(cache_path, mel_db)\n",
    "    return mel_db"
   ]
  },
  {
   "cell_type": "code",
   "execution_count": null,
   "id": "48028b2f",
   "metadata": {},
   "outputs": [],
   "source": [
    "beam_search_decoder = ctc_decoder(\n",
    "    lexicon=None,\n",
    "    tokens=list(full_vocab.values()),\n",
    "    beam_size=3,\n",
    "    nbest=1,\n",
    "    blank_token=\"<blk>\",\n",
    ")"
   ]
  },
  {
   "cell_type": "code",
   "execution_count": 49,
   "id": "225eb4dc",
   "metadata": {},
   "outputs": [
    {
     "name": "stdout",
     "output_type": "stream",
     "text": [
      "{0: '<blk>', 1: '|', 2: ' ', 3: '#', 4: '0', 5: '1', 6: '2', 7: '3', 8: '4', 9: '5', 10: '6', 11: '7', 12: '8', 13: '9', 14: 'А', 15: 'Б', 16: 'В', 17: 'Г', 18: 'Д', 19: 'Е', 20: 'Ж', 21: 'З', 22: 'И', 23: 'Й', 24: 'К', 25: 'Л', 26: 'М', 27: 'Н', 28: 'О', 29: 'П', 30: 'Р', 31: 'С', 32: 'Т', 33: 'У', 34: 'Ф', 35: 'Х', 36: 'Ц', 37: 'Ч', 38: 'Ш', 39: 'Щ', 40: 'Ъ', 41: 'Ы', 42: 'Ь', 43: 'Э', 44: 'Ю', 45: 'Я'}\n",
      "{'<blk>': 0, '|': 1, ' ': 2, '#': 3, '0': 4, '1': 5, '2': 6, '3': 7, '4': 8, '5': 9, '6': 10, '7': 11, '8': 12, '9': 13, 'А': 14, 'Б': 15, 'В': 16, 'Г': 17, 'Д': 18, 'Е': 19, 'Ж': 20, 'З': 21, 'И': 22, 'Й': 23, 'К': 24, 'Л': 25, 'М': 26, 'Н': 27, 'О': 28, 'П': 29, 'Р': 30, 'С': 31, 'Т': 32, 'У': 33, 'Ф': 34, 'Х': 35, 'Ц': 36, 'Ч': 37, 'Ш': 38, 'Щ': 39, 'Ъ': 40, 'Ы': 41, 'Ь': 42, 'Э': 43, 'Ю': 44, 'Я': 45}\n"
     ]
    }
   ],
   "source": [
    "tokenizer = Tokenizer(vocab=full_vocab)\n",
    "\n",
    "print(tokenizer.index_char)\n",
    "print(tokenizer.char_index)\n",
    "\n",
    "transform = partial(\n",
    "    to_wiener_mel_cached,\n",
    "    audio_files_dir=AUDIO_FILES_DIR,\n",
    "    cache_dir=Path(\"./wiener_mels_cache\"),\n",
    ")\n"
   ]
  },
  {
   "cell_type": "code",
   "execution_count": null,
   "id": "33af34ba",
   "metadata": {},
   "outputs": [],
   "source": [
    "train_dataset = MorseDataset(\n",
    "    X_filenames=X_train,\n",
    "    y_texts=y_train,\n",
    "    transform=transform,\n",
    "    tokenizer=tokenizer,\n",
    ")\n",
    "\n",
    "train_loader = data_loader(\n",
    "    train_dataset, batch_size=32, shuffle=True, drop_last=True, num_workers=0\n",
    ")\n",
    "\n",
    "val_dataset = MorseDataset(\n",
    "    X_filenames=X_val, y_texts=y_val, transform=transform, tokenizer=tokenizer\n",
    ")\n",
    "val_loader = data_loader(\n",
    "    val_dataset, batch_size=32, shuffle=False, drop_last=True, num_workers=0\n",
    ")"
   ]
  },
  {
   "cell_type": "code",
   "execution_count": 54,
   "id": "e6c1c706",
   "metadata": {},
   "outputs": [
    {
     "data": {
      "text/plain": [
       "1150"
      ]
     },
     "execution_count": 54,
     "metadata": {},
     "output_type": "execute_result"
    }
   ],
   "source": [
    "import gc\n",
    "\n",
    "gc.collect()"
   ]
  },
  {
   "cell_type": "code",
   "execution_count": null,
   "id": "9025be88",
   "metadata": {},
   "outputs": [],
   "source": [
    "%%time \n",
    "wiener_model, wiener_metrics = train_model(\n",
    "    model=wiener_model,\n",
    "    train_loader=train_loader,\n",
    "    optimizer=optimizer,\n",
    "    ctc_loss=loss_ctc,\n",
    "    epochs=50,\n",
    "    metric=edit_distance,\n",
    "    decoder=beam_search_decoder,\n",
    "    tokenizer=tokenizer,\n",
    "    val_loader=val_loader,\n",
    ")"
   ]
  },
  {
   "cell_type": "code",
   "execution_count": 58,
   "id": "14e9664e",
   "metadata": {},
   "outputs": [
    {
     "data": {
      "image/png": "[encoded data removed]",
      "text/plain": [
       "<Figure size 1000x600 with 1 Axes>"
      ]
     },
     "metadata": {},
     "output_type": "display_data"
    }
   ],
   "source": [
    "plot_metrics(\n",
    "    wiener_metrics,\n",
    "    title=\"Prepros wiener\",\n",
    ")"
   ]
  },
  {
   "cell_type": "markdown",
   "id": "6bbc62cc",
   "metadata": {},
   "source": [
    "**Кажется, предобработка пока делает только хуже, бэйзлайн все еще недосягаемо хорош**\n",
    "\n",
    "Оставим это без логирования, продолжим искать более удачный подход к предобработке."
   ]
  },
  {
   "cell_type": "markdown",
   "id": "255dcead",
   "metadata": {},
   "source": [
    "## WideMel - narrow window"
   ]
  },
  {
   "cell_type": "markdown",
   "id": "0d5cf5b8",
   "metadata": {},
   "source": [
    "**В данном эксперименте сохраняем архитектуру модели бэйзлайна без изменений, однако модифицируем предобработку аудио:<br>\n",
    "исходную мел-спектрограмму формируем с параметрами окна 512 и шага 128 — это должно позволить получить более детальное представление о сигнале и «увидеть» его структуру четче**"
   ]
  },
  {
   "cell_type": "markdown",
   "id": "81744e68",
   "metadata": {},
   "source": [
    "### Train"
   ]
  },
  {
   "cell_type": "code",
   "execution_count": null,
   "id": "f2964ae1",
   "metadata": {},
   "outputs": [],
   "source": [
    "def path_to_widemel_cached(\n",
    "    file_name: str,\n",
    "    audio_files_dir: Path,\n",
    "    cache_dir: Path,\n",
    "    overwrite: bool = False,\n",
    ") -> np.ndarray:\n",
    "    cache_path = cache_dir / (file_name.replace(\".opus\", \".npy\"))\n",
    "\n",
    "    if cache_path.exists() and not overwrite:\n",
    "        return np.load(cache_path)\n",
    "\n",
    "    waveform, sr = torchaudio.load(audio_files_dir / file_name)\n",
    "\n",
    "    mel = torchaudio.transforms.MelSpectrogram(\n",
    "        sample_rate=sr, n_fft=512, hop_length=128, n_mels=80\n",
    "    )(waveform)\n",
    "    mel_db = torchaudio.transforms.AmplitudeToDB(top_db=80)(mel)\n",
    "    mel_db = mel_db.squeeze(0).cpu().numpy()\n",
    "\n",
    "    os.makedirs(cache_dir, exist_ok=True)\n",
    "    np.save(cache_path, mel_db)\n",
    "    return mel_db"
   ]
  },
  {
   "cell_type": "code",
   "execution_count": null,
   "id": "49c2fe08",
   "metadata": {},
   "outputs": [],
   "source": [
    "beam_search_decoder = ctc_decoder(\n",
    "    lexicon=None,\n",
    "    tokens=list(full_vocab.values()),\n",
    "    beam_size=3,\n",
    "    nbest=1,\n",
    "    blank_token=\"<blk>\",\n",
    ")"
   ]
  },
  {
   "cell_type": "code",
   "execution_count": 62,
   "id": "421eed32",
   "metadata": {},
   "outputs": [
    {
     "name": "stdout",
     "output_type": "stream",
     "text": [
      "{0: '<blk>', 1: '|', 2: ' ', 3: '#', 4: '0', 5: '1', 6: '2', 7: '3', 8: '4', 9: '5', 10: '6', 11: '7', 12: '8', 13: '9', 14: 'А', 15: 'Б', 16: 'В', 17: 'Г', 18: 'Д', 19: 'Е', 20: 'Ж', 21: 'З', 22: 'И', 23: 'Й', 24: 'К', 25: 'Л', 26: 'М', 27: 'Н', 28: 'О', 29: 'П', 30: 'Р', 31: 'С', 32: 'Т', 33: 'У', 34: 'Ф', 35: 'Х', 36: 'Ц', 37: 'Ч', 38: 'Ш', 39: 'Щ', 40: 'Ъ', 41: 'Ы', 42: 'Ь', 43: 'Э', 44: 'Ю', 45: 'Я'}\n",
      "{'<blk>': 0, '|': 1, ' ': 2, '#': 3, '0': 4, '1': 5, '2': 6, '3': 7, '4': 8, '5': 9, '6': 10, '7': 11, '8': 12, '9': 13, 'А': 14, 'Б': 15, 'В': 16, 'Г': 17, 'Д': 18, 'Е': 19, 'Ж': 20, 'З': 21, 'И': 22, 'Й': 23, 'К': 24, 'Л': 25, 'М': 26, 'Н': 27, 'О': 28, 'П': 29, 'Р': 30, 'С': 31, 'Т': 32, 'У': 33, 'Ф': 34, 'Х': 35, 'Ц': 36, 'Ч': 37, 'Ш': 38, 'Щ': 39, 'Ъ': 40, 'Ы': 41, 'Ь': 42, 'Э': 43, 'Ю': 44, 'Я': 45}\n"
     ]
    }
   ],
   "source": [
    "tokenizer = Tokenizer(vocab=full_vocab)\n",
    "\n",
    "print(tokenizer.index_char)\n",
    "print(tokenizer.char_index)\n",
    "\n",
    "transform = partial(\n",
    "    path_to_widemel_cached,\n",
    "    audio_files_dir=AUDIO_FILES_DIR,\n",
    "    cache_dir=Path(\"./widemels_cache\"),\n",
    ")\n"
   ]
  },
  {
   "cell_type": "code",
   "execution_count": null,
   "id": "ad3a105a",
   "metadata": {},
   "outputs": [],
   "source": [
    "train_dataset = MorseDataset(\n",
    "    X_filenames=X_train,\n",
    "    y_texts=y_train,\n",
    "    transform=transform,\n",
    "    tokenizer=tokenizer,\n",
    ")\n",
    "\n",
    "train_loader = data_loader(\n",
    "    train_dataset, batch_size=64, shuffle=True, drop_last=True, num_workers=0\n",
    ")\n",
    "\n",
    "val_dataset = MorseDataset(\n",
    "    X_filenames=X_val, y_texts=y_val, transform=transform, tokenizer=tokenizer\n",
    ")\n",
    "val_loader = data_loader(\n",
    "    val_dataset, batch_size=64, shuffle=False, drop_last=True, num_workers=0\n",
    ")"
   ]
  },
  {
   "cell_type": "code",
   "execution_count": 67,
   "id": "c266e593",
   "metadata": {},
   "outputs": [
    {
     "data": {
      "text/plain": [
       "ModelBase(\n",
       "  (conv_part): Sequential(\n",
       "    (0): ConvBlock(\n",
       "      (conv): Conv1d(80, 128, kernel_size=(5,), stride=(2,), padding=(2,))\n",
       "      (norm): LayerNorm((128,), eps=1e-05, elementwise_affine=True)\n",
       "      (relu): ReLU()\n",
       "    )\n",
       "  )\n",
       "  (rnn_part): Sequential(\n",
       "    (0): LstmBlock(\n",
       "      (lstm): LSTM(128, 64, num_layers=2, batch_first=True, bidirectional=True)\n",
       "      (norm): LayerNorm((128,), eps=1e-05, elementwise_affine=True)\n",
       "      (drop): Dropout(p=0.4, inplace=False)\n",
       "    )\n",
       "  )\n",
       "  (clf): Linear(in_features=128, out_features=46, bias=True)\n",
       ")"
      ]
     },
     "execution_count": 67,
     "metadata": {},
     "output_type": "execute_result"
    }
   ],
   "source": [
    "widemel_model = ModelBase(\n",
    "    input_size=[80, 501],\n",
    "    kernel_chanel=128,\n",
    "    conv_out_size=128,\n",
    "    vocab_size=len(full_vocab),\n",
    ")\n",
    "widemel_model.apply(init_weights)\n",
    "\n",
    "optimizer = torch.optim.Adam(widemel_model.parameters(), lr=0.01)\n",
    "\n",
    "widemel_model"
   ]
  },
  {
   "cell_type": "code",
   "execution_count": 68,
   "id": "2779e18b",
   "metadata": {},
   "outputs": [
    {
     "data": {
      "text/plain": [
       "4791"
      ]
     },
     "execution_count": 68,
     "metadata": {},
     "output_type": "execute_result"
    }
   ],
   "source": [
    "import gc\n",
    "\n",
    "gc.collect()"
   ]
  },
  {
   "cell_type": "code",
   "execution_count": null,
   "id": "3fdace2c",
   "metadata": {},
   "outputs": [],
   "source": [
    "%%time \n",
    "widemel_model, widemel_metrics = train_model(\n",
    "    model=widemel_model,\n",
    "    train_loader=train_loader,\n",
    "    optimizer=optimizer,\n",
    "    ctc_loss=loss_ctc,\n",
    "    epochs=50,\n",
    "    metric=edit_distance,\n",
    "    decoder=beam_search_decoder,\n",
    "    tokenizer=tokenizer,\n",
    "    val_loader=val_loader,\n",
    ")"
   ]
  },
  {
   "cell_type": "code",
   "execution_count": 247,
   "id": "cb18159d",
   "metadata": {},
   "outputs": [
    {
     "data": {
      "image/png": "[encoded data removed]",
      "text/plain": [
       "<Figure size 1000x600 with 1 Axes>"
      ]
     },
     "metadata": {},
     "output_type": "display_data"
    }
   ],
   "source": [
    "plot_metrics(\n",
    "    widemel_metrics,\n",
    "    \"Widemel preprocessing\",\n",
    ")"
   ]
  },
  {
   "cell_type": "markdown",
   "id": "16a729d6",
   "metadata": {},
   "source": [
    "Save"
   ]
  },
  {
   "cell_type": "code",
   "execution_count": null,
   "id": "5fc901d2",
   "metadata": {},
   "outputs": [],
   "source": [
    "widemel_model_path = MODELS_DIR / \"widemel_model.pt\"\n",
    "\n",
    "save_model_metrics(\n",
    "    widemel_model, widemel_metrics, widemel_model_path, \"widemel_metrics.json\"\n",
    ")"
   ]
  },
  {
   "cell_type": "markdown",
   "id": "893a5789",
   "metadata": {},
   "source": [
    "### Test"
   ]
  },
  {
   "cell_type": "code",
   "execution_count": null,
   "id": "7af118b3",
   "metadata": {},
   "outputs": [
    {
     "name": "stderr",
     "output_type": "stream",
     "text": [
      "Predicting: 100%|██████████| 157/157 [01:22<00:00,  1.91it/s, Predictions=5000]\n"
     ]
    }
   ],
   "source": [
    "sub_widemel = model_predict(\n",
    "    model=widemel_model,\n",
    "    test_paths=data[\"test\"][\"id\"],\n",
    "    tokenizer=tokenizer,\n",
    "    decoder=beam_search_decoder,\n",
    "    batch_size=32,\n",
    ")"
   ]
  },
  {
   "cell_type": "code",
   "execution_count": 73,
   "id": "3619493a",
   "metadata": {},
   "outputs": [
    {
     "name": "stdout",
     "output_type": "stream",
     "text": [
      "               message\n",
      "id                    \n",
      "30001.opus   ЯЮ6ЛИТЖБШ\n",
      "30002.opus    КЩ В9Ю 9\n",
      "30003.opus     Ы65Ф61Я\n",
      "30004.opus  ЖЖНЖ9РЫНЦ3\n",
      "30005.opus     ЕЙФ4ЮЧЬ\n",
      "...                ...\n",
      "34996.opus            \n",
      "34997.opus            \n",
      "34998.opus            \n",
      "34999.opus            \n",
      "35000.opus      Щ8ЛЕЕС\n",
      "\n",
      "[5000 rows x 1 columns]\n"
     ]
    }
   ],
   "source": [
    "sub_widemel = sub_widemel.set_index(\"id\")\n",
    "print(sub_widemel)\n",
    "sub_widemel.to_csv(os.path.join(DATA_DIR.joinpath(\"submits/widemel_submit.csv\")))"
   ]
  },
  {
   "cell_type": "markdown",
   "id": "6d15656e",
   "metadata": {},
   "source": [
    "**Кажется успешный подход найден. Более четкий сигнал дал ощутимое улучшение**"
   ]
  },
  {
   "cell_type": "markdown",
   "id": "fe9e1815",
   "metadata": {},
   "source": [
    "### Logging Mlflow"
   ]
  },
  {
   "cell_type": "code",
   "execution_count": 249,
   "id": "869a8326",
   "metadata": {},
   "outputs": [
    {
     "data": {
      "text/plain": [
       "{'model': {'type': 'ModelBase',\n",
       "  'input_size': [80, 501],\n",
       "  'kernel_chanel': 128,\n",
       "  'conv_out_size': 128,\n",
       "  'vocab_size': 46,\n",
       "  'init_weights': 'init_weights()'},\n",
       " 'optimizer': {'type': 'Adam', 'lr': 0.01},\n",
       " 'scheduler': {'step_size': '-', 'gamma': '-'},\n",
       " 'transform': {'type': 'path_to_widemel_cached()'},\n",
       " 'decoder': {'type': 'ctc_decoder',\n",
       "  'lexicon': None,\n",
       "  'tokens_count': 46,\n",
       "  'beam_size': 3,\n",
       "  'nbest': 1,\n",
       "  'blank_token': '<blk>'},\n",
       " 'dataloader': {'batch_size': 64, 'num_workers': 0},\n",
       " 'training': {'epochs': 50}}"
      ]
     },
     "execution_count": 249,
     "metadata": {},
     "output_type": "execute_result"
    }
   ],
   "source": [
    "widemel_params = copy.deepcopy(train_params)\n",
    "widemel_params[\"model\"][\"input_size\"] = [80, 501]\n",
    "widemel_params[\"transform\"][\"type\"] = \"path_to_widemel_cached()\"\n",
    "widemel_params"
   ]
  },
  {
   "cell_type": "code",
   "execution_count": 251,
   "id": "9fd3a972",
   "metadata": {},
   "outputs": [
    {
     "data": {
      "text/plain": [
       "{'train_loss': 0.3687, 'val_metric': 0.8594}"
      ]
     },
     "execution_count": 251,
     "metadata": {},
     "output_type": "execute_result"
    }
   ],
   "source": [
    "widemel_final_metrics = {}\n",
    "for key in widemel_metrics:\n",
    "    if len(widemel_metrics[key]) > 0:\n",
    "        widemel_final_metrics[key] = round(widemel_metrics[key][-1], 4)\n",
    "widemel_final_metrics\n"
   ]
  },
  {
   "cell_type": "code",
   "execution_count": 252,
   "id": "8e304dd4",
   "metadata": {},
   "outputs": [
    {
     "name": "stdout",
     "output_type": "stream",
     "text": [
      "MLflow Run ID: b7a9f0aae79f4d63a53e5bffa3f6a82e\n",
      "Starting model logging to MLflow.\n"
     ]
    },
    {
     "name": "stderr",
     "output_type": "stream",
     "text": [
      "2025/04/21 08:29:32 WARNING mlflow.models.model: Model logged without a signature and input example. Please set `input_example` parameter when logging the model to auto infer the model signature.\n",
      "Successfully registered model 'Widemel_base'.\n",
      "2025/04/21 08:29:32 INFO mlflow.store.model_registry.abstract_store: Waiting up to 60 seconds for model version to finish creation. Model name: Widemel_base, version 1\n"
     ]
    },
    {
     "name": "stdout",
     "output_type": "stream",
     "text": [
      "🏃 View run Wide mel at: http://127.0.0.1:8080/#/experiments/1/runs/b7a9f0aae79f4d63a53e5bffa3f6a82e\n",
      "🧪 View experiment at: http://127.0.0.1:8080/#/experiments/1\n"
     ]
    },
    {
     "name": "stderr",
     "output_type": "stream",
     "text": [
      "Created version '1' of model 'Widemel_base'.\n"
     ]
    },
    {
     "data": {
      "text/plain": [
       "{'model_uri': 'runs:/b7a9f0aae79f4d63a53e5bffa3f6a82e/models',\n",
       " 'run_id': 'b7a9f0aae79f4d63a53e5bffa3f6a82e',\n",
       " 'model_name': 'Widemel_base',\n",
       " 'metadata': {'architecture': '1 CNN, 1 RNN, 1 FC'}}"
      ]
     },
     "execution_count": 252,
     "metadata": {},
     "output_type": "execute_result"
    }
   ],
   "source": [
    "log_to_mlflow_torch(\n",
    "    \"Wide mel\",\n",
    "    train_params=widemel_params,\n",
    "    metrics=widemel_final_metrics,\n",
    "    metadata={\"architecture\": \"1 CNN, 1 RNN, 1 FC\"},\n",
    "    registry_model_name=\"Widemel_base\",\n",
    "    fitted_model=widemel_model,\n",
    "    tags={\"stage\": \"widemel\", \"preprocess\": \"full wide melspectr\"},\n",
    ")"
   ]
  },
  {
   "cell_type": "markdown",
   "id": "2bb14046",
   "metadata": {},
   "source": [
    "## More cnn"
   ]
  },
  {
   "cell_type": "markdown",
   "id": "5044fa47",
   "metadata": {},
   "source": [
    "**В данном эксперименте сохраняем предобработку с прошлого шага, но уменьшаем количество mel-бинов до 64 <br> \n",
    "— это позволит немного растянуть сигнал по временной оси. Архитектуру модели расширяем до трёх сверточных слоев <br> \n",
    "с обновлёнными параметрами свёрток, остальные компоненты остаются без изменений**"
   ]
  },
  {
   "cell_type": "markdown",
   "id": "baeed0aa",
   "metadata": {},
   "source": [
    "### Train"
   ]
  },
  {
   "cell_type": "code",
   "execution_count": 33,
   "id": "cb7fa76c",
   "metadata": {},
   "outputs": [],
   "source": [
    "def path_to_mel_cnn_cached(\n",
    "    file_name: str,\n",
    "    audio_files_dir: Path,\n",
    "    cache_dir: Path,\n",
    "    overwrite: bool = False,\n",
    ") -> np.ndarray:\n",
    "    cache_path = cache_dir / (file_name.replace(\".opus\", \".npy\"))\n",
    "\n",
    "    if cache_path.exists() and not overwrite:\n",
    "        return np.load(cache_path)\n",
    "\n",
    "    waveform, sr = torchaudio.load(audio_files_dir / file_name)\n",
    "\n",
    "    mel = torchaudio.transforms.MelSpectrogram(\n",
    "        sample_rate=sr, n_fft=512, hop_length=128, n_mels=64\n",
    "    )(waveform)\n",
    "    mel_db = torchaudio.transforms.AmplitudeToDB(top_db=64)(mel)\n",
    "    mel_db = mel_db.squeeze(0).cpu().numpy()\n",
    "\n",
    "    os.makedirs(cache_dir, exist_ok=True)\n",
    "    np.save(cache_path, mel_db)\n",
    "    return mel_db"
   ]
  },
  {
   "cell_type": "code",
   "execution_count": null,
   "id": "0c92e0d4",
   "metadata": {},
   "outputs": [],
   "source": [
    "class ModelCNN(nn.Module):\n",
    "    def __init__(\n",
    "        self,\n",
    "        input_size: Tuple[int, int],\n",
    "        kernel_chanel: int,\n",
    "        conv_out_size: int,\n",
    "        vocab_size: int,\n",
    "    ):\n",
    "        super().__init__()\n",
    "\n",
    "        self.conv_part = nn.Sequential(\n",
    "            ConvBlock(\n",
    "                in_channels=input_size[0],\n",
    "                out_channels=kernel_chanel,\n",
    "                kernel_size=5,\n",
    "                padding=2,\n",
    "                stride=2,\n",
    "            ),\n",
    "            ConvBlock(\n",
    "                in_channels=kernel_chanel,\n",
    "                out_channels=conv_out_size,\n",
    "                kernel_size=4,\n",
    "                padding=0,\n",
    "                stride=2,\n",
    "            ),\n",
    "            ConvBlock(\n",
    "                in_channels=conv_out_size,\n",
    "                out_channels=conv_out_size,\n",
    "                kernel_size=3,\n",
    "                padding=0,\n",
    "            ),\n",
    "        )\n",
    "\n",
    "        self.rnn_part = nn.Sequential(\n",
    "            LstmBlock(input_size=conv_out_size, hidden_size=64, dropout=0.4),\n",
    "        )\n",
    "\n",
    "        self.clf = nn.Linear(\n",
    "            in_features=64 * 2,\n",
    "            out_features=vocab_size,\n",
    "        )\n",
    "\n",
    "    def forward(self, x):\n",
    "        x = self.conv_part(x)\n",
    "        x = x.transpose(1, 2)\n",
    "        x = self.rnn_part(x)\n",
    "        return self.clf(x)"
   ]
  },
  {
   "cell_type": "code",
   "execution_count": null,
   "id": "09610dfd",
   "metadata": {},
   "outputs": [],
   "source": [
    "beam_search_decoder = ctc_decoder(\n",
    "    lexicon=None,\n",
    "    tokens=list(full_vocab.values()),\n",
    "    beam_size=3,\n",
    "    nbest=1,\n",
    "    blank_token=\"<blk>\",\n",
    ")"
   ]
  },
  {
   "cell_type": "code",
   "execution_count": 34,
   "id": "cd4f3d63",
   "metadata": {},
   "outputs": [
    {
     "name": "stdout",
     "output_type": "stream",
     "text": [
      "{0: '<blk>', 1: '|', 2: ' ', 3: '#', 4: '0', 5: '1', 6: '2', 7: '3', 8: '4', 9: '5', 10: '6', 11: '7', 12: '8', 13: '9', 14: 'А', 15: 'Б', 16: 'В', 17: 'Г', 18: 'Д', 19: 'Е', 20: 'Ж', 21: 'З', 22: 'И', 23: 'Й', 24: 'К', 25: 'Л', 26: 'М', 27: 'Н', 28: 'О', 29: 'П', 30: 'Р', 31: 'С', 32: 'Т', 33: 'У', 34: 'Ф', 35: 'Х', 36: 'Ц', 37: 'Ч', 38: 'Ш', 39: 'Щ', 40: 'Ъ', 41: 'Ы', 42: 'Ь', 43: 'Э', 44: 'Ю', 45: 'Я'}\n",
      "{'<blk>': 0, '|': 1, ' ': 2, '#': 3, '0': 4, '1': 5, '2': 6, '3': 7, '4': 8, '5': 9, '6': 10, '7': 11, '8': 12, '9': 13, 'А': 14, 'Б': 15, 'В': 16, 'Г': 17, 'Д': 18, 'Е': 19, 'Ж': 20, 'З': 21, 'И': 22, 'Й': 23, 'К': 24, 'Л': 25, 'М': 26, 'Н': 27, 'О': 28, 'П': 29, 'Р': 30, 'С': 31, 'Т': 32, 'У': 33, 'Ф': 34, 'Х': 35, 'Ц': 36, 'Ч': 37, 'Ш': 38, 'Щ': 39, 'Ъ': 40, 'Ы': 41, 'Ь': 42, 'Э': 43, 'Ю': 44, 'Я': 45}\n"
     ]
    }
   ],
   "source": [
    "tokenizer = Tokenizer(vocab=full_vocab)\n",
    "\n",
    "print(tokenizer.index_char)\n",
    "print(tokenizer.char_index)\n",
    "\n",
    "transform = partial(\n",
    "    path_to_mel_cnn_cached,\n",
    "    audio_files_dir=AUDIO_FILES_DIR,\n",
    "    cache_dir=Path(\"./mels_cnn_cache\"),\n",
    ")\n"
   ]
  },
  {
   "cell_type": "code",
   "execution_count": null,
   "id": "dc64479b",
   "metadata": {},
   "outputs": [],
   "source": [
    "train_dataset = MorseDataset(\n",
    "    X_filenames=X_train,\n",
    "    y_texts=y_train,\n",
    "    transform=transform,\n",
    "    tokenizer=tokenizer,\n",
    ")\n",
    "\n",
    "train_loader = data_loader(\n",
    "    train_dataset, batch_size=64, shuffle=True, drop_last=True, num_workers=0\n",
    ")\n",
    "\n",
    "val_dataset = MorseDataset(\n",
    "    X_filenames=X_val, y_texts=y_val, transform=transform, tokenizer=tokenizer\n",
    ")\n",
    "val_loader = data_loader(\n",
    "    val_dataset, batch_size=64, shuffle=False, drop_last=True, num_workers=0\n",
    ")"
   ]
  },
  {
   "cell_type": "code",
   "execution_count": 38,
   "id": "2d69bb5e",
   "metadata": {},
   "outputs": [
    {
     "data": {
      "text/plain": [
       "ModelCNN(\n",
       "  (conv_part): Sequential(\n",
       "    (0): ConvBlock(\n",
       "      (conv): Conv1d(64, 80, kernel_size=(5,), stride=(2,), padding=(2,))\n",
       "      (norm): LayerNorm((80,), eps=1e-05, elementwise_affine=True)\n",
       "      (relu): ReLU()\n",
       "    )\n",
       "    (1): ConvBlock(\n",
       "      (conv): Conv1d(80, 64, kernel_size=(4,), stride=(2,))\n",
       "      (norm): LayerNorm((64,), eps=1e-05, elementwise_affine=True)\n",
       "      (relu): ReLU()\n",
       "    )\n",
       "    (2): ConvBlock(\n",
       "      (conv): Conv1d(64, 64, kernel_size=(3,), stride=(1,))\n",
       "      (norm): LayerNorm((64,), eps=1e-05, elementwise_affine=True)\n",
       "      (relu): ReLU()\n",
       "    )\n",
       "  )\n",
       "  (rnn_part): Sequential(\n",
       "    (0): LstmBlock(\n",
       "      (lstm): LSTM(64, 64, num_layers=2, batch_first=True, bidirectional=True)\n",
       "      (norm): LayerNorm((128,), eps=1e-05, elementwise_affine=True)\n",
       "      (drop): Dropout(p=0.4, inplace=False)\n",
       "    )\n",
       "  )\n",
       "  (clf): Linear(in_features=128, out_features=46, bias=True)\n",
       ")"
      ]
     },
     "execution_count": 38,
     "metadata": {},
     "output_type": "execute_result"
    }
   ],
   "source": [
    "cnn_model = ModelCNN(\n",
    "    input_size=[64, 501],\n",
    "    kernel_chanel=80,\n",
    "    conv_out_size=64,\n",
    "    vocab_size=len(full_vocab),\n",
    ")\n",
    "cnn_model.apply(init_weights)\n",
    "\n",
    "optimizer = torch.optim.Adam(cnn_model.parameters(), lr=0.01)\n",
    "\n",
    "cnn_model"
   ]
  },
  {
   "cell_type": "code",
   "execution_count": 262,
   "id": "13e17875",
   "metadata": {},
   "outputs": [
    {
     "data": {
      "text/plain": [
       "14971"
      ]
     },
     "execution_count": 262,
     "metadata": {},
     "output_type": "execute_result"
    }
   ],
   "source": [
    "import gc\n",
    "\n",
    "gc.collect()"
   ]
  },
  {
   "cell_type": "code",
   "execution_count": null,
   "id": "681fe6c9",
   "metadata": {},
   "outputs": [],
   "source": [
    "%%time \n",
    "cnn_model, cnn_metrics = train_model(\n",
    "    model=cnn_model,\n",
    "    train_loader=train_loader,\n",
    "    optimizer=optimizer,\n",
    "    ctc_loss=loss_ctc,\n",
    "    epochs=50,\n",
    "    metric=edit_distance,\n",
    "    decoder=beam_search_decoder,\n",
    "    tokenizer=tokenizer,\n",
    "    val_loader=val_loader,\n",
    ")"
   ]
  },
  {
   "cell_type": "code",
   "execution_count": 40,
   "id": "cd1a833f",
   "metadata": {},
   "outputs": [
    {
     "data": {
      "image/png": "[encoded data removed]",
      "text/plain": [
       "<Figure size 1000x600 with 1 Axes>"
      ]
     },
     "metadata": {},
     "output_type": "display_data"
    }
   ],
   "source": [
    "plot_metrics(\n",
    "    cnn_metrics,\n",
    "    \"More CNN model\",\n",
    ")"
   ]
  },
  {
   "cell_type": "markdown",
   "id": "34183b01",
   "metadata": {},
   "source": [
    "Save"
   ]
  },
  {
   "cell_type": "code",
   "execution_count": null,
   "id": "f94dcae4",
   "metadata": {},
   "outputs": [],
   "source": [
    "cnn_model_path = MODELS_DIR / \"cnn_model.pt\"\n",
    "\n",
    "\n",
    "save_model_metrics(cnn_model, cnn_metrics, cnn_model_path, \"cnn_metrics.json\")"
   ]
  },
  {
   "cell_type": "markdown",
   "id": "ddf5c6d1",
   "metadata": {},
   "source": [
    "**Данный эксперимент дошел примерно до тех же метрик, но сходился чуть дольше,- все еще не идеальный рецепт**"
   ]
  },
  {
   "cell_type": "markdown",
   "id": "0814e20f",
   "metadata": {},
   "source": [
    "### Logging Mlflow"
   ]
  },
  {
   "cell_type": "code",
   "execution_count": 326,
   "id": "8444bd35",
   "metadata": {},
   "outputs": [
    {
     "data": {
      "text/plain": [
       "{'model': {'type': 'ModelCNN',\n",
       "  'input_size': [64, 501],\n",
       "  'kernel_chanel': 80,\n",
       "  'conv_out_size': 64,\n",
       "  'vocab_size': 46,\n",
       "  'init_weights': 'init_weights()'},\n",
       " 'optimizer': {'type': 'Adam', 'lr': 0.01},\n",
       " 'scheduler': {'step_size': '-', 'gamma': '-'},\n",
       " 'transform': {'type': 'path_to_mel_cnn_cached()'},\n",
       " 'decoder': {'type': 'ctc_decoder',\n",
       "  'lexicon': None,\n",
       "  'tokens_count': 46,\n",
       "  'beam_size': 3,\n",
       "  'nbest': 1,\n",
       "  'blank_token': '<blk>'},\n",
       " 'dataloader': {'batch_size': 64, 'num_workers': 0},\n",
       " 'training': {'epochs': 50}}"
      ]
     },
     "execution_count": 326,
     "metadata": {},
     "output_type": "execute_result"
    }
   ],
   "source": [
    "cnn_params = copy.deepcopy(train_params)\n",
    "cnn_params[\"model\"][\"type\"] = \"ModelCNN\"\n",
    "cnn_params[\"model\"][\"input_size\"] = [64, 501]\n",
    "cnn_params[\"model\"][\"kernel_chanel\"] = 80\n",
    "cnn_params[\"model\"][\"conv_out_size\"] = 64\n",
    "cnn_params[\"transform\"][\"type\"] = \"path_to_mel_cnn_cached()\"\n",
    "cnn_params"
   ]
  },
  {
   "cell_type": "code",
   "execution_count": 327,
   "id": "af316675",
   "metadata": {},
   "outputs": [
    {
     "data": {
      "text/plain": [
       "{'train_loss': np.float64(0.5399), 'val_metric': np.float64(1.056)}"
      ]
     },
     "execution_count": 327,
     "metadata": {},
     "output_type": "execute_result"
    }
   ],
   "source": [
    "cnn_final_metrics = {}\n",
    "for key in cnn_metrics:\n",
    "    if len(cnn_metrics[key]) > 0:\n",
    "        cnn_final_metrics[key] = round(cnn_metrics[key][-1], 4)\n",
    "cnn_final_metrics\n"
   ]
  },
  {
   "cell_type": "code",
   "execution_count": 328,
   "id": "a815320b",
   "metadata": {},
   "outputs": [
    {
     "name": "stdout",
     "output_type": "stream",
     "text": [
      "MLflow Run ID: db26bf769fb14a29964f49b7a984c823\n",
      "Starting model logging to MLflow.\n"
     ]
    },
    {
     "name": "stderr",
     "output_type": "stream",
     "text": [
      "2025/04/21 14:45:15 WARNING mlflow.models.model: Model logged without a signature and input example. Please set `input_example` parameter when logging the model to auto infer the model signature.\n",
      "Successfully registered model 'CNN model'.\n",
      "2025/04/21 14:45:15 INFO mlflow.store.model_registry.abstract_store: Waiting up to 60 seconds for model version to finish creation. Model name: CNN model, version 1\n"
     ]
    },
    {
     "name": "stdout",
     "output_type": "stream",
     "text": [
      "🏃 View run CNN mel64 at: http://127.0.0.1:8080/#/experiments/1/runs/db26bf769fb14a29964f49b7a984c823\n",
      "🧪 View experiment at: http://127.0.0.1:8080/#/experiments/1\n"
     ]
    },
    {
     "name": "stderr",
     "output_type": "stream",
     "text": [
      "Created version '1' of model 'CNN model'.\n"
     ]
    },
    {
     "data": {
      "text/plain": [
       "{'model_uri': 'runs:/db26bf769fb14a29964f49b7a984c823/models',\n",
       " 'run_id': 'db26bf769fb14a29964f49b7a984c823',\n",
       " 'model_name': 'CNN model',\n",
       " 'metadata': {'architecture': '3 CNN, 1 RNN, 1 FC'}}"
      ]
     },
     "execution_count": 328,
     "metadata": {},
     "output_type": "execute_result"
    }
   ],
   "source": [
    "log_to_mlflow_torch(\n",
    "    \"CNN mel64\",\n",
    "    train_params=cnn_params,\n",
    "    metrics=cnn_final_metrics,\n",
    "    metadata={\"architecture\": \"3 CNN, 1 RNN, 1 FC\"},\n",
    "    registry_model_name=\"CNN model\",\n",
    "    fitted_model=cnn_model,\n",
    "    tags={\"stage\": \"more CNN\", \"preprocess\": \"full wide melspectr64\"},\n",
    ")"
   ]
  },
  {
   "cell_type": "code",
   "execution_count": null,
   "id": "34c5b31f",
   "metadata": {},
   "outputs": [],
   "source": []
  },
  {
   "cell_type": "code",
   "execution_count": null,
   "id": "4160065f",
   "metadata": {},
   "outputs": [],
   "source": []
  },
  {
   "cell_type": "markdown",
   "id": "190f930d",
   "metadata": {},
   "source": [
    "\n",
    "## Boost, prune & more cnn\n"
   ]
  },
  {
   "cell_type": "markdown",
   "id": "9f0cac61",
   "metadata": {},
   "source": [
    "**В данном эксперименте пробуем сделать предобработку более тщательной: используем мел-спектрограммы с окном 512, шагом 128 и 64 мел-бинами, <br> \n",
    "после чего возводим спектрограмму в степень, нормализуем и оставляем диапазон в 20 мел-бинов вокруг самого мощного сигнала. <br> \n",
    "Архитектуру модели сохраняем с тремя сверточными блоками, но немного уменьшаем их параметры — входные данные теперь меньше по размеру.**"
   ]
  },
  {
   "cell_type": "markdown",
   "id": "80c23d3d",
   "metadata": {},
   "source": [
    "### Train"
   ]
  },
  {
   "cell_type": "code",
   "execution_count": 80,
   "id": "79356fe6",
   "metadata": {},
   "outputs": [],
   "source": [
    "def path_to_blackmel_cached(\n",
    "    file_name: str,\n",
    "    audio_files_dir: Path,\n",
    "    cache_dir: Path,\n",
    "    overwrite: bool = False,\n",
    ") -> np.ndarray:\n",
    "    cache_path = cache_dir / (file_name.replace(\".opus\", \".npy\"))\n",
    "\n",
    "    if cache_path.exists() and not overwrite:\n",
    "        return np.load(cache_path)\n",
    "\n",
    "    waveform, sr = torchaudio.load(audio_files_dir / file_name)\n",
    "\n",
    "    mel = torchaudio.transforms.MelSpectrogram(\n",
    "        sample_rate=sr, n_fft=512, hop_length=128, n_mels=64\n",
    "    )(waveform)\n",
    "    boost_mel = mel**5\n",
    "    boost_mel = boost_mel / boost_mel.max()\n",
    "    mel_db = torchaudio.transforms.AmplitudeToDB(top_db=64)(boost_mel)\n",
    "    mel_db = mel_db.squeeze(0).cpu().numpy()\n",
    "\n",
    "    peak = np.argmax(mel_db.mean(axis=1))\n",
    "    start = max(peak - 10, 0)\n",
    "    end = min(peak + 10, mel_db.shape[0])\n",
    "    fresh_mel = mel_db[start:end]\n",
    "\n",
    "    os.makedirs(cache_dir, exist_ok=True)\n",
    "    np.save(cache_path, fresh_mel)\n",
    "    return fresh_mel"
   ]
  },
  {
   "cell_type": "code",
   "execution_count": null,
   "id": "fc92732d",
   "metadata": {},
   "outputs": [],
   "source": [
    "class ModelCNN_small(nn.Module):\n",
    "    def __init__(\n",
    "        self,\n",
    "        input_size: Tuple[int, int],\n",
    "        kernel_chanel: int,\n",
    "        conv_out_size: int,\n",
    "        vocab_size: int,\n",
    "    ):\n",
    "        super().__init__()\n",
    "\n",
    "        self.conv_part = nn.Sequential(\n",
    "            ConvBlock(\n",
    "                in_channels=input_size[0],\n",
    "                out_channels=kernel_chanel,\n",
    "                kernel_size=5,\n",
    "                padding=2,\n",
    "                stride=2,\n",
    "            ),\n",
    "            ConvBlock(\n",
    "                in_channels=kernel_chanel,\n",
    "                out_channels=conv_out_size,\n",
    "                kernel_size=4,\n",
    "                padding=0,\n",
    "                stride=2,\n",
    "            ),\n",
    "            ConvBlock(\n",
    "                in_channels=conv_out_size,\n",
    "                out_channels=conv_out_size,\n",
    "                kernel_size=3,\n",
    "                padding=0,\n",
    "            ),\n",
    "        )\n",
    "\n",
    "        self.rnn_part = nn.Sequential(\n",
    "            LstmBlock(input_size=conv_out_size, hidden_size=64, dropout=0.4),\n",
    "        )\n",
    "\n",
    "        self.clf = nn.Linear(\n",
    "            in_features=64 * 2,\n",
    "            out_features=vocab_size,\n",
    "        )\n",
    "\n",
    "    def forward(self, x):\n",
    "        x = self.conv_part(x)\n",
    "        x = x.transpose(1, 2)\n",
    "        x = self.rnn_part(x)\n",
    "        return self.clf(x)"
   ]
  },
  {
   "cell_type": "code",
   "execution_count": null,
   "id": "d2130886",
   "metadata": {},
   "outputs": [],
   "source": [
    "beam_search_decoder = ctc_decoder(\n",
    "    lexicon=None,\n",
    "    tokens=list(full_vocab.values()),\n",
    "    beam_size=3,\n",
    "    nbest=1,\n",
    "    blank_token=\"<blk>\",\n",
    ")"
   ]
  },
  {
   "cell_type": "code",
   "execution_count": 133,
   "id": "5ad14996",
   "metadata": {},
   "outputs": [
    {
     "name": "stdout",
     "output_type": "stream",
     "text": [
      "{0: '<blk>', 1: '|', 2: ' ', 3: '#', 4: '0', 5: '1', 6: '2', 7: '3', 8: '4', 9: '5', 10: '6', 11: '7', 12: '8', 13: '9', 14: 'А', 15: 'Б', 16: 'В', 17: 'Г', 18: 'Д', 19: 'Е', 20: 'Ж', 21: 'З', 22: 'И', 23: 'Й', 24: 'К', 25: 'Л', 26: 'М', 27: 'Н', 28: 'О', 29: 'П', 30: 'Р', 31: 'С', 32: 'Т', 33: 'У', 34: 'Ф', 35: 'Х', 36: 'Ц', 37: 'Ч', 38: 'Ш', 39: 'Щ', 40: 'Ъ', 41: 'Ы', 42: 'Ь', 43: 'Э', 44: 'Ю', 45: 'Я'}\n",
      "{'<blk>': 0, '|': 1, ' ': 2, '#': 3, '0': 4, '1': 5, '2': 6, '3': 7, '4': 8, '5': 9, '6': 10, '7': 11, '8': 12, '9': 13, 'А': 14, 'Б': 15, 'В': 16, 'Г': 17, 'Д': 18, 'Е': 19, 'Ж': 20, 'З': 21, 'И': 22, 'Й': 23, 'К': 24, 'Л': 25, 'М': 26, 'Н': 27, 'О': 28, 'П': 29, 'Р': 30, 'С': 31, 'Т': 32, 'У': 33, 'Ф': 34, 'Х': 35, 'Ц': 36, 'Ч': 37, 'Ш': 38, 'Щ': 39, 'Ъ': 40, 'Ы': 41, 'Ь': 42, 'Э': 43, 'Ю': 44, 'Я': 45}\n"
     ]
    }
   ],
   "source": [
    "tokenizer = Tokenizer(vocab=full_vocab)\n",
    "\n",
    "print(tokenizer.index_char)\n",
    "print(tokenizer.char_index)\n",
    "\n",
    "transform = partial(\n",
    "    path_to_blackmel_cached,\n",
    "    audio_files_dir=AUDIO_FILES_DIR,\n",
    "    cache_dir=Path(\"./blackmels_cnn_cache\"),\n",
    ")\n"
   ]
  },
  {
   "cell_type": "code",
   "execution_count": null,
   "id": "d8ae32ec",
   "metadata": {},
   "outputs": [],
   "source": [
    "train_dataset = MorseDataset(\n",
    "    X_filenames=X_train,\n",
    "    y_texts=y_train,\n",
    "    transform=transform,\n",
    "    tokenizer=tokenizer,\n",
    ")\n",
    "\n",
    "train_loader = data_loader(\n",
    "    train_dataset, batch_size=64, shuffle=True, drop_last=True, num_workers=0\n",
    ")\n",
    "\n",
    "val_dataset = MorseDataset(\n",
    "    X_filenames=X_val, y_texts=y_val, transform=transform, tokenizer=tokenizer\n",
    ")\n",
    "val_loader = data_loader(\n",
    "    val_dataset, batch_size=64, shuffle=False, drop_last=True, num_workers=0\n",
    ")"
   ]
  },
  {
   "cell_type": "code",
   "execution_count": null,
   "id": "7430cddf",
   "metadata": {},
   "outputs": [
    {
     "data": {
      "text/plain": [
       "ModelCNN(\n",
       "  (conv_part): Sequential(\n",
       "    (0): ConvBlock(\n",
       "      (conv): Conv1d(20, 32, kernel_size=(5,), stride=(2,), padding=(2,))\n",
       "      (norm): LayerNorm((32,), eps=1e-05, elementwise_affine=True)\n",
       "      (relu): ReLU()\n",
       "    )\n",
       "    (1): ConvBlock(\n",
       "      (conv): Conv1d(32, 64, kernel_size=(4,), stride=(2,))\n",
       "      (norm): LayerNorm((64,), eps=1e-05, elementwise_affine=True)\n",
       "      (relu): ReLU()\n",
       "    )\n",
       "    (2): ConvBlock(\n",
       "      (conv): Conv1d(64, 64, kernel_size=(3,), stride=(1,))\n",
       "      (norm): LayerNorm((64,), eps=1e-05, elementwise_affine=True)\n",
       "      (relu): ReLU()\n",
       "    )\n",
       "  )\n",
       "  (rnn_part): Sequential(\n",
       "    (0): LstmBlock(\n",
       "      (lstm): LSTM(64, 64, num_layers=2, batch_first=True, bidirectional=True)\n",
       "      (norm): LayerNorm((128,), eps=1e-05, elementwise_affine=True)\n",
       "      (drop): Dropout(p=0.4, inplace=False)\n",
       "    )\n",
       "  )\n",
       "  (clf): Linear(in_features=128, out_features=46, bias=True)\n",
       ")"
      ]
     },
     "execution_count": 140,
     "metadata": {},
     "output_type": "execute_result"
    }
   ],
   "source": [
    "cnn_blackmel_model = ModelCNN_small(\n",
    "    input_size=[20, 501],\n",
    "    kernel_chanel=32,\n",
    "    conv_out_size=64,\n",
    "    vocab_size=len(full_vocab),\n",
    ")\n",
    "torch.manual_seed(SEED)\n",
    "cnn_blackmel_model.apply(init_weights)\n",
    "\n",
    "optimizer = torch.optim.Adam(cnn_blackmel_model.parameters(), lr=0.005)\n",
    "\n",
    "step_lr = lr_scheduler.StepLR(optimizer, step_size=10, gamma=0.5)\n",
    "\n",
    "cnn_blackmel_model"
   ]
  },
  {
   "cell_type": "code",
   "execution_count": 227,
   "id": "f1a0b889",
   "metadata": {},
   "outputs": [
    {
     "data": {
      "text/plain": [
       "4408"
      ]
     },
     "execution_count": 227,
     "metadata": {},
     "output_type": "execute_result"
    }
   ],
   "source": [
    "import gc\n",
    "\n",
    "gc.collect()"
   ]
  },
  {
   "cell_type": "code",
   "execution_count": null,
   "id": "b803a789",
   "metadata": {},
   "outputs": [],
   "source": [
    "%%time \n",
    "cnn_blackmel_model, cnn_blackmel_metrics = train_model(\n",
    "    model=cnn_blackmel_model,\n",
    "    train_loader=train_loader,\n",
    "    optimizer=optimizer,\n",
    "    ctc_loss=loss_ctc,\n",
    "    epochs=35,\n",
    "    metric=edit_distance,\n",
    "    decoder=beam_search_decoder,\n",
    "    tokenizer=tokenizer,\n",
    "    val_loader=val_loader,\n",
    "    scheduler=step_lr,\n",
    ")"
   ]
  },
  {
   "cell_type": "code",
   "execution_count": 143,
   "id": "0120a0ec",
   "metadata": {},
   "outputs": [
    {
     "data": {
      "image/png": "[encoded data removed]",
      "text/plain": [
       "<Figure size 1000x600 with 1 Axes>"
      ]
     },
     "metadata": {},
     "output_type": "display_data"
    }
   ],
   "source": [
    "plot_metrics(\n",
    "    cnn_blackmel_metrics,\n",
    "    \"BlackMel CNN model\",\n",
    ")"
   ]
  },
  {
   "cell_type": "markdown",
   "id": "33089ae2",
   "metadata": {},
   "source": [
    "Save"
   ]
  },
  {
   "cell_type": "code",
   "execution_count": null,
   "id": "10613e4b",
   "metadata": {},
   "outputs": [],
   "source": [
    "cnn_blackmel_path = MODELS_DIR / \"cnn_blackmel_model.pt\"\n",
    "\n",
    "save_model_metrics(\n",
    "    cnn_blackmel_model,\n",
    "    cnn_blackmel_metrics,\n",
    "    cnn_blackmel_path,\n",
    "    \"cnn_blackmel_metrics.json\",\n",
    ")"
   ]
  },
  {
   "cell_type": "markdown",
   "id": "7c69bb99",
   "metadata": {},
   "source": [
    "**Модифицированная предобработка и обновлённая архитектура модели продемонстрировали значительное улучшение: модель достигла уровня Character Error Rate (CER) 0.36 на валидационной выборке и на тестовой улучшила результат до 0.52. Это лучший результат на текущем этапе экспериментов.**"
   ]
  },
  {
   "cell_type": "markdown",
   "id": "d1f1d480",
   "metadata": {},
   "source": [
    "### Test"
   ]
  },
  {
   "cell_type": "code",
   "execution_count": null,
   "id": "02e37bab",
   "metadata": {},
   "outputs": [
    {
     "name": "stderr",
     "output_type": "stream",
     "text": [
      "Predicting: 100%|██████████| 157/157 [01:11<00:00,  2.19it/s, Predictions=5000]\n"
     ]
    }
   ],
   "source": [
    "sub_cnn_blackmel = model_predict(\n",
    "    model=cnn_blackmel_model,\n",
    "    test_paths=data[\"test\"][\"id\"],\n",
    "    tokenizer=tokenizer,\n",
    "    decoder=beam_search_decoder,\n",
    "    batch_size=32,\n",
    ")"
   ]
  },
  {
   "cell_type": "code",
   "execution_count": null,
   "id": "45a92e85",
   "metadata": {},
   "outputs": [],
   "source": [
    "sub_cnn_blackmel = sub_cnn_blackmel.set_index(\"id\")\n",
    "print(sub_cnn_blackmel)\n",
    "sub_cnn_blackmel.to_csv(\n",
    "    os.path.join(DATA_DIR.joinpath(\"submits/cnn_blackmel_submit.csv\"))\n",
    ")"
   ]
  },
  {
   "cell_type": "code",
   "execution_count": 148,
   "id": "62ce309d",
   "metadata": {},
   "outputs": [
    {
     "data": {
      "text/html": [
       "<div>\n",
       "<style scoped>\n",
       "    .dataframe tbody tr th:only-of-type {\n",
       "        vertical-align: middle;\n",
       "    }\n",
       "\n",
       "    .dataframe tbody tr th {\n",
       "        vertical-align: top;\n",
       "    }\n",
       "\n",
       "    .dataframe thead th {\n",
       "        text-align: right;\n",
       "    }\n",
       "</style>\n",
       "<table border=\"1\" class=\"dataframe\">\n",
       "  <thead>\n",
       "    <tr style=\"text-align: right;\">\n",
       "      <th></th>\n",
       "      <th>message</th>\n",
       "    </tr>\n",
       "    <tr>\n",
       "      <th>id</th>\n",
       "      <th></th>\n",
       "    </tr>\n",
       "  </thead>\n",
       "  <tbody>\n",
       "    <tr>\n",
       "      <th>30001.opus</th>\n",
       "      <td>ЯЮ6ЛИТЖБШ</td>\n",
       "    </tr>\n",
       "    <tr>\n",
       "      <th>30002.opus</th>\n",
       "      <td>КЩ В9Ю 9</td>\n",
       "    </tr>\n",
       "    <tr>\n",
       "      <th>30003.opus</th>\n",
       "      <td>Ы65Ф61Я</td>\n",
       "    </tr>\n",
       "    <tr>\n",
       "      <th>30004.opus</th>\n",
       "      <td>ЖЖНЖ9РЫНЦ3</td>\n",
       "    </tr>\n",
       "    <tr>\n",
       "      <th>30005.opus</th>\n",
       "      <td>ЕЯФ4ЮЧЬ</td>\n",
       "    </tr>\n",
       "    <tr>\n",
       "      <th>...</th>\n",
       "      <td>...</td>\n",
       "    </tr>\n",
       "    <tr>\n",
       "      <th>34996.opus</th>\n",
       "      <td>ОРСКС ИЛ ДАСДП ЬСОЕМУАТИ ЕНБАЛ КНРТЕАЛШ ВДМУНЕ...</td>\n",
       "    </tr>\n",
       "    <tr>\n",
       "      <th>34997.opus</th>\n",
       "      <td>СЧТИ СЕЬКСЭП ЮН ДНИМ4НОМЕТЫПАЛ ЖТЫАСР</td>\n",
       "    </tr>\n",
       "    <tr>\n",
       "      <th>34998.opus</th>\n",
       "      <td>ТОЫМ ДЛ ЬСЧТЫНТЕТ ДТКАГЕПОЦ В4СБ НН</td>\n",
       "    </tr>\n",
       "    <tr>\n",
       "      <th>34999.opus</th>\n",
       "      <td>ОДТЕ ОСЫАЯНЮНКМЕ ЧМЮАП РНЧВ4Г</td>\n",
       "    </tr>\n",
       "    <tr>\n",
       "      <th>35000.opus</th>\n",
       "      <td>ТЯ ЬТКТВН</td>\n",
       "    </tr>\n",
       "  </tbody>\n",
       "</table>\n",
       "<p>5000 rows × 1 columns</p>\n",
       "</div>"
      ],
      "text/plain": [
       "                                                      message\n",
       "id                                                           \n",
       "30001.opus                                          ЯЮ6ЛИТЖБШ\n",
       "30002.opus                                           КЩ В9Ю 9\n",
       "30003.opus                                            Ы65Ф61Я\n",
       "30004.opus                                         ЖЖНЖ9РЫНЦ3\n",
       "30005.opus                                            ЕЯФ4ЮЧЬ\n",
       "...                                                       ...\n",
       "34996.opus  ОРСКС ИЛ ДАСДП ЬСОЕМУАТИ ЕНБАЛ КНРТЕАЛШ ВДМУНЕ...\n",
       "34997.opus              СЧТИ СЕЬКСЭП ЮН ДНИМ4НОМЕТЫПАЛ ЖТЫАСР\n",
       "34998.opus                ТОЫМ ДЛ ЬСЧТЫНТЕТ ДТКАГЕПОЦ В4СБ НН\n",
       "34999.opus                      ОДТЕ ОСЫАЯНЮНКМЕ ЧМЮАП РНЧВ4Г\n",
       "35000.opus                                          ТЯ ЬТКТВН\n",
       "\n",
       "[5000 rows x 1 columns]"
      ]
     },
     "execution_count": 148,
     "metadata": {},
     "output_type": "execute_result"
    }
   ],
   "source": [
    "sub_cnn_blackmel"
   ]
  },
  {
   "cell_type": "markdown",
   "id": "0e231862",
   "metadata": {},
   "source": [
    "### Logging Mlflow"
   ]
  },
  {
   "cell_type": "code",
   "execution_count": 329,
   "id": "6d3b6b28",
   "metadata": {},
   "outputs": [
    {
     "data": {
      "text/plain": [
       "{'model': {'type': 'ModelBase',\n",
       "  'input_size': [80, 251],\n",
       "  'kernel_chanel': 128,\n",
       "  'conv_out_size': 128,\n",
       "  'vocab_size': 46,\n",
       "  'init_weights': 'init_weights()'},\n",
       " 'optimizer': {'type': 'Adam', 'lr': 0.01},\n",
       " 'scheduler': {'step_size': '-', 'gamma': '-'},\n",
       " 'transform': {'type': 'path_to_melspect_cached()'},\n",
       " 'decoder': {'type': 'ctc_decoder',\n",
       "  'lexicon': None,\n",
       "  'tokens_count': 46,\n",
       "  'beam_size': 3,\n",
       "  'nbest': 1,\n",
       "  'blank_token': '<blk>'},\n",
       " 'dataloader': {'batch_size': 64, 'num_workers': 0},\n",
       " 'training': {'epochs': 50}}"
      ]
     },
     "execution_count": 329,
     "metadata": {},
     "output_type": "execute_result"
    }
   ],
   "source": [
    "train_params"
   ]
  },
  {
   "cell_type": "code",
   "execution_count": 330,
   "id": "2ce849cd",
   "metadata": {},
   "outputs": [
    {
     "data": {
      "text/plain": [
       "{'model': {'type': 'ModelCNN_small',\n",
       "  'input_size': [20, 501],\n",
       "  'kernel_chanel': 32,\n",
       "  'conv_out_size': 64,\n",
       "  'vocab_size': 46,\n",
       "  'init_weights': 'init_weights()'},\n",
       " 'optimizer': {'type': 'Adam', 'lr': 0.01},\n",
       " 'scheduler': {'step_size': '-', 'gamma': '-'},\n",
       " 'transform': {'type': 'path_to_blackmel_cached()'},\n",
       " 'decoder': {'type': 'ctc_decoder',\n",
       "  'lexicon': None,\n",
       "  'tokens_count': 46,\n",
       "  'beam_size': 3,\n",
       "  'nbest': 1,\n",
       "  'blank_token': '<blk>'},\n",
       " 'dataloader': {'batch_size': 64, 'num_workers': 0},\n",
       " 'training': {'epochs': 35}}"
      ]
     },
     "execution_count": 330,
     "metadata": {},
     "output_type": "execute_result"
    }
   ],
   "source": [
    "cnn_blackmel_params = copy.deepcopy(train_params)\n",
    "cnn_blackmel_params[\"model\"][\"type\"] = \"ModelCNN_small\"\n",
    "cnn_blackmel_params[\"model\"][\"input_size\"] = [20, 501]\n",
    "cnn_blackmel_params[\"model\"][\"kernel_chanel\"] = 32\n",
    "cnn_blackmel_params[\"model\"][\"conv_out_size\"] = 64\n",
    "cnn_blackmel_params[\"transform\"][\"type\"] = \"path_to_blackmel_cached()\"\n",
    "cnn_blackmel_params[\"training\"][\"epochs\"] = 35\n",
    "cnn_blackmel_params"
   ]
  },
  {
   "cell_type": "code",
   "execution_count": 331,
   "id": "b79b9b60",
   "metadata": {},
   "outputs": [
    {
     "data": {
      "text/plain": [
       "{'train_loss': np.float64(0.1039), 'val_metric': np.float64(0.36)}"
      ]
     },
     "execution_count": 331,
     "metadata": {},
     "output_type": "execute_result"
    }
   ],
   "source": [
    "cnn_blackmel_final_metrics = {}\n",
    "for key in cnn_blackmel_metrics:\n",
    "    if len(cnn_blackmel_metrics[key]) > 0:\n",
    "        cnn_blackmel_final_metrics[key] = round(cnn_blackmel_metrics[key][-1], 4)\n",
    "cnn_blackmel_final_metrics\n"
   ]
  },
  {
   "cell_type": "code",
   "execution_count": 333,
   "id": "c56175e0",
   "metadata": {},
   "outputs": [
    {
     "name": "stdout",
     "output_type": "stream",
     "text": [
      "MLflow Run ID: b2a2b106c9594ba38f1f57dbcaa2d840\n",
      "Starting model logging to MLflow.\n"
     ]
    },
    {
     "name": "stderr",
     "output_type": "stream",
     "text": [
      "2025/04/21 14:59:14 WARNING mlflow.models.model: Model logged without a signature and input example. Please set `input_example` parameter when logging the model to auto infer the model signature.\n",
      "Successfully registered model 'CNN_small blackmel20'.\n",
      "2025/04/21 14:59:14 INFO mlflow.store.model_registry.abstract_store: Waiting up to 60 seconds for model version to finish creation. Model name: CNN_small blackmel20, version 1\n"
     ]
    },
    {
     "name": "stdout",
     "output_type": "stream",
     "text": [
      "🏃 View run CNN small blackmel20 at: http://127.0.0.1:8080/#/experiments/1/runs/b2a2b106c9594ba38f1f57dbcaa2d840\n",
      "🧪 View experiment at: http://127.0.0.1:8080/#/experiments/1\n"
     ]
    },
    {
     "name": "stderr",
     "output_type": "stream",
     "text": [
      "Created version '1' of model 'CNN_small blackmel20'.\n"
     ]
    },
    {
     "data": {
      "text/plain": [
       "{'model_uri': 'runs:/b2a2b106c9594ba38f1f57dbcaa2d840/models',\n",
       " 'run_id': 'b2a2b106c9594ba38f1f57dbcaa2d840',\n",
       " 'model_name': 'CNN_small blackmel20',\n",
       " 'metadata': {'architecture': '3 CNN, 1 RNN, 1 FC'}}"
      ]
     },
     "execution_count": 333,
     "metadata": {},
     "output_type": "execute_result"
    }
   ],
   "source": [
    "log_to_mlflow_torch(\n",
    "    \"CNN small blackmel20\",\n",
    "    train_params=cnn_blackmel_params,\n",
    "    metrics=cnn_blackmel_final_metrics,\n",
    "    metadata={\"architecture\": \"3 CNN, 1 RNN, 1 FC\"},\n",
    "    registry_model_name=\"CNN_small blackmel20\",\n",
    "    fitted_model=cnn_blackmel_model,\n",
    "    tags={\"stage\": \"small CNN\", \"preprocess\": \"black melspectr20\"},\n",
    ")"
   ]
  },
  {
   "cell_type": "code",
   "execution_count": null,
   "id": "71aca8ed",
   "metadata": {},
   "outputs": [],
   "source": []
  },
  {
   "cell_type": "markdown",
   "id": "6223b5ad",
   "metadata": {},
   "source": [
    "## Tune params"
   ]
  },
  {
   "cell_type": "markdown",
   "id": "05b4d6f4",
   "metadata": {},
   "source": [
    "**В данном разделе попробуем улучшить предыдущий подход за счет подбора гиперпараметров процесса обучения и архитектуры модели с помощью optuna**"
   ]
  },
  {
   "cell_type": "markdown",
   "id": "230f2213",
   "metadata": {},
   "source": [
    "Пересоздадим класс модели для подбора идеальной архитектуры и подготовим функции для запуска подбора параметров."
   ]
  },
  {
   "cell_type": "code",
   "execution_count": null,
   "id": "c4498b98",
   "metadata": {},
   "outputs": [],
   "source": [
    "class ModelTuneCNN(nn.Module):\n",
    "    def __init__(\n",
    "        self,\n",
    "        input_size: Tuple[int, int],\n",
    "        kernel_chanel: int,\n",
    "        conv_out_size: int,\n",
    "        kernel_size1: int,\n",
    "        kernel_size2: int,\n",
    "        kernel_size3: int,\n",
    "        stride2: int,\n",
    "        lstm_hidden_size: int,\n",
    "        vocab_size: int,\n",
    "    ):\n",
    "        super().__init__()\n",
    "\n",
    "        self.conv_part = nn.Sequential(\n",
    "            ConvBlock(\n",
    "                in_channels=input_size[0],\n",
    "                out_channels=kernel_chanel,\n",
    "                kernel_size=kernel_size1,\n",
    "                padding=2,\n",
    "                stride=2,\n",
    "            ),\n",
    "            ConvBlock(\n",
    "                in_channels=kernel_chanel,\n",
    "                out_channels=conv_out_size,\n",
    "                kernel_size=kernel_size2,\n",
    "                padding=0,\n",
    "                stride=stride2,\n",
    "            ),\n",
    "            ConvBlock(\n",
    "                in_channels=conv_out_size,\n",
    "                out_channels=conv_out_size,\n",
    "                kernel_size=kernel_size3,\n",
    "                padding=0,\n",
    "            ),\n",
    "        )\n",
    "\n",
    "        self.rnn_part = nn.Sequential(\n",
    "            LstmBlock(\n",
    "                input_size=conv_out_size, hidden_size=lstm_hidden_size, dropout=0.4\n",
    "            )\n",
    "        )\n",
    "\n",
    "        self.clf = nn.Linear(\n",
    "            in_features=lstm_hidden_size * 2,\n",
    "            out_features=vocab_size,\n",
    "        )\n",
    "\n",
    "    def forward(self, x):\n",
    "        x = self.conv_part(x)\n",
    "        x = x.transpose(1, 2)\n",
    "        x = self.rnn_part(x)\n",
    "        return self.clf(x)"
   ]
  },
  {
   "cell_type": "code",
   "execution_count": 78,
   "id": "8c216aae",
   "metadata": {},
   "outputs": [],
   "source": [
    "def get_params(trial):\n",
    "    return {\n",
    "        \"model\": {\n",
    "            \"kernel_chanel\": trial.suggest_categorical(\n",
    "                \"model.kernel_chanel\", [16, 32, 64]\n",
    "            ),\n",
    "            \"conv_out_size\": trial.suggest_categorical(\n",
    "                \"model.conv_out_size\", [32, 64, 128]\n",
    "            ),\n",
    "            \"lstm_hidden_size\": trial.suggest_categorical(\n",
    "                \"model.lstm_hidden_size\", [32, 64, 128]\n",
    "            ),\n",
    "            \"kernel_size1\": trial.suggest_int(\"model.kernel_size1\", 3, 7, step=2),\n",
    "            \"kernel_size2\": trial.suggest_int(\"model.kernel_size2\", 3, 7, step=2),\n",
    "            \"kernel_size3\": trial.suggest_int(\"model.kernel_size3\", 3, 5, step=2),\n",
    "            \"stride2\": trial.suggest_int(\"model.stride2\", 1, 2),\n",
    "        },\n",
    "        \"optimizer\": {\n",
    "            \"type\": trial.suggest_categorical(\"optimizer.type\", [\"Adam\", \"AdamW\"]),\n",
    "            \"lr\": trial.suggest_float(\"optimizer.lr\", 1e-4, 1e-2, log=True),\n",
    "            \"weight_decay\": trial.suggest_float(\"optimizer.weight_decay\", 1e-5, 1e-2),\n",
    "        },\n",
    "        \"scheduler\": {\n",
    "            \"gamma\": trial.suggest_float(\"scheduler.gamma\", 0.1, 0.5),\n",
    "        },\n",
    "        \"decoder\": {\n",
    "            \"beam_size\": trial.suggest_int(\"decoder.beam_size\", 3, 5),\n",
    "        },\n",
    "    }"
   ]
  },
  {
   "cell_type": "code",
   "execution_count": 74,
   "id": "b8d0e315",
   "metadata": {},
   "outputs": [],
   "source": [
    "def objective(trial: optuna.Trial) -> float:\n",
    "    trial_params = get_params(trial)\n",
    "\n",
    "    model = ModelTuneCNN(\n",
    "        input_size=[20, 501],\n",
    "        kernel_chanel=trial_params[\"model\"][\"kernel_chanel\"],\n",
    "        conv_out_size=trial_params[\"model\"][\"conv_out_size\"],\n",
    "        lstm_hidden_size=trial_params[\"model\"][\"lstm_hidden_size\"],\n",
    "        kernel_size1=trial_params[\"model\"][\"kernel_size1\"],\n",
    "        kernel_size2=trial_params[\"model\"][\"kernel_size2\"],\n",
    "        kernel_size3=trial_params[\"model\"][\"kernel_size3\"],\n",
    "        stride2=trial_params[\"model\"][\"stride2\"],\n",
    "        vocab_size=len(full_vocab),\n",
    "    )\n",
    "\n",
    "    torch.manual_seed(SEED)\n",
    "    model.apply(init_weights)\n",
    "\n",
    "    optimizer_class = getattr(torch.optim, trial_params[\"optimizer\"][\"type\"])\n",
    "    optimizer = optimizer_class(\n",
    "        model.parameters(),\n",
    "        lr=trial_params[\"optimizer\"][\"lr\"],\n",
    "        weight_decay=trial_params[\"optimizer\"][\"weight_decay\"],\n",
    "    )\n",
    "    step_lr = lr_scheduler.StepLR(\n",
    "        optimizer, step_size=7, gamma=trial_params[\"scheduler\"][\"gamma\"]\n",
    "    )\n",
    "\n",
    "    beam_search_decoder = ctc_decoder(\n",
    "        lexicon=None,\n",
    "        tokens=list(full_vocab.values()),\n",
    "        beam_size=trial_params[\"decoder\"][\"beam_size\"],\n",
    "        nbest=1,\n",
    "        blank_token=\"<blk>\",\n",
    "    )\n",
    "\n",
    "    model, metrics = train_model(\n",
    "        model=model,\n",
    "        train_loader=train_loader,\n",
    "        optimizer=optimizer,\n",
    "        ctc_loss=loss_ctc,\n",
    "        epochs=21,\n",
    "        metric=edit_distance,\n",
    "        decoder=beam_search_decoder,\n",
    "        tokenizer=tokenizer,\n",
    "        val_loader=val_loader,\n",
    "        scheduler=step_lr,\n",
    "    )\n",
    "\n",
    "    val_levenshtein = metrics.get(\"val_metric\", float(\"inf\"))[-1]\n",
    "    print(f\"Trial {trial.number} finished with val_metric {val_levenshtein:.4f}\")\n",
    "\n",
    "    return val_levenshtein"
   ]
  },
  {
   "cell_type": "code",
   "execution_count": 75,
   "id": "f3f72be8",
   "metadata": {},
   "outputs": [],
   "source": [
    "def run_optuna(\n",
    "    run_name: str,\n",
    "    study_name: str,\n",
    "    study_db_name: str,\n",
    "    n_trials: int,\n",
    "):\n",
    "    experiment = mlflow.get_experiment_by_name(EXPERIMENT_NAME)\n",
    "    if experiment is None:\n",
    "        raise ValueError(f\"Experiment '{EXPERIMENT_NAME}' не найден.\")\n",
    "    experiment_id = experiment.experiment_id\n",
    "\n",
    "    with mlflow.start_run(run_name=run_name, experiment_id=experiment_id) as run:\n",
    "        run_id = run.info.run_id\n",
    "\n",
    "        from mlflow.utils.mlflow_tags import MLFLOW_PARENT_RUN_ID\n",
    "\n",
    "        mlflc = MLflowCallback(\n",
    "            tracking_uri=f\"http://{TRACKING_SERVER_HOST}:{TRACKING_SERVER_PORT}\",\n",
    "            metric_name=\"val_metric\",\n",
    "            create_experiment=False,\n",
    "            mlflow_kwargs={\n",
    "                \"experiment_id\": experiment_id,\n",
    "                \"tags\": {MLFLOW_PARENT_RUN_ID: run_id},\n",
    "                \"nested\": True,\n",
    "            },\n",
    "        )\n",
    "\n",
    "        sampler = TPESampler(seed=SEED)\n",
    "        study = optuna.create_study(\n",
    "            sampler=sampler,\n",
    "            direction=\"minimize\",\n",
    "            study_name=study_name,\n",
    "            storage=study_db_name,\n",
    "        )\n",
    "\n",
    "        study.optimize(\n",
    "            objective,\n",
    "            n_trials=n_trials,\n",
    "            show_progress_bar=True,\n",
    "            callbacks=[mlflc],\n",
    "        )\n",
    "\n",
    "        best_params = study.best_params\n",
    "        validation_score = study.best_value\n",
    "\n",
    "        print(f\"Best params: {best_params}\")\n",
    "        print(f\"Best validation Levenshtein: {validation_score:.4f}\")\n",
    "\n",
    "        mlflow.log_params(best_params)\n",
    "        mlflow.log_metric(\"val_metric\", validation_score)\n",
    "        mlflow.set_tags(\n",
    "            {\n",
    "                \"model\": \"ModelTuneCNN\",\n",
    "                \"stage\": \"optuna_tuning\",\n",
    "                \"preprocess\": \"black mel20\",\n",
    "                \"best_trial_number\": study.best_trial.number,\n",
    "            }\n",
    "        )\n",
    "\n",
    "        return best_params"
   ]
  },
  {
   "cell_type": "markdown",
   "id": "6312bc5d",
   "metadata": {},
   "source": [
    "Инициализируем привычные переменные и начнем обучение"
   ]
  },
  {
   "cell_type": "code",
   "execution_count": 81,
   "id": "62bd62db",
   "metadata": {},
   "outputs": [],
   "source": [
    "tokenizer = Tokenizer(vocab=full_vocab)\n",
    "\n",
    "transform = partial(\n",
    "    path_to_blackmel_cached,\n",
    "    audio_files_dir=AUDIO_FILES_DIR,\n",
    "    cache_dir=Path(\"./blackmels_cnn_cache\"),\n",
    ")\n",
    "\n",
    "train_dataset = MorseDataset(\n",
    "    X_filenames=X_train,\n",
    "    y_texts=y_train,\n",
    "    transform=transform,\n",
    "    tokenizer=tokenizer,\n",
    ")\n",
    "\n",
    "train_loader = data_loader(\n",
    "    train_dataset, batch_size=64, shuffle=True, drop_last=True, num_workers=0\n",
    ")\n",
    "\n",
    "val_dataset = MorseDataset(\n",
    "    X_filenames=X_val, y_texts=y_val, transform=transform, tokenizer=tokenizer\n",
    ")\n",
    "val_loader = data_loader(\n",
    "    val_dataset, batch_size=64, shuffle=False, drop_last=True, num_workers=0\n",
    ")"
   ]
  },
  {
   "cell_type": "code",
   "execution_count": null,
   "id": "6142c251",
   "metadata": {},
   "outputs": [],
   "source": [
    "best_params = run_optuna(\n",
    "    \"cnn_lstm_tune_all_v1\",\n",
    "    \"Optuna tuning1\",\n",
    "    STUDY_DB_URI,\n",
    "    n_trials=10,\n",
    ")"
   ]
  },
  {
   "cell_type": "code",
   "execution_count": null,
   "id": "e043d246",
   "metadata": {},
   "outputs": [
    {
     "data": {
      "text/plain": [
       "{'model.kernel_chanel': 32,\n",
       " 'model.conv_out_size': 128,\n",
       " 'model.lstm_hidden_size': 64,\n",
       " 'model.kernel_size1': 5,\n",
       " 'model.kernel_size2': 3,\n",
       " 'model.kernel_size3': 3,\n",
       " 'model.stride2': 2,\n",
       " 'optimizer.type': 'AdamW',\n",
       " 'optimizer.lr': 0.0017903849250388514,\n",
       " 'optimizer.weight_decay': 0.006820975005011723,\n",
       " 'scheduler.gamma': 0.320902725494864,\n",
       " 'decoder.beam_size': 3}"
      ]
     },
     "metadata": {},
     "output_type": "display_data"
    }
   ],
   "source": [
    "best_params"
   ]
  },
  {
   "cell_type": "markdown",
   "id": "54ce7f84",
   "metadata": {},
   "source": [
    "**После выполнения оптимизации гиперпараметров с помощью Optuna и анализа результатов через MLflow UI, стало очевидно, что наилучшие параметры были получены на первом запуске. В дальнейшем модель не смогла улучшить достигнутые метрики, что может указывать на недостаточное количество прогонов (всего 10). Тем не менее, нам удалось улучшить метрику CER до 0.347 на валидации, что является улучшением по сравнению с предыдущими результатами.**"
   ]
  },
  {
   "cell_type": "markdown",
   "id": "3fcfa62a",
   "metadata": {},
   "source": [
    "## Full train best params model"
   ]
  },
  {
   "cell_type": "markdown",
   "id": "1c1a5f90",
   "metadata": {},
   "source": [
    "**На данном этапе мы обучим модель с использованием полученного набора лучших параметров, используя все доступные данные (обучающие + валидационные). <br>\n",
    "После завершения обучения, модель будет протестирована на тестовом наборе данных для финальной оценки её производительности.**"
   ]
  },
  {
   "cell_type": "markdown",
   "id": "bf6e8a1c",
   "metadata": {},
   "source": [
    "### Train"
   ]
  },
  {
   "cell_type": "code",
   "execution_count": 256,
   "id": "3765d885",
   "metadata": {},
   "outputs": [
    {
     "data": {
      "text/plain": [
       "{'model.kernel_chanel': 32,\n",
       " 'model.conv_out_size': 128,\n",
       " 'model.lstm_hidden_size': 64,\n",
       " 'model.kernel_size1': 5,\n",
       " 'model.kernel_size2': 3,\n",
       " 'model.kernel_size3': 3,\n",
       " 'model.stride2': 2,\n",
       " 'optimizer.type': 'AdamW',\n",
       " 'optimizer.lr': 0.0017903849250388514,\n",
       " 'optimizer.weight_decay': 0.006820975005011723,\n",
       " 'scheduler.gamma': 0.320902725494864,\n",
       " 'decoder.beam_size': 3}"
      ]
     },
     "execution_count": 256,
     "metadata": {},
     "output_type": "execute_result"
    }
   ],
   "source": [
    "best_params"
   ]
  },
  {
   "cell_type": "code",
   "execution_count": null,
   "id": "bb2aaf24",
   "metadata": {},
   "outputs": [],
   "source": [
    "beam_search_decoder = ctc_decoder(\n",
    "    lexicon=None,\n",
    "    tokens=list(full_vocab.values()),\n",
    "    beam_size=5,\n",
    "    nbest=1,\n",
    "    blank_token=\"<blk>\",\n",
    ")\n",
    "tokenizer = Tokenizer(vocab=full_vocab)\n",
    "\n",
    "transform = partial(\n",
    "    path_to_blackmel_cached,\n",
    "    audio_files_dir=AUDIO_FILES_DIR,\n",
    "    cache_dir=Path(\"./blackmels_cnn_cache\"),\n",
    ")"
   ]
  },
  {
   "cell_type": "code",
   "execution_count": 260,
   "id": "78d86811",
   "metadata": {},
   "outputs": [],
   "source": [
    "full_train_dataset = MorseDataset(\n",
    "    X_filenames=data[\"train\"][\"id\"],\n",
    "    y_texts=data[\"train\"][\"message\"],\n",
    "    transform=transform,\n",
    "    tokenizer=tokenizer,\n",
    ")\n",
    "\n",
    "full_train_loader = data_loader(\n",
    "    full_train_dataset, batch_size=64, shuffle=True, drop_last=True, num_workers=0\n",
    ")\n"
   ]
  },
  {
   "cell_type": "code",
   "execution_count": 261,
   "id": "f1961631",
   "metadata": {},
   "outputs": [
    {
     "data": {
      "text/plain": [
       "ModelTuneCNN(\n",
       "  (conv_part): Sequential(\n",
       "    (0): ConvBlock(\n",
       "      (conv): Conv1d(20, 32, kernel_size=(5,), stride=(2,), padding=(2,))\n",
       "      (norm): LayerNorm((32,), eps=1e-05, elementwise_affine=True)\n",
       "      (relu): ReLU()\n",
       "    )\n",
       "    (1): ConvBlock(\n",
       "      (conv): Conv1d(32, 128, kernel_size=(3,), stride=(2,))\n",
       "      (norm): LayerNorm((128,), eps=1e-05, elementwise_affine=True)\n",
       "      (relu): ReLU()\n",
       "    )\n",
       "    (2): ConvBlock(\n",
       "      (conv): Conv1d(128, 128, kernel_size=(3,), stride=(1,))\n",
       "      (norm): LayerNorm((128,), eps=1e-05, elementwise_affine=True)\n",
       "      (relu): ReLU()\n",
       "    )\n",
       "  )\n",
       "  (rnn_part): Sequential(\n",
       "    (0): LstmBlock(\n",
       "      (lstm): LSTM(128, 64, num_layers=2, batch_first=True, bidirectional=True)\n",
       "      (norm): LayerNorm((128,), eps=1e-05, elementwise_affine=True)\n",
       "      (drop): Dropout(p=0.4, inplace=False)\n",
       "    )\n",
       "  )\n",
       "  (clf): Linear(in_features=128, out_features=46, bias=True)\n",
       ")"
      ]
     },
     "execution_count": 261,
     "metadata": {},
     "output_type": "execute_result"
    }
   ],
   "source": [
    "final_model = ModelTuneCNN(\n",
    "    input_size=[20, 501],\n",
    "    kernel_chanel=best_params[\"model.kernel_chanel\"],\n",
    "    conv_out_size=best_params[\"model.conv_out_size\"],\n",
    "    lstm_hidden_size=best_params[\"model.lstm_hidden_size\"],\n",
    "    kernel_size1=best_params[\"model.kernel_size1\"],\n",
    "    kernel_size2=best_params[\"model.kernel_size2\"],\n",
    "    kernel_size3=best_params[\"model.kernel_size3\"],\n",
    "    stride2=best_params[\"model.stride2\"],\n",
    "    vocab_size=len(full_vocab),\n",
    ")\n",
    "torch.manual_seed(SEED)\n",
    "final_model.apply(init_weights)\n",
    "\n",
    "optimizer = torch.optim.AdamW(\n",
    "    final_model.parameters(),\n",
    "    lr=best_params[\"optimizer.lr\"],\n",
    "    weight_decay=best_params[\"optimizer.weight_decay\"],\n",
    ")\n",
    "\n",
    "step_lr = lr_scheduler.StepLR(\n",
    "    optimizer, step_size=7, gamma=best_params[\"scheduler.gamma\"]\n",
    ")\n",
    "\n",
    "final_model"
   ]
  },
  {
   "cell_type": "code",
   "execution_count": null,
   "id": "a6526d77",
   "metadata": {},
   "outputs": [],
   "source": [
    "%%time \n",
    "final_model, final_metrics = train_model(\n",
    "    model=final_model,\n",
    "    train_loader=full_train_loader,\n",
    "    optimizer=optimizer,\n",
    "    ctc_loss=loss_ctc,\n",
    "    epochs=50,\n",
    "    metric=edit_distance,\n",
    "    decoder=beam_search_decoder,\n",
    "    tokenizer=tokenizer,\n",
    "    scheduler=step_lr,\n",
    ")"
   ]
  },
  {
   "cell_type": "markdown",
   "id": "39b4e101",
   "metadata": {},
   "source": [
    "### Save"
   ]
  },
  {
   "cell_type": "code",
   "execution_count": null,
   "id": "0be8c6bb",
   "metadata": {},
   "outputs": [],
   "source": [
    "final_metrics.update({\"val_metric\": []})"
   ]
  },
  {
   "cell_type": "code",
   "execution_count": null,
   "id": "ab81e635",
   "metadata": {},
   "outputs": [],
   "source": [
    "final_path = MODELS_DIR / \"final_model.pt\"\n",
    "\n",
    "save_model_metrics(\n",
    "    final_model,\n",
    "    final_metrics,\n",
    "    final_path,\n",
    "    \"final_metrics.json\",\n",
    ")"
   ]
  },
  {
   "cell_type": "markdown",
   "id": "0d1347a9",
   "metadata": {},
   "source": [
    "### Logging Mlflow"
   ]
  },
  {
   "cell_type": "code",
   "execution_count": 335,
   "id": "53aebe54",
   "metadata": {},
   "outputs": [
    {
     "data": {
      "text/plain": [
       "{'model': {'type': 'ModelTuneCNN',\n",
       "  'input_size': [20, 501],\n",
       "  'kernel_chanel': 32,\n",
       "  'conv_out_size': 128,\n",
       "  'vocab_size': 46,\n",
       "  'init_weights': 'init_weights()'},\n",
       " 'optimizer': {'type': 'AdamW', 'lr': 0.0017903849250388514},\n",
       " 'scheduler': {'step_size': 7, 'gamma': 0.320902725494864},\n",
       " 'transform': {'type': 'path_to_blackmel_cached()'},\n",
       " 'decoder': {'type': 'ctc_decoder',\n",
       "  'lexicon': None,\n",
       "  'tokens_count': 46,\n",
       "  'beam_size': 5,\n",
       "  'nbest': 1,\n",
       "  'blank_token': '<blk>'},\n",
       " 'dataloader': {'batch_size': 64, 'num_workers': 0},\n",
       " 'training': {'epochs': 50}}"
      ]
     },
     "execution_count": 335,
     "metadata": {},
     "output_type": "execute_result"
    }
   ],
   "source": [
    "final_tune_params = copy.deepcopy(train_params)\n",
    "final_tune_params[\"model\"][\"type\"] = \"ModelTuneCNN\"\n",
    "final_tune_params[\"model\"][\"input_size\"] = [20, 501]\n",
    "final_tune_params[\"model\"][\"kernel_chanel\"] = best_params[\"model.kernel_chanel\"]\n",
    "final_tune_params[\"model\"][\"conv_out_size\"] = best_params[\"model.conv_out_size\"]\n",
    "final_tune_params[\"optimizer\"][\"type\"] = best_params[\"optimizer.type\"]\n",
    "final_tune_params[\"optimizer\"][\"lr\"] = best_params[\"optimizer.lr\"]\n",
    "final_tune_params[\"scheduler\"][\"step_size\"] = 7\n",
    "final_tune_params[\"decoder\"][\"beam_size\"] = 5\n",
    "final_tune_params[\"scheduler\"][\"gamma\"] = best_params[\"scheduler.gamma\"]\n",
    "final_tune_params[\"transform\"][\"type\"] = \"path_to_blackmel_cached()\"\n",
    "final_tune_params[\"training\"][\"epochs\"] = 50\n",
    "final_tune_params"
   ]
  },
  {
   "cell_type": "code",
   "execution_count": 336,
   "id": "f9659fa5",
   "metadata": {},
   "outputs": [
    {
     "data": {
      "text/plain": [
       "{'train_loss': np.float64(0.0976)}"
      ]
     },
     "execution_count": 336,
     "metadata": {},
     "output_type": "execute_result"
    }
   ],
   "source": [
    "log_final_metrics = {}\n",
    "for key in final_metrics:\n",
    "    if len(final_metrics[key]) > 0:\n",
    "        log_final_metrics[key] = round(final_metrics[key][-1], 4)\n",
    "log_final_metrics\n"
   ]
  },
  {
   "cell_type": "code",
   "execution_count": 337,
   "id": "78581dfc",
   "metadata": {},
   "outputs": [
    {
     "name": "stdout",
     "output_type": "stream",
     "text": [
      "MLflow Run ID: deba6a6dff46449ca405892d2ad254f8\n",
      "Starting model logging to MLflow.\n"
     ]
    },
    {
     "name": "stderr",
     "output_type": "stream",
     "text": [
      "2025/04/21 15:29:21 WARNING mlflow.models.model: Model logged without a signature and input example. Please set `input_example` parameter when logging the model to auto infer the model signature.\n",
      "Successfully registered model 'CNN tune blackmel20'.\n",
      "2025/04/21 15:29:21 INFO mlflow.store.model_registry.abstract_store: Waiting up to 60 seconds for model version to finish creation. Model name: CNN tune blackmel20, version 1\n"
     ]
    },
    {
     "name": "stdout",
     "output_type": "stream",
     "text": [
      "🏃 View run CNN tune blackmel20 at: http://127.0.0.1:8080/#/experiments/1/runs/deba6a6dff46449ca405892d2ad254f8\n",
      "🧪 View experiment at: http://127.0.0.1:8080/#/experiments/1\n"
     ]
    },
    {
     "name": "stderr",
     "output_type": "stream",
     "text": [
      "Created version '1' of model 'CNN tune blackmel20'.\n"
     ]
    },
    {
     "data": {
      "text/plain": [
       "{'model_uri': 'runs:/deba6a6dff46449ca405892d2ad254f8/models',\n",
       " 'run_id': 'deba6a6dff46449ca405892d2ad254f8',\n",
       " 'model_name': 'CNN tune blackmel20',\n",
       " 'metadata': {'architecture': '3 CNN, 1 RNN, 1 FC'}}"
      ]
     },
     "execution_count": 337,
     "metadata": {},
     "output_type": "execute_result"
    }
   ],
   "source": [
    "log_to_mlflow_torch(\n",
    "    \"CNN tune blackmel20\",\n",
    "    train_params=final_tune_params,\n",
    "    metrics=log_final_metrics,\n",
    "    metadata={\"architecture\": \"3 CNN, 1 RNN, 1 FC\"},\n",
    "    registry_model_name=\"CNN tune blackmel20\",\n",
    "    fitted_model=final_model,\n",
    "    tags={\"stage\": \"final tune CNN\", \"preprocess\": \"black melspectr20\"},\n",
    ")"
   ]
  },
  {
   "cell_type": "code",
   "execution_count": null,
   "id": "892df879",
   "metadata": {},
   "outputs": [],
   "source": []
  },
  {
   "cell_type": "markdown",
   "id": "addfa26d",
   "metadata": {},
   "source": [
    "### Test"
   ]
  },
  {
   "cell_type": "code",
   "execution_count": null,
   "id": "f8c5c258",
   "metadata": {},
   "outputs": [
    {
     "name": "stderr",
     "output_type": "stream",
     "text": [
      "Predicting: 100%|██████████| 157/157 [00:21<00:00,  7.29it/s, Predictions=5000]\n"
     ]
    }
   ],
   "source": [
    "final_sub = model_predict(\n",
    "    model=final_model,\n",
    "    test_paths=data[\"test\"][\"id\"],\n",
    "    tokenizer=tokenizer,\n",
    "    decoder=beam_search_decoder,\n",
    "    batch_size=32,\n",
    ")"
   ]
  },
  {
   "cell_type": "code",
   "execution_count": 309,
   "id": "6aaddbd0",
   "metadata": {},
   "outputs": [],
   "source": [
    "final_sub = final_sub.set_index(\"id\")\n",
    "final_sub.to_csv(os.path.join(DATA_DIR.joinpath(\"submits/final_submit.csv\")))"
   ]
  },
  {
   "cell_type": "markdown",
   "id": "624b2d4b",
   "metadata": {},
   "source": [
    "### Конец "
   ]
  },
  {
   "cell_type": "markdown",
   "id": "8c294474",
   "metadata": {},
   "source": [
    "**Модель успешно обучена, результаты получены. Метрика на тесте 0.46895**"
   ]
  },
  {
   "cell_type": "markdown",
   "id": "bbf521cb",
   "metadata": {},
   "source": [
    "### Decoding by LLM (справочно)"
   ]
  },
  {
   "cell_type": "markdown",
   "id": "1f09ff74",
   "metadata": {},
   "source": [
    "Осталось только одна нерешенная задача - длинные фрагменты звука, которые так и остались не расшифрованы.\n",
    "\n",
    " В связи с отсутствием времени отдадим эту работу на субподряд.(Gemini 2.5 Pro)"
   ]
  },
  {
   "cell_type": "code",
   "execution_count": null,
   "id": "777c4d65",
   "metadata": {},
   "outputs": [
    {
     "data": {
      "text/plain": [
       "id\n",
       "34983.opus                                                           5УМ0АОНЮ 4\n",
       "34984.opus                                                    ДАМАМТ ОТИНСЫ АМЦ\n",
       "34985.opus                 Л ЬСВЕДТКЧВНТИ ЯМ#МЫМЮНЯМЦ ЮТИЫМ ЬТКТЧМЫН ЬЫМРГЗ ЕПГ\n",
       "34986.opus                                      АНХ ЪОЕГЬ Р ВЫДАМИНКШМДНИ ГКНЖК\n",
       "34987.opus                    ИЛ ДАСДП ЬСОЕМУНТИ ИГВКСОЕП ЬКСХЫСУС ХНУ ЮН ХНУСИ\n",
       "34988.opus                                                 ЕТЬТКП ДСЯНКМЫОЦ ИМК\n",
       "34989.opus                                                  КОЬКМ СОЫМОП ЬСЮНВМ\n",
       "34990.opus           ИЛ ЬСОЕНДМЫМ ЙЫНУС ЙЫМЧАТУС ЬКТДЛХТ ЫМЖАЛШ ДЛУСВ М ЧТЫНАМБ\n",
       "34991.opus                                      ИЛ ДАСДП ОСЮЪЫМ НЮЙГРГУТЫТУКНЩН\n",
       "34992.opus                          АС ТТ ИИПТИГЖЛПМЦ УС НПОСОЗЕАЗ ЫКАСВЕПМИ8ЫС\n",
       "34993.opus                                ОЫДЛ НЫЛАТЕТ ЗС Ь МЫБАТ ЕСЕРЫЕНАМЕТТП\n",
       "34994.opus                           АН ЖНОЕ3 ЬТЫВНЖМ ГЬЫМ3ААСБ АН 75 РЫСЯМРЫСД\n",
       "34995.opus    ОДЦЮП ЬСВВТКЧМДЬТЕОЦ ДКГЖАГЗ АТГЕСИМИЛИМ ЬНЫПЯНИМ АНХМШ СЬТКНЕКСД\n",
       "34996.opus                   ОРСКС ИЛ ДАСДП ЬСОЕМУАТИ ЕНБАЛ КНРТЕАЛШ ВДМУНЕТЫТБ\n",
       "34997.opus                                  БСЧТИ СЕЬКБП ЮН ДНИ7ЬНОМЕТЫПЛЖТЫАСР\n",
       "34998.opus                                  ТОЫМ ДЛ ЬСЧТЫНТЕТ ДТКАГЕПОЦ ВССБ НН\n",
       "34999.opus                                         ОДТЕ 9ЫАЯНВНКМЕ ЧМЮАП РНЧВСГ\n",
       "35000.opus                                                            ТЯ ЬТКТВН\n",
       "Name: message, dtype: object"
      ]
     },
     "execution_count": 310,
     "metadata": {},
     "output_type": "execute_result"
    }
   ],
   "source": [
    "pd.set_option(\"display.max_colwidth\", 100)\n",
    "final_sub.tail(18)[\"message\"]"
   ]
  },
  {
   "cell_type": "markdown",
   "id": "b9a4e5dc",
   "metadata": {},
   "source": [
    "Глупо ругать LLM, когда сам не смог или не успел. Но результаты получились следующие:"
   ]
  },
  {
   "cell_type": "code",
   "execution_count": null,
   "id": "70a4f311",
   "metadata": {},
   "outputs": [],
   "source": [
    "decode_list = [\n",
    "    \"ЗАПРОС ОТВЕТА ВАС\",\n",
    "    \"Я ПОЛУЧИЛ ВАШ СИГНАЛ ОТВЕТЬТЕ СРОЧНО\",\n",
    "    \"КТО ЗДЕСЬ Я ПЕРЕДАЮ СООБЩЕНИЕ\",\n",
    "    \"МЫ ВИДИМ ПОСЛАНИЕ ПРИЕМНИК ЭТО НЕ ТО\",\n",
    "    \"ПОВТОР ПРИНИМАЕТЕ МЫ\",\n",
    "    \"АУДИО ОТВЕТА ЖДЕМ ВАС\",\n",
    "    \"МЫ ПОЛУЧИЛИ ВАШЕ СООБЩЕНИЕ ПЕРЕДАТЬ ИНФОРМАЦИЮ\",\n",
    "    \"МЫ ВИДИМ СООБЩЕНИЕ НЕРАЗБОРЧИВО\",\n",
    "    \"НА ЭТОЙ ЧАСТОТЕ МЫ ПЫТАЕМСЯ СВЯЗАТЬСЯ\",\n",
    "    \"СИЛЫ КОНЧАЮТСЯ НА ЭТОЙ ПЛАНЕТЕ\",\n",
    "    \"НА СВЯЗИ ЗЕМЛЯНЕ ПОСЛЕ 75 ЛЕТ МОЛЧАНИЯ\",\n",
    "    \"ПОДДЕРЖИВАЕТСЯ СВЯЗЬ НАШИХ ОПЕРАТОРОВ\",\n",
    "    \"СКОРО МЫ СНОВА ПОЛУЧИМ НОВЫЕ ПАРАМЕТРЫ\",\n",
    "    \"ГОТОВЫ ОТКРЫТЬ ДОЛГОЖДАННЫЙ ОТВЕТ\",\n",
    "    \"ЕСЛИ ВЫ ПОТЕРЯЕТЕ СВЯЗЬ СНОВА СООБЩЕНИЕ\",\n",
    "    \"ОТВЕТ ДЕВЯТЫЙ КАНАЛ СРОЧНО\",\n",
    "    \"Я ОТВЕТИЛ\",\n",
    "]"
   ]
  },
  {
   "cell_type": "markdown",
   "id": "d48deb7c",
   "metadata": {},
   "source": [
    "Выглядит более осмысленно, но все еще подозрительно. Метрика немного улучшилась. Порадуемся и этому."
   ]
  },
  {
   "cell_type": "code",
   "execution_count": 313,
   "id": "da1ffc83",
   "metadata": {},
   "outputs": [
    {
     "data": {
      "text/plain": [
       "id\n",
       "34983.opus                                        5УМ0АОНЮ 4\n",
       "34984.opus                                 ЗАПРОС ОТВЕТА ВАС\n",
       "34985.opus              Я ПОЛУЧИЛ ВАШ СИГНАЛ ОТВЕТЬТЕ СРОЧНО\n",
       "34986.opus                     КТО ЗДЕСЬ Я ПЕРЕДАЮ СООБЩЕНИЕ\n",
       "34987.opus              МЫ ВИДИМ ПОСЛАНИЕ ПРИЕМНИК ЭТО НЕ ТО\n",
       "34988.opus                              ПОВТОР ПРИНИМАЕТЕ МЫ\n",
       "34989.opus                             АУДИО ОТВЕТА ЖДЕМ ВАС\n",
       "34990.opus    МЫ ПОЛУЧИЛИ ВАШЕ СООБЩЕНИЕ ПЕРЕДАТЬ ИНФОРМАЦИЮ\n",
       "34991.opus                   МЫ ВИДИМ СООБЩЕНИЕ НЕРАЗБОРЧИВО\n",
       "34992.opus             НА ЭТОЙ ЧАСТОТЕ МЫ ПЫТАЕМСЯ СВЯЗАТЬСЯ\n",
       "34993.opus                    СИЛЫ КОНЧАЮТСЯ НА ЭТОЙ ПЛАНЕТЕ\n",
       "34994.opus            НА СВЯЗИ ЗЕМЛЯНЕ ПОСЛЕ 75 ЛЕТ МОЛЧАНИЯ\n",
       "34995.opus             ПОДДЕРЖИВАЕТСЯ СВЯЗЬ НАШИХ ОПЕРАТОРОВ\n",
       "34996.opus            СКОРО МЫ СНОВА ПОЛУЧИМ НОВЫЕ ПАРАМЕТРЫ\n",
       "34997.opus                 ГОТОВЫ ОТКРЫТЬ ДОЛГОЖДАННЫЙ ОТВЕТ\n",
       "34998.opus           ЕСЛИ ВЫ ПОТЕРЯЕТЕ СВЯЗЬ СНОВА СООБЩЕНИЕ\n",
       "34999.opus                        ОТВЕТ ДЕВЯТЫЙ КАНАЛ СРОЧНО\n",
       "35000.opus                                         Я ОТВЕТИЛ\n",
       "Name: message, dtype: object"
      ]
     },
     "execution_count": 313,
     "metadata": {},
     "output_type": "execute_result"
    }
   ],
   "source": [
    "decod_sub = copy.deepcopy(final_sub)\n",
    "decod_sub.loc[decod_sub.tail(17).index, \"message\"] = decode_list\n",
    "decod_sub.tail(18)[\"message\"]\n"
   ]
  },
  {
   "cell_type": "code",
   "execution_count": 316,
   "id": "af42af4c",
   "metadata": {},
   "outputs": [],
   "source": [
    "decod_sub.to_csv(os.path.join(DATA_DIR.joinpath(\"submits/decod_submit.csv\")))"
   ]
  }
 ],
 "metadata": {
  "kernelspec": {
   "display_name": ".venv_morse",
   "language": "python",
   "name": "python3"
  },
  "language_info": {
   "codemirror_mode": {
    "name": "ipython",
    "version": 3
   },
   "file_extension": ".py",
   "mimetype": "text/x-python",
   "name": "python",
   "nbconvert_exporter": "python",
   "pygments_lexer": "ipython3",
   "version": "3.10.11"
  }
 },
 "nbformat": 4,
 "nbformat_minor": 5
}
